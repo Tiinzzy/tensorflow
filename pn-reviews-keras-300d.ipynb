{
 "cells": [
  {
   "cell_type": "code",
   "execution_count": 2,
   "id": "c3b989be-1340-4ff4-a65e-153c1671ba7e",
   "metadata": {},
   "outputs": [
    {
     "name": "stderr",
     "output_type": "stream",
     "text": [
      "2023-09-15 19:06:44.866786: I tensorflow/tsl/cuda/cudart_stub.cc:28] Could not find cuda drivers on your machine, GPU will not be used.\n",
      "2023-09-15 19:06:45.037310: I tensorflow/tsl/cuda/cudart_stub.cc:28] Could not find cuda drivers on your machine, GPU will not be used.\n",
      "2023-09-15 19:06:45.037905: I tensorflow/core/platform/cpu_feature_guard.cc:182] This TensorFlow binary is optimized to use available CPU instructions in performance-critical operations.\n",
      "To enable the following instructions: AVX2 FMA, in other operations, rebuild TensorFlow with the appropriate compiler flags.\n",
      "2023-09-15 19:06:46.257140: W tensorflow/compiler/tf2tensorrt/utils/py_utils.cc:38] TF-TRT Warning: Could not find TensorRT\n"
     ]
    }
   ],
   "source": [
    "import os\n",
    "import re\n",
    "import numpy as np\n",
    "import pandas as pd\n",
    "import tensorflow as tf\n",
    "from keras.preprocessing.sequence import pad_sequences\n",
    "from keras import models, layers"
   ]
  },
  {
   "cell_type": "code",
   "execution_count": 3,
   "id": "93dc7560-8a60-4317-a3a2-8d6f04f7b43d",
   "metadata": {},
   "outputs": [],
   "source": [
    "num_threads = 5\n",
    "os.environ[\"OMP_NUM_THREADS\"] = \"5\"\n",
    "os.environ[\"TF_NUM_INTRAOP_THREADS\"] = \"5\"\n",
    "os.environ[\"TF_NUM_INTEROP_THREADS\"] = \"5\"\n",
    "tf.config.threading.set_inter_op_parallelism_threads(num_threads)\n",
    "tf.config.threading.set_intra_op_parallelism_threads(num_threads)\n",
    "tf.config.set_soft_device_placement(True)"
   ]
  },
  {
   "cell_type": "code",
   "execution_count": 14,
   "id": "de14a15c-ce62-4c67-a5f4-6a4488287ad8",
   "metadata": {},
   "outputs": [],
   "source": [
    "MAX_WORDS_IN_SENTENCE = 500\n",
    "WORD2VEC_DIMENSIONS = 100\n",
    "CSV_PATH = './data/reviews-dataset.csv'"
   ]
  },
  {
   "cell_type": "code",
   "execution_count": 15,
   "id": "70e7961e-877f-470e-8588-b92f1761d85c",
   "metadata": {},
   "outputs": [],
   "source": [
    "embeddings_index = {}\n",
    "with open('/home/tina/Downloads/glove.6B.100d.txt') as f:\n",
    "    for line in f:\n",
    "        values = line.split()\n",
    "        word = values[0]\n",
    "        coefs = np.asarray(values[1:], dtype='float32')\n",
    "        embeddings_index[word] = coefs"
   ]
  },
  {
   "cell_type": "code",
   "execution_count": 17,
   "id": "acef51f4-223c-43f6-8694-862621f63da7",
   "metadata": {},
   "outputs": [],
   "source": [
    "def clean_dataframe(df):\n",
    "    cleaned_df = df.copy()\n",
    "    pattern = r'[^a-zA-Z\\s]'\n",
    "    cleaned_df['text'] = cleaned_df['text'].apply(lambda x: re.sub(pattern, '', x))\n",
    "    \n",
    "    return cleaned_df"
   ]
  },
  {
   "cell_type": "code",
   "execution_count": 18,
   "id": "55aa1258-c77b-4595-a039-7f245d826dff",
   "metadata": {},
   "outputs": [],
   "source": [
    "def text_to_word_vectors(text, vector_space_dimension):    \n",
    "    sentence_vectors = []\n",
    "    for word in text.lower().split():\n",
    "        if word in embeddings_index and len(sentence_vectors) < MAX_WORDS_IN_SENTENCE:\n",
    "            sentence_vectors.append(embeddings_index[word])    \n",
    "    if len(sentence_vectors) > 0:\n",
    "        pad_len = vector_space_dimension-len(sentence_vectors)      \n",
    "        if pad_len > 0:\n",
    "            padding = [np.zeros_like(sentence_vectors[0])] * pad_len\n",
    "            sentence_vectors = sentence_vectors + padding\n",
    "    return sentence_vectors"
   ]
  },
  {
   "cell_type": "code",
   "execution_count": 19,
   "id": "cb12c767-4e6b-494a-a5f0-96ec31ecd3a4",
   "metadata": {},
   "outputs": [],
   "source": [
    "dataset = pd.read_csv(CSV_PATH)\n",
    "dataset = clean_dataframe(dataset)\n",
    "texts = dataset['text'].astype(str)\n",
    "dataset['vlen'] = [len(text_to_word_vectors(t, MAX_WORDS_IN_SENTENCE)) for t in texts]\n",
    "dataset = dataset[dataset.vlen > 0]\n",
    "\n",
    "texts = dataset['text'].astype(str)\n",
    "labels = dataset['label']"
   ]
  },
  {
   "cell_type": "code",
   "execution_count": 20,
   "id": "46228d3d-51fd-442a-87c3-f69713e0754b",
   "metadata": {},
   "outputs": [],
   "source": [
    "data = [text_to_word_vectors(text, MAX_WORDS_IN_SENTENCE) for text in texts]\n",
    "data = np.array(data)\n",
    "targets = np.array(labels).astype(\"float32\")"
   ]
  },
  {
   "cell_type": "code",
   "execution_count": 21,
   "id": "bf28c07a-93df-4634-b358-05b4a4d8c8db",
   "metadata": {},
   "outputs": [],
   "source": [
    "SIZE = 1500\n",
    "test_x = data[:SIZE]\n",
    "test_x = np.array(test_x).astype('float32')\n",
    "test_x =  test_x.reshape(len(test_x), MAX_WORDS_IN_SENTENCE * WORD2VEC_DIMENSIONS)\n",
    "test_y = targets[:SIZE]\n",
    "\n",
    "train_x = data[-SIZE:]\n",
    "train_x = np.array(train_x).astype('float32')\n",
    "train_x = train_x.reshape(len(train_x), MAX_WORDS_IN_SENTENCE * WORD2VEC_DIMENSIONS)\n",
    "train_y = targets[-SIZE:]"
   ]
  },
  {
   "cell_type": "code",
   "execution_count": 22,
   "id": "5c69ccd0-ff44-42be-957a-9c3812712090",
   "metadata": {},
   "outputs": [
    {
     "name": "stdout",
     "output_type": "stream",
     "text": [
      "Model: \"sequential_1\"\n",
      "_________________________________________________________________\n",
      " Layer (type)                Output Shape              Param #   \n",
      "=================================================================\n",
      " dense_4 (Dense)             (None, 50)                2500050   \n",
      "                                                                 \n",
      " dropout_2 (Dropout)         (None, 50)                0         \n",
      "                                                                 \n",
      " dense_5 (Dense)             (None, 50)                2550      \n",
      "                                                                 \n",
      " dropout_3 (Dropout)         (None, 50)                0         \n",
      "                                                                 \n",
      " dense_6 (Dense)             (None, 50)                2550      \n",
      "                                                                 \n",
      " dense_7 (Dense)             (None, 1)                 51        \n",
      "                                                                 \n",
      "=================================================================\n",
      "Total params: 2505201 (9.56 MB)\n",
      "Trainable params: 2505201 (9.56 MB)\n",
      "Non-trainable params: 0 (0.00 Byte)\n",
      "_________________________________________________________________\n"
     ]
    }
   ],
   "source": [
    "model = models.Sequential()\n",
    "model.add(layers.Dense(50, activation=\"relu\", input_shape=(MAX_WORDS_IN_SENTENCE * WORD2VEC_DIMENSIONS, )))  \n",
    "model.add(layers.Dropout(0.3, noise_shape=None, seed=None))\n",
    "model.add(layers.Dense(50, activation=\"relu\"))\n",
    "model.add(layers.Dropout(0.2, noise_shape=None, seed=None))\n",
    "model.add(layers.Dense(50, activation=\"relu\"))\n",
    "model.add(layers.Dense(1, activation=\"sigmoid\")) \n",
    "model.summary()"
   ]
  },
  {
   "cell_type": "code",
   "execution_count": 23,
   "id": "01d57abf-92e6-4c99-ad73-240a0c4280ca",
   "metadata": {},
   "outputs": [
    {
     "name": "stdout",
     "output_type": "stream",
     "text": [
      "Epoch 1/20\n"
     ]
    },
    {
     "name": "stderr",
     "output_type": "stream",
     "text": [
      "2023-09-15 19:11:04.808333: W tensorflow/tsl/framework/cpu_allocator_impl.cc:83] Allocation of 300000000 exceeds 10% of free system memory.\n"
     ]
    },
    {
     "name": "stdout",
     "output_type": "stream",
     "text": [
      "374/375 [============================>.] - ETA: 0s - loss: 0.7804 - accuracy: 0.5033"
     ]
    },
    {
     "name": "stderr",
     "output_type": "stream",
     "text": [
      "2023-09-15 19:11:16.116525: W tensorflow/tsl/framework/cpu_allocator_impl.cc:83] Allocation of 300000000 exceeds 10% of free system memory.\n"
     ]
    },
    {
     "name": "stdout",
     "output_type": "stream",
     "text": [
      "375/375 [==============================] - 16s 41ms/step - loss: 0.7804 - accuracy: 0.5027 - val_loss: 0.6928 - val_accuracy: 0.5173\n",
      "Epoch 2/20\n",
      "375/375 [==============================] - 12s 31ms/step - loss: 0.7091 - accuracy: 0.4860 - val_loss: 0.6932 - val_accuracy: 0.4893\n",
      "Epoch 3/20\n",
      "375/375 [==============================] - 11s 30ms/step - loss: 0.7011 - accuracy: 0.5007 - val_loss: 0.6934 - val_accuracy: 0.4947\n",
      "Epoch 4/20\n",
      "375/375 [==============================] - 11s 29ms/step - loss: 0.6964 - accuracy: 0.5113 - val_loss: 0.6932 - val_accuracy: 0.4973\n",
      "Epoch 5/20\n",
      "375/375 [==============================] - 11s 28ms/step - loss: 0.6923 - accuracy: 0.5240 - val_loss: 0.6920 - val_accuracy: 0.5193\n",
      "Epoch 6/20\n",
      "375/375 [==============================] - 11s 29ms/step - loss: 0.6786 - accuracy: 0.5480 - val_loss: 0.6944 - val_accuracy: 0.5060\n",
      "Epoch 7/20\n",
      "375/375 [==============================] - 11s 28ms/step - loss: 0.6658 - accuracy: 0.5820 - val_loss: 0.6921 - val_accuracy: 0.5307\n",
      "Epoch 8/20\n",
      "375/375 [==============================] - 11s 28ms/step - loss: 0.6340 - accuracy: 0.6087 - val_loss: 0.6961 - val_accuracy: 0.5207\n",
      "Epoch 9/20\n",
      "375/375 [==============================] - 11s 29ms/step - loss: 0.6167 - accuracy: 0.6273 - val_loss: 0.7030 - val_accuracy: 0.5200\n",
      "Epoch 10/20\n",
      "375/375 [==============================] - 11s 28ms/step - loss: 0.6046 - accuracy: 0.6393 - val_loss: 0.6853 - val_accuracy: 0.5407\n",
      "Epoch 11/20\n",
      "375/375 [==============================] - 12s 32ms/step - loss: 0.5901 - accuracy: 0.6487 - val_loss: 0.7197 - val_accuracy: 0.5353\n",
      "Epoch 12/20\n",
      "375/375 [==============================] - 12s 32ms/step - loss: 0.5859 - accuracy: 0.6460 - val_loss: 0.7249 - val_accuracy: 0.5320\n",
      "Epoch 13/20\n",
      "375/375 [==============================] - 12s 31ms/step - loss: 0.5789 - accuracy: 0.6560 - val_loss: 0.7746 - val_accuracy: 0.5307\n",
      "Epoch 14/20\n",
      "375/375 [==============================] - 12s 31ms/step - loss: 0.5748 - accuracy: 0.6580 - val_loss: 0.6887 - val_accuracy: 0.5680\n",
      "Epoch 15/20\n",
      "375/375 [==============================] - 12s 31ms/step - loss: 0.5714 - accuracy: 0.6653 - val_loss: 0.6867 - val_accuracy: 0.5527\n",
      "Epoch 16/20\n",
      "375/375 [==============================] - 12s 31ms/step - loss: 0.5621 - accuracy: 0.6713 - val_loss: 0.6882 - val_accuracy: 0.5440\n",
      "Epoch 17/20\n",
      "375/375 [==============================] - 12s 31ms/step - loss: 0.5663 - accuracy: 0.6647 - val_loss: 0.6891 - val_accuracy: 0.5407\n",
      "Epoch 18/20\n",
      "375/375 [==============================] - 12s 31ms/step - loss: 0.5638 - accuracy: 0.6653 - val_loss: 0.6936 - val_accuracy: 0.5480\n",
      "Epoch 19/20\n",
      "375/375 [==============================] - 11s 30ms/step - loss: 0.5628 - accuracy: 0.6707 - val_loss: 0.6979 - val_accuracy: 0.5447\n",
      "Epoch 20/20\n",
      "375/375 [==============================] - 11s 29ms/step - loss: 0.5601 - accuracy: 0.6740 - val_loss: 0.6880 - val_accuracy: 0.5387\n"
     ]
    }
   ],
   "source": [
    "model.compile(optimizer=\"adam\", loss=\"binary_crossentropy\", metrics=[\"accuracy\"])\n",
    "results = model.fit(train_x, train_y, epochs=20, batch_size=4, validation_data=(test_x, test_y))"
   ]
  },
  {
   "cell_type": "code",
   "execution_count": 13,
   "id": "f1412a87-eb81-46c0-a044-452a3cd01483",
   "metadata": {},
   "outputs": [
    {
     "name": "stdout",
     "output_type": "stream",
     "text": [
      "INFO:tensorflow:Assets written to: ./data/keras-review-300d.mdl/assets\n"
     ]
    },
    {
     "name": "stderr",
     "output_type": "stream",
     "text": [
      "INFO:tensorflow:Assets written to: ./data/keras-review-300d.mdl/assets\n",
      "2023-09-15 19:10:00.387830: W tensorflow/tsl/framework/cpu_allocator_impl.cc:83] Allocation of 900000000 exceeds 10% of free system memory.\n"
     ]
    },
    {
     "name": "stdout",
     "output_type": "stream",
     "text": [
      "Loaded Model Accuracy: 53.60%\n"
     ]
    }
   ],
   "source": [
    "model.save('./data/keras-review-300d.mdl')\n",
    "loaded_model = models.load_model('./data/keras-review-300d.mdl')\n",
    "scores = loaded_model.evaluate(test_x, test_y, verbose=0)\n",
    "print(\"Loaded Model Accuracy: %.2f%%\" % (scores[1] * 100))"
   ]
  },
  {
   "cell_type": "code",
   "execution_count": null,
   "id": "78ab2dac-bec8-418e-9a04-5d64078e2dc1",
   "metadata": {},
   "outputs": [],
   "source": [
    "scores = loaded_model.evaluate(test_x, test_y, verbose=0)\n",
    "print(\"Loaded Model Accuracy: %.2f%%\" % (scores[1] * 100))"
   ]
  },
  {
   "cell_type": "code",
   "execution_count": 28,
   "id": "8d883ff0-1321-48e1-8dd6-d6674d842018",
   "metadata": {},
   "outputs": [
    {
     "data": {
      "text/html": [
       "<div>\n",
       "<style scoped>\n",
       "    .dataframe tbody tr th:only-of-type {\n",
       "        vertical-align: middle;\n",
       "    }\n",
       "\n",
       "    .dataframe tbody tr th {\n",
       "        vertical-align: top;\n",
       "    }\n",
       "\n",
       "    .dataframe thead th {\n",
       "        text-align: right;\n",
       "    }\n",
       "</style>\n",
       "<table border=\"1\" class=\"dataframe\">\n",
       "  <thead>\n",
       "    <tr style=\"text-align: right;\">\n",
       "      <th></th>\n",
       "      <th>text</th>\n",
       "      <th>label</th>\n",
       "      <th>vlen</th>\n",
       "    </tr>\n",
       "  </thead>\n",
       "  <tbody>\n",
       "    <tr>\n",
       "      <th>0</th>\n",
       "      <td>good question Nepal PM declaring to resign and actually resigning is two very different things</td>\n",
       "      <td>1</td>\n",
       "      <td>500</td>\n",
       "    </tr>\n",
       "    <tr>\n",
       "      <th>1</th>\n",
       "      <td>i just saw your performance on the ellen show were so behind in australia  you were AMAZING and have such a wonderful voice</td>\n",
       "      <td>1</td>\n",
       "      <td>500</td>\n",
       "    </tr>\n",
       "    <tr>\n",
       "      <th>2</th>\n",
       "      <td>nooo as a font connoisseur i can totally relate dude my heart goes out to you</td>\n",
       "      <td>0</td>\n",
       "      <td>500</td>\n",
       "    </tr>\n",
       "    <tr>\n",
       "      <th>3</th>\n",
       "      <td>i really am going to miss you</td>\n",
       "      <td>0</td>\n",
       "      <td>500</td>\n",
       "    </tr>\n",
       "    <tr>\n",
       "      <th>4</th>\n",
       "      <td>Ahhh Im engulfed in shooooes Who told me to buy so maany  shoes</td>\n",
       "      <td>0</td>\n",
       "      <td>500</td>\n",
       "    </tr>\n",
       "  </tbody>\n",
       "</table>\n",
       "</div>"
      ],
      "text/plain": [
       "                                                                                                                            text  \\\n",
       "0                                good question Nepal PM declaring to resign and actually resigning is two very different things    \n",
       "1    i just saw your performance on the ellen show were so behind in australia  you were AMAZING and have such a wonderful voice   \n",
       "2                                                  nooo as a font connoisseur i can totally relate dude my heart goes out to you   \n",
       "3                                                                                                  i really am going to miss you   \n",
       "4                                                                Ahhh Im engulfed in shooooes Who told me to buy so maany  shoes   \n",
       "\n",
       "   label  vlen  \n",
       "0      1   500  \n",
       "1      1   500  \n",
       "2      0   500  \n",
       "3      0   500  \n",
       "4      0   500  "
      ]
     },
     "execution_count": 28,
     "metadata": {},
     "output_type": "execute_result"
    }
   ],
   "source": [
    "pd.set_option(\"max_colwidth\", 1000)\n",
    "dataset.head()"
   ]
  },
  {
   "cell_type": "code",
   "execution_count": 27,
   "id": "5d0e6fc3-9280-4220-891b-10599ee9f60c",
   "metadata": {},
   "outputs": [
    {
     "data": {
      "text/plain": [
       "2948"
      ]
     },
     "execution_count": 27,
     "metadata": {},
     "output_type": "execute_result"
    }
   ],
   "source": []
  }
 ],
 "metadata": {
  "kernelspec": {
   "display_name": "Python 3 (ipykernel)",
   "language": "python",
   "name": "python3"
  },
  "language_info": {
   "codemirror_mode": {
    "name": "ipython",
    "version": 3
   },
   "file_extension": ".py",
   "mimetype": "text/x-python",
   "name": "python",
   "nbconvert_exporter": "python",
   "pygments_lexer": "ipython3",
   "version": "3.10.12"
  }
 },
 "nbformat": 4,
 "nbformat_minor": 5
}
