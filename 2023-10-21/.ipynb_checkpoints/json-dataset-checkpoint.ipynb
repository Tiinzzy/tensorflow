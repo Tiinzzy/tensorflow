{
 "cells": [
  {
   "cell_type": "code",
   "execution_count": 72,
   "id": "b6b27f19-923e-4c66-8184-fc90e0cf612c",
   "metadata": {},
   "outputs": [],
   "source": [
    "import pandas as pd\n",
    "import matplotlib.pyplot as plt"
   ]
  },
  {
   "cell_type": "code",
   "execution_count": 3,
   "id": "c895d98d-e2a6-426c-bff3-9e8afb26930b",
   "metadata": {},
   "outputs": [],
   "source": [
    "df = pd.read_json('data/actors.json')"
   ]
  },
  {
   "cell_type": "code",
   "execution_count": 4,
   "id": "c3c01356-807e-4f05-8116-4849430ed667",
   "metadata": {},
   "outputs": [
    {
     "data": {
      "text/html": [
       "<div>\n",
       "<style scoped>\n",
       "    .dataframe tbody tr th:only-of-type {\n",
       "        vertical-align: middle;\n",
       "    }\n",
       "\n",
       "    .dataframe tbody tr th {\n",
       "        vertical-align: top;\n",
       "    }\n",
       "\n",
       "    .dataframe thead th {\n",
       "        text-align: right;\n",
       "    }\n",
       "</style>\n",
       "<table border=\"1\" class=\"dataframe\">\n",
       "  <thead>\n",
       "    <tr style=\"text-align: right;\">\n",
       "      <th></th>\n",
       "      <th>name</th>\n",
       "      <th>rating</th>\n",
       "      <th>image_path</th>\n",
       "      <th>alternative_name</th>\n",
       "      <th>objectID</th>\n",
       "    </tr>\n",
       "  </thead>\n",
       "  <tbody>\n",
       "    <tr>\n",
       "      <th>0</th>\n",
       "      <td>Catherine Missal</td>\n",
       "      <td>4875</td>\n",
       "      <td>/g3fsRgEoMxaqPayIMtGDWERqJ6A.jpg</td>\n",
       "      <td>None</td>\n",
       "      <td>551486300</td>\n",
       "    </tr>\n",
       "    <tr>\n",
       "      <th>1</th>\n",
       "      <td>Monica Bellucci</td>\n",
       "      <td>3956</td>\n",
       "      <td>/z3sLuRKP7hQVrvSTsqdLjGSldwG.jpg</td>\n",
       "      <td>Monica Anna Maria Bellucci</td>\n",
       "      <td>551486310</td>\n",
       "    </tr>\n",
       "    <tr>\n",
       "      <th>2</th>\n",
       "      <td>Michael Doven</td>\n",
       "      <td>2647</td>\n",
       "      <td>/fkHxoBAvAkqHxzoP1ukcbPnaaUi.jpg</td>\n",
       "      <td>None</td>\n",
       "      <td>551486320</td>\n",
       "    </tr>\n",
       "    <tr>\n",
       "      <th>3</th>\n",
       "      <td>Jasmine Reate</td>\n",
       "      <td>2378</td>\n",
       "      <td>/qgI4agu15xBlnWkZEVpZhGFsV4Y.jpg</td>\n",
       "      <td>J.L. Reate</td>\n",
       "      <td>551486330</td>\n",
       "    </tr>\n",
       "    <tr>\n",
       "      <th>4</th>\n",
       "      <td>Tom Cruise</td>\n",
       "      <td>2237</td>\n",
       "      <td>/3oWEuo0e8Nx8JvkqYCDec2iMY6K.jpg</td>\n",
       "      <td>None</td>\n",
       "      <td>551486340</td>\n",
       "    </tr>\n",
       "  </tbody>\n",
       "</table>\n",
       "</div>"
      ],
      "text/plain": [
       "               name  rating                        image_path  \\\n",
       "0  Catherine Missal    4875  /g3fsRgEoMxaqPayIMtGDWERqJ6A.jpg   \n",
       "1   Monica Bellucci    3956  /z3sLuRKP7hQVrvSTsqdLjGSldwG.jpg   \n",
       "2     Michael Doven    2647  /fkHxoBAvAkqHxzoP1ukcbPnaaUi.jpg   \n",
       "3     Jasmine Reate    2378  /qgI4agu15xBlnWkZEVpZhGFsV4Y.jpg   \n",
       "4        Tom Cruise    2237  /3oWEuo0e8Nx8JvkqYCDec2iMY6K.jpg   \n",
       "\n",
       "             alternative_name   objectID  \n",
       "0                        None  551486300  \n",
       "1  Monica Anna Maria Bellucci  551486310  \n",
       "2                        None  551486320  \n",
       "3                  J.L. Reate  551486330  \n",
       "4                        None  551486340  "
      ]
     },
     "execution_count": 4,
     "metadata": {},
     "output_type": "execute_result"
    }
   ],
   "source": [
    "df.head()"
   ]
  },
  {
   "cell_type": "code",
   "execution_count": 12,
   "id": "aaa06737-4382-46e7-b9fd-6ee85b68b258",
   "metadata": {},
   "outputs": [
    {
     "data": {
      "text/plain": [
       "name                500\n",
       "rating              500\n",
       "image_path          499\n",
       "alternative_name    138\n",
       "objectID            500\n",
       "dtype: int64"
      ]
     },
     "execution_count": 12,
     "metadata": {},
     "output_type": "execute_result"
    }
   ],
   "source": [
    "df.count()"
   ]
  },
  {
   "cell_type": "code",
   "execution_count": 13,
   "id": "6cf7df2e-acff-44d4-930a-b3375575073e",
   "metadata": {},
   "outputs": [
    {
     "data": {
      "text/plain": [
       "name                362\n",
       "rating              362\n",
       "image_path          361\n",
       "alternative_name      0\n",
       "objectID            362\n",
       "dtype: int64"
      ]
     },
     "execution_count": 13,
     "metadata": {},
     "output_type": "execute_result"
    }
   ],
   "source": [
    "df[df.alternative_name.isnull()].count()"
   ]
  },
  {
   "cell_type": "code",
   "execution_count": 111,
   "id": "75cea276-7036-43dc-9e6d-bc9681c79a98",
   "metadata": {},
   "outputs": [],
   "source": [
    "import numpy as np\n",
    "from sklearn.mixture import GaussianMixture\n",
    "from sklearn.cluster import KMeans\n",
    "\n",
    "no_of_clusters =  5\n",
    "\n",
    "object_ids = df.objectID.values\n",
    "X = df.rating.values\n",
    "X = X.reshape(len(X),1)\n",
    "\n",
    "# model = GaussianMixture(n_components=no_of_clusters, random_state=10).fit(X)\n",
    "model = KMeans(n_clusters=no_of_clusters, random_state=10, n_init=\"auto\").fit(X)\n",
    "\n",
    "cluster_labels = model.predict(X)"
   ]
  },
  {
   "cell_type": "code",
   "execution_count": 114,
   "id": "fa417896-c6a7-43e6-adc1-ef564bde0335",
   "metadata": {},
   "outputs": [
    {
     "name": "stdout",
     "output_type": "stream",
     "text": [
      "cluster id: 0, popualtion: 313, percentage of total:0.626\n",
      "cluster id: 1, popualtion: 11, percentage of total:0.022\n",
      "cluster id: 2, popualtion: 2, percentage of total:0.004\n",
      "cluster id: 3, popualtion: 125, percentage of total:0.25\n",
      "cluster id: 4, popualtion: 49, percentage of total:0.098\n",
      "\n",
      "least populated cluster: 2, population: 2\n"
     ]
    }
   ],
   "source": [
    "least_populated_cluster = -1\n",
    "least_population = -1\n",
    "\n",
    "for c in range(no_of_clusters):\n",
    "    population = len(cluster_labels[cluster_labels == c]) \n",
    "    percentage = population / len(X)\n",
    "    print(f'cluster id: {c}, popualtion: {population}, percentage of total:{percentage}')\n",
    "    if least_populated_cluster == -1:\n",
    "        least_populated_cluster = c\n",
    "        least_population = population\n",
    "    elif least_population > population:\n",
    "        least_populated_cluster = c\n",
    "        least_population = population\n",
    "\n",
    "print()\n",
    "print(f'least populated cluster: {least_populated_cluster}, population: {least_population}')"
   ]
  },
  {
   "cell_type": "code",
   "execution_count": 115,
   "id": "03ad522a-5d86-4070-8911-a1a961a48bac",
   "metadata": {},
   "outputs": [
    {
     "name": "stdout",
     "output_type": "stream",
     "text": [
      "   rating              name   objectID\n",
      "0    4875  Catherine Missal  551486300\n",
      "1    3956   Monica Bellucci  551486310\n"
     ]
    }
   ],
   "source": [
    "def get_cluster_object_ids(object_ids, cluster_labels, c):\n",
    "    result = []\n",
    "    for i in range(len(cluster_labels)):\n",
    "        if cluster_labels[i] == c:\n",
    "            result.append(object_ids[i])\n",
    "    return result\n",
    "\n",
    "\n",
    "def show_cluster_member(c):\n",
    "    members = get_cluster_object_ids(object_ids, cluster_labels, c)        \n",
    "    print(df[df.objectID.isin(members)][['rating', 'name', 'objectID']].head(10))\n",
    "\n",
    "show_cluster_member(least_populated_cluster)"
   ]
  },
  {
   "cell_type": "code",
   "execution_count": 116,
   "id": "a31a5245-b530-40b1-86e5-ca07fb072ee4",
   "metadata": {},
   "outputs": [
    {
     "name": "stdout",
     "output_type": "stream",
     "text": [
      "    rating                name   objectID\n",
      "2     2647       Michael Doven  551486320\n",
      "3     2378       Jasmine Reate  551486330\n",
      "4     2237          Tom Cruise  551486340\n",
      "5     2128  Scarlett Johansson  551486350\n",
      "6     1972      Anna Raadsveld  551486360\n",
      "7     1719       Jason Statham  551486370\n",
      "8     1585       Emilia Clarke  551486380\n",
      "9     1579    Wentworth Miller  551486390\n",
      "10    1568      Dwayne Johnson  551486400\n",
      "11    1526          Rose Byrne  551486410\n"
     ]
    }
   ],
   "source": [
    "show_cluster_member(1)"
   ]
  },
  {
   "cell_type": "code",
   "execution_count": 117,
   "id": "b1a48def-d449-4fc8-bfff-9709aa9bca9f",
   "metadata": {},
   "outputs": [
    {
     "name": "stdout",
     "output_type": "stream",
     "text": [
      "     rating               name   objectID\n",
      "187     626    Natalya Vdovina  551488170\n",
      "188     625      Julia Roberts  551488190\n",
      "189     625         Karl Urban  551488180\n",
      "190     624     Edward Furlong  551488210\n",
      "191     624  Leonardo DiCaprio  551488200\n",
      "192     623        Kate Hudson  551488230\n",
      "193     623      Mickey Rourke  551488220\n",
      "194     621       Jessica Alba  551488260\n",
      "195     621       Gina Gershon  551488250\n",
      "196     621         Chris Pine  551488240\n"
     ]
    }
   ],
   "source": [
    "show_cluster_member(0)"
   ]
  },
  {
   "cell_type": "code",
   "execution_count": 118,
   "id": "43a09407-a7a7-413c-962f-15029d36440c",
   "metadata": {},
   "outputs": [
    {
     "data": {
      "text/plain": [
       "<matplotlib.collections.PathCollection at 0x7f178be53be0>"
      ]
     },
     "execution_count": 118,
     "metadata": {},
     "output_type": "execute_result"
    },
    {
     "data": {
      "image/png": "[encoded data removed]",
      "text/plain": [
       "<Figure size 640x480 with 1 Axes>"
      ]
     },
     "metadata": {},
     "output_type": "display_data"
    }
   ],
   "source": [
    "plotx = [x for x in range(len(cluster_labels))]\n",
    "plt.scatter(x=plotx, y=df.rating, c=cluster_labels, s=2)"
   ]
  },
  {
   "cell_type": "code",
   "execution_count": 84,
   "id": "3a28c009-6abd-43ec-9683-be46e61436ab",
   "metadata": {},
   "outputs": [
    {
     "data": {
      "text/plain": [
       "array([4875, 3956, 2647, 2378, 2237, 2128, 1972, 1719, 1585, 1579, 1568,\n",
       "       1526, 1519, 1439, 1392, 1312, 1279, 1266, 1250, 1223, 1190, 1187,\n",
       "       1156, 1139, 1128, 1106, 1085, 1077, 1056, 1050, 1047, 1046, 1034,\n",
       "       1030, 1028, 1026, 1013, 1006,  992,  971,  969,  961,  960,  954,\n",
       "        947,  937,  932,  924,  917,  913,  906,  903,  902,  901,  897,\n",
       "        892,  891,  882,  881,  880,  873,  858,  856,  855,  853,  852,\n",
       "        851,  847,  846,  842,  840,  837,  829,  825,  819,  817,  814,\n",
       "        812,  809,  806,  802,  793,  792,  790,  789,  776,  768,  765,\n",
       "        758,  757,  755,  749,  748,  747,  746,  743,  741,  737,  734,\n",
       "        730,  729,  727,  725,  723,  721,  720,  718,  717,  715,  712,\n",
       "        709,  708,  707,  706,  700,  699,  698,  697,  696,  695,  692,\n",
       "        686,  685,  684,  682,  680,  677,  676,  675,  674,  672,  671,\n",
       "        669,  666,  665,  664,  663,  659,  658,  656,  655,  652,  649,\n",
       "        648,  646,  643,  640,  637,  636,  626,  625,  624,  623,  621,\n",
       "        619,  617,  616,  615,  614,  613,  612,  610,  609,  608,  603,\n",
       "        601,  598,  596,  592,  589,  587,  586,  585,  582,  580,  578,\n",
       "        577,  575,  572,  571,  570,  569,  568,  567,  566,  564,  563,\n",
       "        562,  561,  560,  559,  556,  555,  554,  553,  551,  550,  549,\n",
       "        548,  547,  546,  545,  544,  543,  542,  537,  536,  535,  534,\n",
       "        533,  532,  531,  530,  529,  528,  527,  526,  525,  524,  523,\n",
       "        522,  521,  520,  519,  518,  517,  516,  515,  514,  513,  511,\n",
       "        510,  509,  508,  507,  506,  504,  503,  502,  501,  500,  499,\n",
       "        498,  496,  495,  494,  493,  492,  491,  490,  489,  488,  486,\n",
       "        485,  484,  483,  482,  481,  479,  478,  477,  475,  474,  473,\n",
       "        472,  471,  470,  469,  468,  466,  465,  464,  463,  462,  461,\n",
       "        460,  459,  458,  457,  456,  455,  365,  332,  299])"
      ]
     },
     "execution_count": 84,
     "metadata": {},
     "output_type": "execute_result"
    }
   ],
   "source": [
    "df.rating.unique()"
   ]
  },
  {
   "cell_type": "code",
   "execution_count": 99,
   "id": "4ef5eec9-ddaf-4636-85c5-139717ebfa69",
   "metadata": {},
   "outputs": [
    {
     "data": {
      "text/html": [
       "<div>\n",
       "<style scoped>\n",
       "    .dataframe tbody tr th:only-of-type {\n",
       "        vertical-align: middle;\n",
       "    }\n",
       "\n",
       "    .dataframe tbody tr th {\n",
       "        vertical-align: top;\n",
       "    }\n",
       "\n",
       "    .dataframe thead th {\n",
       "        text-align: right;\n",
       "    }\n",
       "</style>\n",
       "<table border=\"1\" class=\"dataframe\">\n",
       "  <thead>\n",
       "    <tr style=\"text-align: right;\">\n",
       "      <th></th>\n",
       "      <th>name</th>\n",
       "      <th>rating</th>\n",
       "      <th>image_path</th>\n",
       "      <th>alternative_name</th>\n",
       "      <th>objectID</th>\n",
       "    </tr>\n",
       "  </thead>\n",
       "  <tbody>\n",
       "    <tr>\n",
       "      <th>496</th>\n",
       "      <td>Ray Winstone</td>\n",
       "      <td>332</td>\n",
       "      <td>/PortzKA9M8dCOvr44dGdczxMoz4.jpg</td>\n",
       "      <td>Raymond Andrew Winstone</td>\n",
       "      <td>551486290</td>\n",
       "    </tr>\n",
       "    <tr>\n",
       "      <th>497</th>\n",
       "      <td>C. Thomas Howell</td>\n",
       "      <td>332</td>\n",
       "      <td>/POrtkxOnn1JEKwd0nlbBuZfS7Sf.jpg</td>\n",
       "      <td>None</td>\n",
       "      <td>551486280</td>\n",
       "    </tr>\n",
       "    <tr>\n",
       "      <th>498</th>\n",
       "      <td>John Cho</td>\n",
       "      <td>332</td>\n",
       "      <td>/poRTpkKGun8BS7GjCqXrzthTOk4.jpg</td>\n",
       "      <td>John Yohan Cho</td>\n",
       "      <td>551486270</td>\n",
       "    </tr>\n",
       "  </tbody>\n",
       "</table>\n",
       "</div>"
      ],
      "text/plain": [
       "                 name  rating                        image_path  \\\n",
       "496      Ray Winstone     332  /PortzKA9M8dCOvr44dGdczxMoz4.jpg   \n",
       "497  C. Thomas Howell     332  /POrtkxOnn1JEKwd0nlbBuZfS7Sf.jpg   \n",
       "498          John Cho     332  /poRTpkKGun8BS7GjCqXrzthTOk4.jpg   \n",
       "\n",
       "            alternative_name   objectID  \n",
       "496  Raymond Andrew Winstone  551486290  \n",
       "497                     None  551486280  \n",
       "498           John Yohan Cho  551486270  "
      ]
     },
     "execution_count": 99,
     "metadata": {},
     "output_type": "execute_result"
    }
   ],
   "source": [
    "df[df.rating == 332].head()"
   ]
  },
  {
   "cell_type": "code",
   "execution_count": 119,
   "id": "f16f8fec-7243-47cd-9f10-40ccf9b079d6",
   "metadata": {},
   "outputs": [
    {
     "data": {
      "text/plain": [
       "array([2], dtype=int32)"
      ]
     },
     "execution_count": 119,
     "metadata": {},
     "output_type": "execute_result"
    }
   ],
   "source": [
    "model.predict([[3956]])"
   ]
  },
  {
   "cell_type": "code",
   "execution_count": null,
   "id": "e6ac3d03-6094-498c-928e-8e59a08ccda5",
   "metadata": {},
   "outputs": [],
   "source": []
  }
 ],
 "metadata": {
  "kernelspec": {
   "display_name": "Python 3 (ipykernel)",
   "language": "python",
   "name": "python3"
  },
  "language_info": {
   "codemirror_mode": {
    "name": "ipython",
    "version": 3
   },
   "file_extension": ".py",
   "mimetype": "text/x-python",
   "name": "python",
   "nbconvert_exporter": "python",
   "pygments_lexer": "ipython3",
   "version": "3.10.12"
  }
 },
 "nbformat": 4,
 "nbformat_minor": 5
}
