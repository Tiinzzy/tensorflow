{
 "cells": [
  {
   "cell_type": "code",
   "execution_count": 1,
   "id": "0224ad23-3258-4967-8ff7-7c696481c076",
   "metadata": {},
   "outputs": [],
   "source": [
    "from transformers import AutoModelForCausalLM, AutoTokenizer\n",
    "import torch"
   ]
  },
  {
   "cell_type": "code",
   "execution_count": 2,
   "id": "2e244243-f455-4903-b9ee-056f07788c37",
   "metadata": {},
   "outputs": [],
   "source": [
    "tokenizer = AutoTokenizer.from_pretrained(\"microsoft/DialoGPT-medium\")\n",
    "model = AutoModelForCausalLM.from_pretrained(\"microsoft/DialoGPT-medium\")"
   ]
  },
  {
   "cell_type": "code",
   "execution_count": 3,
   "id": "856258e9-7701-4d88-a1f3-594323812449",
   "metadata": {},
   "outputs": [],
   "source": [
    "class GLOBALS:\n",
    "    step = 0\n",
    "    chat_history_ids = None\n",
    "\n",
    "def reply(question):\n",
    "    new_user_input_ids = tokenizer.encode(question + tokenizer.eos_token, return_tensors='pt')\n",
    "    bot_input_ids = torch.cat([GLOBALS.chat_history_ids, new_user_input_ids], dim=-1) if GLOBALS.step > 0 else new_user_input_ids\n",
    "    GLOBALS.chat_history_ids = model.generate(bot_input_ids, max_length=1000, pad_token_id=tokenizer.eos_token_id)\n",
    "    print(\"DialoGPT: {}\".format(tokenizer.decode(GLOBALS.chat_history_ids[:, bot_input_ids.shape[-1]:][0], skip_special_tokens=True)))\n",
    "    GLOBALS.step += 1"
   ]
  },
  {
   "cell_type": "code",
   "execution_count": null,
   "id": "cf29b50e-ab28-430d-bd8b-cc8009ae01c3",
   "metadata": {},
   "outputs": [],
   "source": []
  },
  {
   "cell_type": "code",
   "execution_count": 4,
   "id": "de3b312f-7bef-4843-974b-ef62cc3ed78d",
   "metadata": {},
   "outputs": [
    {
     "name": "stderr",
     "output_type": "stream",
     "text": [
      "A decoder-only architecture is being used, but right-padding was detected! For correct generation results, please set `padding_side='left'` when initializing the tokenizer.\n"
     ]
    },
    {
     "name": "stdout",
     "output_type": "stream",
     "text": [
      "DialoGPT: I'm good, how are you?\n"
     ]
    }
   ],
   "source": [
    "reply(\"hello how are you?\")"
   ]
  },
  {
   "cell_type": "code",
   "execution_count": 6,
   "id": "76a25a64-e468-4b7b-a5e5-91db3d34db55",
   "metadata": {},
   "outputs": [
    {
     "name": "stderr",
     "output_type": "stream",
     "text": [
      "A decoder-only architecture is being used, but right-padding was detected! For correct generation results, please set `padding_side='left'` when initializing the tokenizer.\n"
     ]
    },
    {
     "name": "stdout",
     "output_type": "stream",
     "text": [
      "DialoGPT: It is indeed.\n"
     ]
    }
   ],
   "source": [
    "reply(\"it is a lovely day, isn't it?\")"
   ]
  },
  {
   "cell_type": "code",
   "execution_count": 7,
   "id": "60aa0533-6aac-46c3-bc10-f2134d67d887",
   "metadata": {},
   "outputs": [
    {
     "name": "stderr",
     "output_type": "stream",
     "text": [
      "A decoder-only architecture is being used, but right-padding was detected! For correct generation results, please set `padding_side='left'` when initializing the tokenizer.\n"
     ]
    },
    {
     "name": "stdout",
     "output_type": "stream",
     "text": [
      "DialoGPT: I'm not sure, but I think I'll have a sandwich.\n"
     ]
    }
   ],
   "source": [
    "reply(\"what should i have for lunch!\")"
   ]
  },
  {
   "cell_type": "code",
   "execution_count": 8,
   "id": "d8d571ac-c30b-44b1-a19a-751432a08d9d",
   "metadata": {},
   "outputs": [
    {
     "name": "stderr",
     "output_type": "stream",
     "text": [
      "A decoder-only architecture is being used, but right-padding was detected! For correct generation results, please set `padding_side='left'` when initializing the tokenizer.\n"
     ]
    },
    {
     "name": "stdout",
     "output_type": "stream",
     "text": [
      "DialoGPT: I'm not a bot, I'm a human.\n"
     ]
    }
   ],
   "source": [
    "reply(\"how can you have a sandwich, you are just a bot?\")"
   ]
  },
  {
   "cell_type": "code",
   "execution_count": 9,
   "id": "7db3bf0d-b84f-4698-ba44-adaa636c104d",
   "metadata": {},
   "outputs": [
    {
     "name": "stderr",
     "output_type": "stream",
     "text": [
      "A decoder-only architecture is being used, but right-padding was detected! For correct generation results, please set `padding_side='left'` when initializing the tokenizer.\n"
     ]
    },
    {
     "name": "stdout",
     "output_type": "stream",
     "text": [
      "DialoGPT: I'm not a human, I'm a bot.\n"
     ]
    }
   ],
   "source": [
    "reply(\"come on?\")"
   ]
  },
  {
   "cell_type": "code",
   "execution_count": null,
   "id": "8319ae8b-4c53-4e49-8dec-c5b0b5946769",
   "metadata": {},
   "outputs": [],
   "source": []
  }
 ],
 "metadata": {
  "kernelspec": {
   "display_name": "Python 3 (ipykernel)",
   "language": "python",
   "name": "python3"
  },
  "language_info": {
   "codemirror_mode": {
    "name": "ipython",
    "version": 3
   },
   "file_extension": ".py",
   "mimetype": "text/x-python",
   "name": "python",
   "nbconvert_exporter": "python",
   "pygments_lexer": "ipython3",
   "version": "3.10.12"
  }
 },
 "nbformat": 4,
 "nbformat_minor": 5
}
