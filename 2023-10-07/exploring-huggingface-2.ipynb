{
 "cells": [
  {
   "cell_type": "code",
   "execution_count": 26,
   "id": "f3e62d02-b8c5-40e7-9924-54752543abe0",
   "metadata": {},
   "outputs": [],
   "source": [
    "# !pip install transformers\n",
    "# !pip install sentencepiece\n",
    "# !pip install pip --upgrade\n",
    "# !pip install torch torchvision torchaudio"
   ]
  },
  {
   "cell_type": "code",
   "execution_count": 1,
   "id": "ef865fdc-6771-46aa-802e-94796d80a14a",
   "metadata": {},
   "outputs": [],
   "source": [
    "from IPython import display\n",
    "from transformers import EncoderDecoderModel, AutoTokenizer\n",
    "from transformers import T5ForConditionalGeneration, T5Tokenizer\n",
    "from transformers import AutoModelWithLMHead\n",
    "import warnings\n",
    "warnings.filterwarnings('ignore')\n",
    "\n",
    "from sentencepiece import SentencePieceTrainer\n",
    "from transformers import T5Tokenizer, T5ForConditionalGeneration"
   ]
  },
  {
   "cell_type": "code",
   "execution_count": 2,
   "id": "b535fc25-95b3-4f8d-b72c-6ebadb6d1ad9",
   "metadata": {},
   "outputs": [],
   "source": [
    "def create_summary(model, tokenizer, text, max_length=512, min_length=30, length_penalty=5.0, repetition_penalty=5.0, num_beams=3):\n",
    "    inputs = tokenizer.encode(\"summarize: \" + text, return_tensors=\"pt\", max_length=max_length, truncation=True)\n",
    "    outputs = model.generate(\n",
    "        inputs,\n",
    "        max_length=max_length,\n",
    "        min_length=min_length,\n",
    "        length_penalty=length_penalty,\n",
    "        repetition_penalty=repetition_penalty,\n",
    "        num_beams=num_beams,\n",
    "        early_stopping=True)\n",
    "    print(tokenizer.decode(outputs[0]))"
   ]
  },
  {
   "cell_type": "code",
   "execution_count": null,
   "id": "2613a742-ca36-476e-b745-6e0c0dcc92e4",
   "metadata": {},
   "outputs": [],
   "source": []
  },
  {
   "cell_type": "code",
   "execution_count": 4,
   "id": "cb14ac48-d0b0-43e3-8d69-9c875e3e7c6b",
   "metadata": {},
   "outputs": [],
   "source": [
    "#\n",
    "# T5 Summarizing \n",
    "#"
   ]
  },
  {
   "cell_type": "code",
   "execution_count": 5,
   "id": "d6318bee-40dd-423b-b65e-8f1b53991d54",
   "metadata": {},
   "outputs": [
    {
     "name": "stderr",
     "output_type": "stream",
     "text": [
      "You are using the default legacy behaviour of the <class 'transformers.models.t5.tokenization_t5.T5Tokenizer'>. This is expected, and simply means that the `legacy` (previous) behavior will be used so nothing changes for you. If you want to use the new behaviour, set `legacy=False`. This should only be set if you understand what it means, and thouroughly read the reason why this was added as explained in https://github.com/huggingface/transformers/pull/24565\n"
     ]
    },
    {
     "data": {
      "application/vnd.jupyter.widget-view+json": {
       "model_id": "ad3f190204c34478ab44f77b786baa67",
       "version_major": 2,
       "version_minor": 0
      },
      "text/plain": [
       "Downloading model.safetensors:   0%|          | 0.00/892M [00:00<?, ?B/s]"
      ]
     },
     "metadata": {},
     "output_type": "display_data"
    },
    {
     "data": {
      "application/vnd.jupyter.widget-view+json": {
       "model_id": "8bbe3183b2b04c5d8a7e0c184e43665f",
       "version_major": 2,
       "version_minor": 0
      },
      "text/plain": [
       "Downloading (…)neration_config.json:   0%|          | 0.00/147 [00:00<?, ?B/s]"
      ]
     },
     "metadata": {},
     "output_type": "display_data"
    }
   ],
   "source": [
    "tokenizer = T5Tokenizer.from_pretrained(\"t5-base\")\n",
    "model = T5ForConditionalGeneration.from_pretrained(\"t5-base\")"
   ]
  },
  {
   "cell_type": "code",
   "execution_count": 10,
   "id": "9e460705-a50b-4330-bda9-56823f0a4038",
   "metadata": {},
   "outputs": [
    {
     "name": "stdout",
     "output_type": "stream",
     "text": [
      "<pad>Synthetic biology is a burgeoning field that combines principles from biology, engineering, and computer science to create novel biological systems or redesign existing ones. it offers boundless possibilities, revolutionizing everything from medicine and agriculture to the\n",
      "None\n"
     ]
    }
   ],
   "source": [
    "story = \"\"\"\n",
    "Synthetic biology is a burgeoning field that combines principles from biology, engineering, and computer science to create novel biological systems or redesign existing ones. It offers boundless possibilities, revolutionizing everything from medicine and agriculture to energy production and environmental conservation. This article delves into the fascinating world of synthetic biology, exploring its applications, challenges, and the potential it holds for shaping our future.\n",
    "\"\"\"\n",
    "\n",
    "summary = create_summary(model, tokenizer, story, 50, 30, 5.5, 5.5, 3)\n",
    "print(summary)"
   ]
  },
  {
   "cell_type": "code",
   "execution_count": 11,
   "id": "17516ac7-541b-4c47-9a1f-755630633352",
   "metadata": {},
   "outputs": [],
   "source": [
    "#\n",
    "# T5 Base Summarization\n",
    "#"
   ]
  },
  {
   "cell_type": "code",
   "execution_count": 12,
   "id": "3be52de9-688a-4ed1-a38e-9223a705e721",
   "metadata": {},
   "outputs": [
    {
     "data": {
      "application/vnd.jupyter.widget-view+json": {
       "model_id": "12a92d6bf359437187d9169117be6be7",
       "version_major": 2,
       "version_minor": 0
      },
      "text/plain": [
       "Downloading (…)okenizer_config.json:   0%|          | 0.00/25.0 [00:00<?, ?B/s]"
      ]
     },
     "metadata": {},
     "output_type": "display_data"
    },
    {
     "data": {
      "application/vnd.jupyter.widget-view+json": {
       "model_id": "2c716a936f1a44e69d7c3c7dc3aa6035",
       "version_major": 2,
       "version_minor": 0
      },
      "text/plain": [
       "Downloading (…)lve/main/config.json:   0%|          | 0.00/1.21k [00:00<?, ?B/s]"
      ]
     },
     "metadata": {},
     "output_type": "display_data"
    },
    {
     "data": {
      "application/vnd.jupyter.widget-view+json": {
       "model_id": "67e0ef9de991496e9f94fc197bc18fc2",
       "version_major": 2,
       "version_minor": 0
      },
      "text/plain": [
       "Downloading (…)ve/main/spiece.model:   0%|          | 0.00/792k [00:00<?, ?B/s]"
      ]
     },
     "metadata": {},
     "output_type": "display_data"
    },
    {
     "data": {
      "application/vnd.jupyter.widget-view+json": {
       "model_id": "a04c9159e23e46c1a71845e53383839e",
       "version_major": 2,
       "version_minor": 0
      },
      "text/plain": [
       "Downloading (…)cial_tokens_map.json:   0%|          | 0.00/1.79k [00:00<?, ?B/s]"
      ]
     },
     "metadata": {},
     "output_type": "display_data"
    },
    {
     "data": {
      "application/vnd.jupyter.widget-view+json": {
       "model_id": "cd2c3f0851de4128a1b722c39f206386",
       "version_major": 2,
       "version_minor": 0
      },
      "text/plain": [
       "Downloading model.safetensors:   0%|          | 0.00/892M [00:00<?, ?B/s]"
      ]
     },
     "metadata": {},
     "output_type": "display_data"
    }
   ],
   "source": [
    "tokenizer_t5news = AutoTokenizer.from_pretrained(\"mrm8488/t5-base-finetuned-summarize-news\")\n",
    "model_t5news = AutoModelWithLMHead.from_pretrained('mrm8488/t5-base-finetuned-summarize-news')"
   ]
  },
  {
   "cell_type": "code",
   "execution_count": 16,
   "id": "8fab4f96-9b42-4946-bde7-ab470634ca1b",
   "metadata": {},
   "outputs": [
    {
     "name": "stdout",
     "output_type": "stream",
     "text": [
      "<pad> Trader Karl Schamotta, chief market strategist at Corpay, said that the alarm bells are telling us that something is going to break somewhere in the financial system. \"The alarm bells are telling us that something is going to break somewhere in the financial system,\" he added. Stock markets have sold off over the past three months. Since the beginning of July, the TSX wiped out all of the gains it made in the first two months.</s>\n",
      "None\n"
     ]
    }
   ],
   "source": [
    "story = \"\"\"\n",
    "Financial markets are not the economy and the economy is not financial markets. But it's often said that they're both afraid of the same things. In this case, the concern is that the economy is careening toward a recession.\n",
    "\"The alarm bells are telling us that something is going to break somewhere in the financial system,\" said Karl Schamotta, chief market strategist at Corpay, a foreign exchange service in Toronto.\n",
    "Stock markets have sold off over the past three months. Since the beginning of July, the TSX wiped out all of the gains it made in the first half of the year.\n",
    "U.S. stock indexes, such as the S&P 500 and the Dow Jones Industrial Average, have remained in positive territory, but not by much.\n",
    "Those markets reflect a doomy prognosis that isn't necessarily backed up by the economic data.\n",
    "\"\"\"\n",
    "\n",
    "summary = create_summary(model_t5news, tokenizer_t5news, story, 128, 64, 5.5, 5.5, 3)\n",
    "print(summary)"
   ]
  },
  {
   "cell_type": "code",
   "execution_count": null,
   "id": "9e7f7130-c54e-48f2-88b9-269e158fe6db",
   "metadata": {},
   "outputs": [],
   "source": []
  }
 ],
 "metadata": {
  "kernelspec": {
   "display_name": "Python 3 (ipykernel)",
   "language": "python",
   "name": "python3"
  },
  "language_info": {
   "codemirror_mode": {
    "name": "ipython",
    "version": 3
   },
   "file_extension": ".py",
   "mimetype": "text/x-python",
   "name": "python",
   "nbconvert_exporter": "python",
   "pygments_lexer": "ipython3",
   "version": "3.10.12"
  }
 },
 "nbformat": 4,
 "nbformat_minor": 5
}
