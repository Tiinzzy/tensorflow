{
 "cells": [
  {
   "cell_type": "code",
   "execution_count": 1,
   "id": "1685365f-dd7c-4500-8ebc-2664cc854f6f",
   "metadata": {},
   "outputs": [
    {
     "name": "stderr",
     "output_type": "stream",
     "text": [
      "2023-10-08 09:57:13.003516: I tensorflow/tsl/cuda/cudart_stub.cc:28] Could not find cuda drivers on your machine, GPU will not be used.\n",
      "2023-10-08 09:57:13.156572: I tensorflow/core/platform/cpu_feature_guard.cc:182] This TensorFlow binary is optimized to use available CPU instructions in performance-critical operations.\n",
      "To enable the following instructions: AVX2 FMA, in other operations, rebuild TensorFlow with the appropriate compiler flags.\n",
      "2023-10-08 09:57:14.455864: W tensorflow/compiler/tf2tensorrt/utils/py_utils.cc:38] TF-TRT Warning: Could not find TensorRT\n"
     ]
    }
   ],
   "source": [
    "#\n",
    "# THESE ARE AVAILABLE MODELS => https://huggingface.co/transformers/v4.4.2/pretrained_models.html\n",
    "#\n",
    "\n",
    "from transformers import pipeline, set_seed\n",
    "import warnings\n",
    "warnings.filterwarnings(\"ignore\")"
   ]
  },
  {
   "cell_type": "code",
   "execution_count": null,
   "id": "0bed68dc-7c61-41bd-bfed-749076dd85ab",
   "metadata": {},
   "outputs": [],
   "source": [
    "#\n",
    "# GPT 2\n",
    "#"
   ]
  },
  {
   "cell_type": "code",
   "execution_count": 2,
   "id": "29343a69-10db-44fa-a686-58cb63ee5f2c",
   "metadata": {},
   "outputs": [
    {
     "data": {
      "application/vnd.jupyter.widget-view+json": {
       "model_id": "5cff93f1dadd46b9833e67750a2f941f",
       "version_major": 2,
       "version_minor": 0
      },
      "text/plain": [
       "Downloading (…)neration_config.json:   0%|          | 0.00/124 [00:00<?, ?B/s]"
      ]
     },
     "metadata": {},
     "output_type": "display_data"
    }
   ],
   "source": [
    "generator = pipeline('text-generation', model='gpt2')"
   ]
  },
  {
   "cell_type": "code",
   "execution_count": 17,
   "id": "cca00b9f-b91a-47cb-8a5c-a4521945d34e",
   "metadata": {},
   "outputs": [
    {
     "name": "stderr",
     "output_type": "stream",
     "text": [
      "Setting `pad_token_id` to `eos_token_id`:50256 for open-end generation.\n"
     ]
    },
    {
     "data": {
      "text/plain": [
       "[{'generated_text': 'I was eating a heavy dinner and was planning to go out for a walk, but \\xa0I\\xa0told people I had just eaten my meal and felt nauseous and\\xa0 was trying to do an act to break up the\\xa0 party. Then I told my boyfriend to go ahead and eat there for'},\n",
       " {'generated_text': \"I was eating a heavy dinner and was planning to go out for a walk, but \\xa0just went downstairs to get his coat, the police came, showed up a couple hours later for a search warrant and arrested me. The dog wasn't injured. I got the dog back into the home,\"},\n",
       " {'generated_text': \"I was eating a heavy dinner and was planning to go out for a walk, but iced tea and caffeine would kill me. In two hours or less I would have forgotten my alarm clock. He thought I would wake up to 5AM.\\n\\nHe tried to explain that I didn't need\"}]"
      ]
     },
     "execution_count": 17,
     "metadata": {},
     "output_type": "execute_result"
    }
   ],
   "source": [
    "set_seed(150)\n",
    "generator(\"I was eating a heavy dinner and was planning to go out for a walk, but \", max_length=60, num_return_sequences=3)"
   ]
  },
  {
   "cell_type": "code",
   "execution_count": 19,
   "id": "519706bb-74c5-4efa-af95-f92dc79e0033",
   "metadata": {},
   "outputs": [
    {
     "name": "stderr",
     "output_type": "stream",
     "text": [
      "Setting `pad_token_id` to `eos_token_id`:50256 for open-end generation.\n"
     ]
    },
    {
     "data": {
      "text/plain": [
       "[{'generated_text': 'Workout makes you work more and more during your'},\n",
       " {'generated_text': \"Workout makes you think, 'What am I\"},\n",
       " {'generated_text': 'Workout makes you stay motivated and work through hard'},\n",
       " {'generated_text': \"Workout makes you think you're ready, not\"},\n",
       " {'generated_text': 'Workout makes you more than happy\\n\\nThere'}]"
      ]
     },
     "execution_count": 19,
     "metadata": {},
     "output_type": "execute_result"
    }
   ],
   "source": [
    "generator(\"Workout makes you\", max_length=10, num_return_sequences=5)"
   ]
  },
  {
   "cell_type": "code",
   "execution_count": 20,
   "id": "e4675267-b980-433f-af96-c6302c21b67b",
   "metadata": {},
   "outputs": [],
   "source": [
    "#\n",
    "# Sentiment Analysis\n",
    "#"
   ]
  },
  {
   "cell_type": "code",
   "execution_count": 75,
   "id": "d57ed566-9deb-4bc0-a315-0a8bbaf7aec6",
   "metadata": {},
   "outputs": [],
   "source": [
    "# review = \"The service quality was bad, I will never come back\"\n",
    "review = \"I do not recommend this product.\"\n",
    "seed_num = 666"
   ]
  },
  {
   "cell_type": "code",
   "execution_count": 76,
   "id": "7bab5951-1879-4e0b-a55c-974a54d45731",
   "metadata": {},
   "outputs": [
    {
     "name": "stderr",
     "output_type": "stream",
     "text": [
      "Some weights of GPT2ForSequenceClassification were not initialized from the model checkpoint at gpt2 and are newly initialized: ['score.weight']\n",
      "You should probably TRAIN this model on a down-stream task to be able to use it for predictions and inference.\n"
     ]
    },
    {
     "data": {
      "text/plain": [
       "[{'label': 'LABEL_1', 'score': 0.9999618530273438}]"
      ]
     },
     "execution_count": 76,
     "metadata": {},
     "output_type": "execute_result"
    }
   ],
   "source": [
    "set_seed(seed_num)\n",
    "classifier = pipeline('sentiment-analysis', model='gpt2')\n",
    "classifier(review)"
   ]
  },
  {
   "cell_type": "code",
   "execution_count": 78,
   "id": "30196cac-7bcf-49a3-a5f0-f0d60f9f6c1a",
   "metadata": {},
   "outputs": [
    {
     "name": "stderr",
     "output_type": "stream",
     "text": [
      "No model was supplied, defaulted to distilbert-base-uncased-finetuned-sst-2-english and revision af0f99b (https://huggingface.co/distilbert-base-uncased-finetuned-sst-2-english).\n",
      "Using a pipeline without specifying a model name and revision in production is not recommended.\n"
     ]
    },
    {
     "data": {
      "text/plain": [
       "[{'label': 'NEGATIVE', 'score': 0.9908952713012695}]"
      ]
     },
     "execution_count": 78,
     "metadata": {},
     "output_type": "execute_result"
    }
   ],
   "source": [
    "set_seed(seed_num)\n",
    "classifier = pipeline('sentiment-analysis')\n",
    "classifier(review)"
   ]
  },
  {
   "cell_type": "code",
   "execution_count": 87,
   "id": "e8e7c277-b540-4c50-aedb-20c8df69d72c",
   "metadata": {},
   "outputs": [
    {
     "name": "stderr",
     "output_type": "stream",
     "text": [
      "Some weights of DistilBertForSequenceClassification were not initialized from the model checkpoint at distilbert-base-uncased and are newly initialized: ['classifier.bias', 'classifier.weight', 'pre_classifier.bias', 'pre_classifier.weight']\n",
      "You should probably TRAIN this model on a down-stream task to be able to use it for predictions and inference.\n"
     ]
    },
    {
     "data": {
      "text/plain": [
       "[{'label': 'LABEL_0', 'score': 0.5122148394584656}]"
      ]
     },
     "execution_count": 87,
     "metadata": {},
     "output_type": "execute_result"
    }
   ],
   "source": [
    "set_seed(seed_num)\n",
    "classifier = pipeline('sentiment-analysis', model=\"distilbert-base-uncased\")\n",
    "classifier(review)"
   ]
  },
  {
   "cell_type": "code",
   "execution_count": 88,
   "id": "cb6807d9-7ecd-469c-8b31-14444d765458",
   "metadata": {},
   "outputs": [
    {
     "data": {
      "text/plain": [
       "[{'label': 'NEGATIVE', 'score': 0.9908952713012695}]"
      ]
     },
     "execution_count": 88,
     "metadata": {},
     "output_type": "execute_result"
    }
   ],
   "source": [
    "set_seed(seed_num)\n",
    "classifier = pipeline('sentiment-analysis', model=\"distilbert-base-uncased-finetuned-sst-2-english\")\n",
    "classifier(review)"
   ]
  },
  {
   "cell_type": "code",
   "execution_count": 79,
   "id": "e3d613f0-c2e9-4f61-9cac-7d3f7362a0ab",
   "metadata": {},
   "outputs": [
    {
     "name": "stderr",
     "output_type": "stream",
     "text": [
      "Some weights of BertForSequenceClassification were not initialized from the model checkpoint at bert-large-cased and are newly initialized: ['classifier.bias', 'classifier.weight']\n",
      "You should probably TRAIN this model on a down-stream task to be able to use it for predictions and inference.\n"
     ]
    },
    {
     "data": {
      "text/plain": [
       "[{'label': 'LABEL_0', 'score': 0.5531624555587769}]"
      ]
     },
     "execution_count": 79,
     "metadata": {},
     "output_type": "execute_result"
    }
   ],
   "source": [
    "set_seed(seed_num)\n",
    "classifier = pipeline('sentiment-analysis', model='bert-large-cased')\n",
    "classifier(review)"
   ]
  },
  {
   "cell_type": "code",
   "execution_count": 80,
   "id": "73e70edb-5583-439f-bdda-97643a534582",
   "metadata": {},
   "outputs": [
    {
     "name": "stderr",
     "output_type": "stream",
     "text": [
      "Some weights of BertForSequenceClassification were not initialized from the model checkpoint at bert-base-uncased and are newly initialized: ['classifier.bias', 'classifier.weight']\n",
      "You should probably TRAIN this model on a down-stream task to be able to use it for predictions and inference.\n"
     ]
    },
    {
     "data": {
      "text/plain": [
       "[{'label': 'LABEL_1', 'score': 0.65462327003479}]"
      ]
     },
     "execution_count": 80,
     "metadata": {},
     "output_type": "execute_result"
    }
   ],
   "source": [
    "set_seed(seed_num)\n",
    "classifier = pipeline('sentiment-analysis', model='bert-base-uncased')\n",
    "classifier(review)"
   ]
  },
  {
   "cell_type": "code",
   "execution_count": 81,
   "id": "34d08eca-d109-421d-8735-6c619939bbf6",
   "metadata": {},
   "outputs": [
    {
     "name": "stderr",
     "output_type": "stream",
     "text": [
      "Some weights of GPT2ForSequenceClassification were not initialized from the model checkpoint at gpt2-medium and are newly initialized: ['score.weight']\n",
      "You should probably TRAIN this model on a down-stream task to be able to use it for predictions and inference.\n"
     ]
    },
    {
     "data": {
      "text/plain": [
       "[{'label': 'LABEL_1', 'score': 0.7645135521888733}]"
      ]
     },
     "execution_count": 81,
     "metadata": {},
     "output_type": "execute_result"
    }
   ],
   "source": [
    "set_seed(seed_num)\n",
    "classifier = pipeline('sentiment-analysis', model='gpt2-medium')\n",
    "classifier(review)"
   ]
  },
  {
   "cell_type": "code",
   "execution_count": 82,
   "id": "b5e1610f-cf9e-4b9e-a259-76f8bc656b89",
   "metadata": {},
   "outputs": [
    {
     "name": "stderr",
     "output_type": "stream",
     "text": [
      "Some weights of XLNetForSequenceClassification were not initialized from the model checkpoint at xlnet-base-cased and are newly initialized: ['logits_proj.bias', 'sequence_summary.summary.bias', 'logits_proj.weight', 'sequence_summary.summary.weight']\n",
      "You should probably TRAIN this model on a down-stream task to be able to use it for predictions and inference.\n"
     ]
    },
    {
     "data": {
      "text/plain": [
       "[{'label': 'LABEL_1', 'score': 0.6542659997940063}]"
      ]
     },
     "execution_count": 82,
     "metadata": {},
     "output_type": "execute_result"
    }
   ],
   "source": [
    "set_seed(seed_num)\n",
    "classifier = pipeline('sentiment-analysis', model='xlnet-base-cased')\n",
    "classifier(review)"
   ]
  },
  {
   "cell_type": "code",
   "execution_count": 83,
   "id": "5b8cd138-4242-4821-8dee-3ddcd988382f",
   "metadata": {},
   "outputs": [],
   "source": [
    "#\n",
    "# Question & Answer\n",
    "#"
   ]
  },
  {
   "cell_type": "code",
   "execution_count": 89,
   "id": "0f96b57f-f5b5-4075-a4bd-27864cc3ade0",
   "metadata": {},
   "outputs": [
    {
     "name": "stderr",
     "output_type": "stream",
     "text": [
      "No model was supplied, defaulted to distilbert-base-cased-distilled-squad and revision 626af31 (https://huggingface.co/distilbert-base-cased-distilled-squad).\n",
      "Using a pipeline without specifying a model name and revision in production is not recommended.\n"
     ]
    },
    {
     "data": {
      "text/plain": [
       "{'score': 0.6062518954277039,\n",
       " 'start': 42,\n",
       " 'end': 97,\n",
       " 'answer': '\"For every action there is equal and opposite reaction\"'}"
      ]
     },
     "execution_count": 89,
     "metadata": {},
     "output_type": "execute_result"
    }
   ],
   "source": [
    "set_seed(seed_num)\n",
    "question_answerer = pipeline('question-answering')\n",
    "question_answerer({\n",
    "    'question': 'What is the Newtons third law of motion?',\n",
    "    'context': 'Newton’s third law of motion states that, \"For every action there is equal and opposite reaction\"'})"
   ]
  },
  {
   "cell_type": "code",
   "execution_count": 92,
   "id": "b1e1d2ed-eaa6-4f40-861a-8409a4c42f54",
   "metadata": {},
   "outputs": [
    {
     "name": "stderr",
     "output_type": "stream",
     "text": [
      "Some weights of ElectraForQuestionAnswering were not initialized from the model checkpoint at google/electra-small-discriminator and are newly initialized: ['qa_outputs.bias', 'qa_outputs.weight']\n",
      "You should probably TRAIN this model on a down-stream task to be able to use it for predictions and inference.\n"
     ]
    },
    {
     "data": {
      "text/plain": [
       "{'score': 0.00446308683604002,\n",
       " 'start': 6,\n",
       " 'end': 41,\n",
       " 'answer': '’s third law of motion states that,'}"
      ]
     },
     "execution_count": 92,
     "metadata": {},
     "output_type": "execute_result"
    }
   ],
   "source": [
    "set_seed(seed_num)\n",
    "question_answerer = pipeline('question-answering', model=\"google/electra-small-discriminator\") \n",
    "question_answerer({\n",
    "    'question': 'What is the Newtons third law of motion?',\n",
    "    'context': 'Newton’s third law of motion states that, \"For every action there is equal and opposite reaction\"'})"
   ]
  },
  {
   "cell_type": "code",
   "execution_count": 94,
   "id": "7f56cc7b-4d8b-4f13-ba46-ce7f62542e88",
   "metadata": {},
   "outputs": [
    {
     "data": {
      "text/plain": [
       "{'score': 0.34956520795822144,\n",
       " 'start': 42,\n",
       " 'end': 97,\n",
       " 'answer': '\"For every action there is equal and opposite reaction\"'}"
      ]
     },
     "execution_count": 94,
     "metadata": {},
     "output_type": "execute_result"
    }
   ],
   "source": [
    "set_seed(seed_num)\n",
    "question_answerer = pipeline('question-answering', model=\"deepset/roberta-base-squad2\") \n",
    "question_answerer({\n",
    "    'question': 'What is the Newtons third law of motion?',\n",
    "    'context': 'Newton’s third law of motion states that, \"For every action there is equal and opposite reaction\"'})"
   ]
  },
  {
   "cell_type": "code",
   "execution_count": 98,
   "id": "eaaad7c6-938d-4950-897a-3d57e0f8d3ba",
   "metadata": {},
   "outputs": [
    {
     "data": {
      "text/plain": [
       "{'score': 0.5708293318748474,\n",
       " 'start': 0,\n",
       " 'end': 15,\n",
       " 'answer': 'a mountain lion'}"
      ]
     },
     "execution_count": 98,
     "metadata": {},
     "output_type": "execute_result"
    }
   ],
   "source": [
    "set_seed(seed_num)\n",
    "question_answerer = pipeline('question-answering', model=\"deepset/roberta-base-squad2\") \n",
    "question_answerer({\n",
    "    'question': 'Who was famous in LA',\n",
    "    'context': \"a mountain lion prevented from finding a mate because he’s trapped by L.A. freeways becomes famous and inspires the construction of the world’s largest wildlife overpass.\"})"
   ]
  },
  {
   "cell_type": "code",
   "execution_count": 100,
   "id": "bd42d47b-8020-496a-8fd8-5e44734dc257",
   "metadata": {},
   "outputs": [
    {
     "data": {
      "text/plain": [
       "{'score': 0.30514708161354065,\n",
       " 'start': 2,\n",
       " 'end': 15,\n",
       " 'answer': 'mountain lion'}"
      ]
     },
     "execution_count": 100,
     "metadata": {},
     "output_type": "execute_result"
    }
   ],
   "source": [
    "set_seed(seed_num)\n",
    "question_answerer = pipeline('question-answering', model=\"deepset/roberta-base-squad2\") \n",
    "question_answerer({\n",
    "    'question': 'Who was looking for a mate?',\n",
    "    'context': \"a mountain lion prevented from finding a mate because he’s trapped by L.A. freeways becomes famous and inspires the construction of the world’s largest wildlife overpass.\"})"
   ]
  },
  {
   "cell_type": "code",
   "execution_count": 101,
   "id": "360a73eb-4cdf-4ca8-a98d-810305f76b86",
   "metadata": {},
   "outputs": [
    {
     "data": {
      "text/plain": [
       "{'score': 0.9029807448387146,\n",
       " 'start': 70,\n",
       " 'end': 83,\n",
       " 'answer': 'L.A. freeways'}"
      ]
     },
     "execution_count": 101,
     "metadata": {},
     "output_type": "execute_result"
    }
   ],
   "source": [
    "set_seed(seed_num)\n",
    "question_answerer = pipeline('question-answering', model=\"deepset/roberta-base-squad2\") \n",
    "question_answerer({\n",
    "    'question': 'Where did the mountain lion trap?',\n",
    "    'context': \"a mountain lion prevented from finding a mate because he’s trapped by L.A. freeways becomes famous and inspires the construction of the world’s largest wildlife overpass.\"})"
   ]
  },
  {
   "cell_type": "code",
   "execution_count": 102,
   "id": "48d7d92c-e6c2-4a3d-aad6-70c64ca29ef6",
   "metadata": {},
   "outputs": [],
   "source": [
    "#\n",
    "# MASKING\n",
    "#"
   ]
  },
  {
   "cell_type": "code",
   "execution_count": 108,
   "id": "e522b61b-5f5e-42a9-98ed-c559bfc4194c",
   "metadata": {},
   "outputs": [
    {
     "name": "stderr",
     "output_type": "stream",
     "text": [
      "Some weights of the model checkpoint at bert-base-cased were not used when initializing BertForMaskedLM: ['bert.pooler.dense.bias', 'bert.pooler.dense.weight', 'cls.seq_relationship.bias', 'cls.seq_relationship.weight']\n",
      "- This IS expected if you are initializing BertForMaskedLM from the checkpoint of a model trained on another task or with another architecture (e.g. initializing a BertForSequenceClassification model from a BertForPreTraining model).\n",
      "- This IS NOT expected if you are initializing BertForMaskedLM from the checkpoint of a model that you expect to be exactly identical (initializing a BertForSequenceClassification model from a BertForSequenceClassification model).\n"
     ]
    },
    {
     "data": {
      "text/plain": [
       "[[{'score': 0.010082312859594822,\n",
       "   'token': 1681,\n",
       "   'token_str': 'David',\n",
       "   'sequence': '[CLS] Hello, My name is David, what is your [MASK]. [SEP]'}],\n",
       " [{'score': 0.9694461822509766,\n",
       "   'token': 1271,\n",
       "   'token_str': 'name',\n",
       "   'sequence': '[CLS] Hello, My name is [MASK], what is your name. [SEP]'}]]"
      ]
     },
     "execution_count": 108,
     "metadata": {},
     "output_type": "execute_result"
    }
   ],
   "source": [
    "set_seed(seed_num)\n",
    "unmasker = pipeline('fill-mask', model='bert-base-cased',  tokenizer=\"bert-base-cased\")\n",
    "unmasker(\"Hello, My name is [MASK], what is your [MASK].\", top_k=1)"
   ]
  },
  {
   "cell_type": "code",
   "execution_count": null,
   "id": "129314dd-88b7-4a1d-9b3d-b8267d1468f5",
   "metadata": {},
   "outputs": [],
   "source": []
  }
 ],
 "metadata": {
  "kernelspec": {
   "display_name": "Python 3 (ipykernel)",
   "language": "python",
   "name": "python3"
  },
  "language_info": {
   "codemirror_mode": {
    "name": "ipython",
    "version": 3
   },
   "file_extension": ".py",
   "mimetype": "text/x-python",
   "name": "python",
   "nbconvert_exporter": "python",
   "pygments_lexer": "ipython3",
   "version": "3.10.12"
  }
 },
 "nbformat": 4,
 "nbformat_minor": 5
}
