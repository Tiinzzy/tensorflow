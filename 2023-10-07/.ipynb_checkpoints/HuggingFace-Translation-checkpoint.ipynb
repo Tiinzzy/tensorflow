{
 "cells": [
  {
   "cell_type": "code",
   "execution_count": 1,
   "id": "fda711bc-e79d-4e6d-80d3-262b050ad5d8",
   "metadata": {},
   "outputs": [
    {
     "name": "stderr",
     "output_type": "stream",
     "text": [
      "2023-10-10 08:59:05.578644: I tensorflow/tsl/cuda/cudart_stub.cc:28] Could not find cuda drivers on your machine, GPU will not be used.\n",
      "2023-10-10 08:59:05.615681: I tensorflow/core/platform/cpu_feature_guard.cc:182] This TensorFlow binary is optimized to use available CPU instructions in performance-critical operations.\n",
      "To enable the following instructions: AVX2 FMA, in other operations, rebuild TensorFlow with the appropriate compiler flags.\n",
      "2023-10-10 08:59:06.305471: W tensorflow/compiler/tf2tensorrt/utils/py_utils.cc:38] TF-TRT Warning: Could not find TensorRT\n"
     ]
    }
   ],
   "source": [
    "from transformers import pipeline"
   ]
  },
  {
   "cell_type": "code",
   "execution_count": 2,
   "id": "8a3d3e46-1bba-4bb8-ae7c-69861bf1e7ea",
   "metadata": {},
   "outputs": [],
   "source": [
    "# \n",
    "# Other language translations => https://huggingface.co/Helsinki-NLP\n",
    "# "
   ]
  },
  {
   "cell_type": "code",
   "execution_count": 3,
   "id": "378af8bf-5f95-41a6-ba69-f45306d6d3fc",
   "metadata": {},
   "outputs": [
    {
     "name": "stderr",
     "output_type": "stream",
     "text": [
      "/home/tina/tf-demo/tensorflow-dev/lib/python3.10/site-packages/transformers/models/marian/tokenization_marian.py:197: UserWarning: Recommended: pip install sacremoses.\n",
      "  warnings.warn(\"Recommended: pip install sacremoses.\")\n"
     ]
    }
   ],
   "source": [
    "german_translator = pipeline(\"translation\", model=\"Helsinki-NLP/opus-mt-en-de\")"
   ]
  },
  {
   "cell_type": "code",
   "execution_count": 4,
   "id": "49e4fb4f-0d56-4741-beb3-b034dccf5e6e",
   "metadata": {},
   "outputs": [
    {
     "data": {
      "text/plain": [
       "[{'translation_text': 'Ich bin Rito, und ich suche ein Taxi, um das Symposium zu erreichen.'}]"
      ]
     },
     "execution_count": 4,
     "metadata": {},
     "output_type": "execute_result"
    }
   ],
   "source": [
    "german_translator(\"I am Rito, and I am looking for a taxi to reach the symposium.\")"
   ]
  },
  {
   "cell_type": "code",
   "execution_count": 5,
   "id": "2396950e-9802-47d1-8e67-598e784809df",
   "metadata": {},
   "outputs": [],
   "source": [
    "bengali_translator = pipeline(\"translation\", model=\"Helsinki-NLP/opus-mt-bn-en\")"
   ]
  },
  {
   "cell_type": "code",
   "execution_count": 6,
   "id": "c51547bb-a21f-4ca0-8b5a-d6ac0558d7af",
   "metadata": {},
   "outputs": [
    {
     "data": {
      "text/plain": [
       "[{'translation_text': \"It's been raining since yesterday night, it's been flooded.\"}]"
      ]
     },
     "execution_count": 6,
     "metadata": {},
     "output_type": "execute_result"
    }
   ],
   "source": [
    "bengali_translator(\"গতকাল রাত থেকে খুব বৃষ্টি হয়েছে, চারিদিক জলে ভেসে গেছে।\")"
   ]
  },
  {
   "cell_type": "code",
   "execution_count": 7,
   "id": "10326d7e-e83e-4dc5-8b26-0b18e2d3dc59",
   "metadata": {},
   "outputs": [],
   "source": [
    "italian_translator = pipeline(\"translation\", model=\"Helsinki-NLP/opus-mt-en-it\")"
   ]
  },
  {
   "cell_type": "code",
   "execution_count": 8,
   "id": "374ceb6b-b250-4e02-8eee-3f64a182ffea",
   "metadata": {},
   "outputs": [
    {
     "data": {
      "text/plain": [
       "[{'translation_text': 'Oggi è nuvoloso con possibilità di pioggia'}]"
      ]
     },
     "execution_count": 8,
     "metadata": {},
     "output_type": "execute_result"
    }
   ],
   "source": [
    "italian_translator(\"Today is cloudy with chance of rain\")"
   ]
  }
 ],
 "metadata": {
  "kernelspec": {
   "display_name": "Python 3 (ipykernel)",
   "language": "python",
   "name": "python3"
  },
  "language_info": {
   "codemirror_mode": {
    "name": "ipython",
    "version": 3
   },
   "file_extension": ".py",
   "mimetype": "text/x-python",
   "name": "python",
   "nbconvert_exporter": "python",
   "pygments_lexer": "ipython3",
   "version": "3.10.12"
  }
 },
 "nbformat": 4,
 "nbformat_minor": 5
}
