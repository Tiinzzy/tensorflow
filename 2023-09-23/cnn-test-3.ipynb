{
 "cells": [
  {
   "cell_type": "code",
   "execution_count": 83,
   "id": "aeb8790b-1d12-49d5-998d-ac6698414f8d",
   "metadata": {},
   "outputs": [],
   "source": [
    "import os\n",
    "import numpy as np\n",
    "import matplotlib.pyplot as plt\n",
    "from sklearn.model_selection import train_test_split\n",
    "\n",
    "import tensorflow as tf\n",
    "from tensorflow.keras.datasets import fashion_mnist\n",
    "from tensorflow.keras.utils import to_categorical\n",
    "\n",
    "from tensorflow.keras.applications import MobileNetV2\n",
    "from tensorflow.keras.layers import Dense, GlobalAveragePooling2D, Input\n",
    "from tensorflow.keras.models import Model\n",
    "from tensorflow.keras.preprocessing.image import ImageDataGenerator"
   ]
  },
  {
   "cell_type": "code",
   "execution_count": 72,
   "id": "ba845275-6857-41a2-8f77-7227ade0ce4a",
   "metadata": {},
   "outputs": [],
   "source": [
    "num_threads = 5\n",
    "os.environ[\"OMP_NUM_THREADS\"] = \"5\"\n",
    "os.environ[\"TF_NUM_INTRAOP_THREADS\"] = \"5\"\n",
    "os.environ[\"TF_NUM_INTEROP_THREADS\"] = \"5\"\n",
    "tf.config.threading.set_inter_op_parallelism_threads(num_threads)\n",
    "tf.config.threading.set_intra_op_parallelism_threads(num_threads)\n",
    "tf.config.set_soft_device_placement(True)"
   ]
  },
  {
   "cell_type": "code",
   "execution_count": 154,
   "id": "01abc724-b0e8-4075-9ab8-1de425e529ff",
   "metadata": {},
   "outputs": [],
   "source": [
    "(train_X, train_Y), (test_X, test_Y) = fashion_mnist.load_data()"
   ]
  },
  {
   "cell_type": "code",
   "execution_count": 155,
   "id": "dd176ef3-948b-46be-aae2-933ac7d124aa",
   "metadata": {},
   "outputs": [
    {
     "data": {
      "text/plain": [
       "(10000, 28, 28)"
      ]
     },
     "execution_count": 155,
     "metadata": {},
     "output_type": "execute_result"
    }
   ],
   "source": [
    "test_X.shape"
   ]
  },
  {
   "cell_type": "code",
   "execution_count": 156,
   "id": "631400bf-8c84-450f-81de-7d0684b67b8b",
   "metadata": {},
   "outputs": [],
   "source": [
    "train_X = train_X.reshape(len(train_X)*28*28,)\n",
    "test_X = test_X.reshape(len(test_X)*28*28,)"
   ]
  },
  {
   "cell_type": "code",
   "execution_count": 157,
   "id": "6e8d3c75-477f-4f04-8890-1bc6fb041539",
   "metadata": {},
   "outputs": [],
   "source": [
    "def to_my_shape(X):\n",
    "    new_X = []\n",
    "    for i in range(len(X)):\n",
    "        color = X[i]\n",
    "        new_X.append([color,color,color])\n",
    "    return np.array(new_X)\n",
    "            \n",
    "new_test_X = to_my_shape(test_X)"
   ]
  },
  {
   "cell_type": "code",
   "execution_count": 158,
   "id": "cc0a10bb-b9ae-411b-9f8e-1376fb371a5e",
   "metadata": {},
   "outputs": [],
   "source": [
    "# train_X = train_X.reshape(-1, 28,28, 1)\n",
    "# test_X = test_X.reshape(-1, 28,28, 1)"
   ]
  },
  {
   "cell_type": "code",
   "execution_count": 159,
   "id": "92fa4a41-1032-4323-8bdf-12dcab078689",
   "metadata": {},
   "outputs": [
    {
     "data": {
      "text/plain": [
       "((7840000,), (7840000, 3))"
      ]
     },
     "execution_count": 159,
     "metadata": {},
     "output_type": "execute_result"
    }
   ],
   "source": [
    "test_X.shape, new_test_X.shape"
   ]
  },
  {
   "cell_type": "code",
   "execution_count": 160,
   "id": "0fc4d1a9-865a-4f0e-b5b8-477c95ec4419",
   "metadata": {},
   "outputs": [],
   "source": [
    "new_test_X = new_test_X.reshape(10000, 28,28, 3)"
   ]
  },
  {
   "cell_type": "code",
   "execution_count": 198,
   "id": "90e6ec78-894b-4da6-9d75-a1d970bded03",
   "metadata": {},
   "outputs": [
    {
     "data": {
      "text/plain": [
       "<matplotlib.image.AxesImage at 0x7f421726d360>"
      ]
     },
     "execution_count": 198,
     "metadata": {},
     "output_type": "execute_result"
    },
    {
     "data": {
      "image/png": "[encoded data removed]",
      "text/plain": [
       "<Figure size 640x480 with 1 Axes>"
      ]
     },
     "metadata": {},
     "output_type": "display_data"
    }
   ],
   "source": [
    "new_test_X.shape\n",
    "plt.figure()\n",
    "plt.imshow(new_test_X[0])"
   ]
  },
  {
   "cell_type": "code",
   "execution_count": null,
   "id": "1d80a730-aa10-4fc9-a590-fc3efa98887d",
   "metadata": {},
   "outputs": [],
   "source": []
  },
  {
   "cell_type": "code",
   "execution_count": 80,
   "id": "101821e5-a934-4210-8917-b8777b757c11",
   "metadata": {},
   "outputs": [],
   "source": [
    "train_X = train_X.astype('float32')\n",
    "test_X = test_X.astype('float32')\n",
    "train_X = train_X / 255.\n",
    "test_X = test_X / 255."
   ]
  },
  {
   "cell_type": "code",
   "execution_count": null,
   "id": "1380ccca-278b-456c-8a37-f6422f286793",
   "metadata": {},
   "outputs": [],
   "source": []
  },
  {
   "cell_type": "code",
   "execution_count": 81,
   "id": "3606ed12-fb3c-44fc-be8e-5955225d24ec",
   "metadata": {},
   "outputs": [
    {
     "name": "stdout",
     "output_type": "stream",
     "text": [
      "Original label: 9\n",
      "After conversion to one-hot: [0. 0. 0. 0. 0. 0. 0. 0. 0. 1.]\n"
     ]
    }
   ],
   "source": [
    "train_Y_one_hot = to_categorical(train_Y)\n",
    "test_Y_one_hot = to_categorical(test_Y)\n",
    "print('Original label:', train_Y[0])\n",
    "print('After conversion to one-hot:', train_Y_one_hot[0])"
   ]
  },
  {
   "cell_type": "code",
   "execution_count": 84,
   "id": "86b4ee8e-61bc-439f-8b6c-215644c1a594",
   "metadata": {},
   "outputs": [],
   "source": [
    "train_X,valid_X,train_label,valid_label = train_test_split(train_X, train_Y_one_hot, test_size=0.2, random_state=13)"
   ]
  },
  {
   "cell_type": "code",
   "execution_count": null,
   "id": "3fac9a9e-ffca-4adb-a43e-b81f6d069ea2",
   "metadata": {},
   "outputs": [],
   "source": []
  },
  {
   "cell_type": "code",
   "execution_count": 192,
   "id": "e0e77835-b87b-48a6-96a0-d517f737ec80",
   "metadata": {},
   "outputs": [
    {
     "data": {
      "text/plain": [
       "array([[[[11, 11, 11],\n",
       "         [12, 12, 12]],\n",
       "\n",
       "        [[21, 21, 21],\n",
       "         [22, 22, 22]]]])"
      ]
     },
     "execution_count": 192,
     "metadata": {},
     "output_type": "execute_result"
    }
   ],
   "source": [
    "a = np.array([ [ [[11,11,11],[12,12,12]], [[21,21,21],[22,22,22]] ] ])\n",
    "a"
   ]
  },
  {
   "cell_type": "code",
   "execution_count": 191,
   "id": "ad6214ed-b9a7-4c23-a284-60b505ac7582",
   "metadata": {},
   "outputs": [
    {
     "data": {
      "text/plain": [
       "array([[[[ 0,  0,  0],\n",
       "         [ 0,  0,  0],\n",
       "         [ 0,  0,  0]],\n",
       "\n",
       "        [[ 0,  0,  0],\n",
       "         [11, 11, 11],\n",
       "         [12, 12, 12]],\n",
       "\n",
       "        [[ 0,  0,  0],\n",
       "         [21, 21, 21],\n",
       "         [22, 22, 22]]]])"
      ]
     },
     "execution_count": 191,
     "metadata": {},
     "output_type": "execute_result"
    }
   ],
   "source": [
    "np.pad(a,((0, 0), (1, 0), (1, 0), (0, 0)))"
   ]
  },
  {
   "cell_type": "code",
   "execution_count": 196,
   "id": "3183993a-eaaf-4fa0-88a3-388a3844d140",
   "metadata": {},
   "outputs": [],
   "source": [
    "nn_X = np.pad(new_test_X,((0, 0), (4, 0), (4, 0), (0, 0)))"
   ]
  },
  {
   "cell_type": "code",
   "execution_count": 197,
   "id": "10480846-2cc7-48c7-9762-6cfc5dfb8142",
   "metadata": {},
   "outputs": [
    {
     "data": {
      "text/plain": [
       "((10000, 28, 28, 3), (10000, 32, 32, 3))"
      ]
     },
     "execution_count": 197,
     "metadata": {},
     "output_type": "execute_result"
    }
   ],
   "source": [
    "new_test_X.shape, nn_X.shape"
   ]
  },
  {
   "cell_type": "code",
   "execution_count": 199,
   "id": "91b1b1c6-913f-4c05-8357-102ee95744bb",
   "metadata": {},
   "outputs": [
    {
     "data": {
      "text/plain": [
       "<matplotlib.image.AxesImage at 0x7f421730be20>"
      ]
     },
     "execution_count": 199,
     "metadata": {},
     "output_type": "execute_result"
    },
    {
     "data": {
      "image/png": "[encoded data removed]",
      "text/plain": [
       "<Figure size 640x480 with 1 Axes>"
      ]
     },
     "metadata": {},
     "output_type": "display_data"
    }
   ],
   "source": [
    "plt.figure()\n",
    "plt.imshow(nn_X[0])"
   ]
  }
 ],
 "metadata": {
  "kernelspec": {
   "display_name": "Python 3 (ipykernel)",
   "language": "python",
   "name": "python3"
  },
  "language_info": {
   "codemirror_mode": {
    "name": "ipython",
    "version": 3
   },
   "file_extension": ".py",
   "mimetype": "text/x-python",
   "name": "python",
   "nbconvert_exporter": "python",
   "pygments_lexer": "ipython3",
   "version": "3.10.12"
  }
 },
 "nbformat": 4,
 "nbformat_minor": 5
}
