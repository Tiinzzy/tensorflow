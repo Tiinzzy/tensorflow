{
 "cells": [
  {
   "cell_type": "code",
   "execution_count": 52,
   "id": "16fb04f7-a349-4120-b732-824a6f2d5ef0",
   "metadata": {},
   "outputs": [],
   "source": [
    "import numpy as np\n",
    "import pandas as pd\n",
    "import matplotlib.pyplot as plt\n",
    "from sklearn.model_selection import train_test_split\n",
    "from sklearn.svm import SVC\n",
    "from sklearn.metrics import accuracy_score, confusion_matrix\n",
    "import seaborn as sns"
   ]
  },
  {
   "cell_type": "code",
   "execution_count": 53,
   "id": "26bbaad2-010e-4fbf-9fb1-88a1b4026f30",
   "metadata": {},
   "outputs": [],
   "source": [
    "dermatoDataset = pd.read_csv(\"/home/tina/Downloads/dermatology_database_1.csv\")\n",
    "dermatoDataset.age.replace(\"?\", 36.0, inplace=True)\n",
    "dermatoDataset['class'] = dermatoDataset['class'].values + 1"
   ]
  },
  {
   "cell_type": "code",
   "execution_count": 54,
   "id": "7b9c5e60-63e9-4f2a-a228-c3c3426e4214",
   "metadata": {},
   "outputs": [],
   "source": [
    "y = np.asarray(dermatoDataset[\"class\"].values)\n",
    "X = np.asarray(dermatoDataset.drop(\"class\", axis=1).values.astype(float))"
   ]
  },
  {
   "cell_type": "code",
   "execution_count": 55,
   "id": "1613b93f-3525-4811-8803-825ba1292f20",
   "metadata": {},
   "outputs": [
    {
     "data": {
      "text/plain": [
       "array([3, 2, 4, 2, 4, 3, 6, 4, 5, 5, 2, 3, 3, 2, 4, 5, 3, 2, 4, 6, 7, 3,\n",
       "       6, 4, 6, 2, 7, 6, 3, 4, 2, 3, 2, 2, 5, 3, 4, 3, 4, 2, 3, 5, 2, 3,\n",
       "       6, 4, 5, 7, 3, 4, 4, 5, 2, 2, 6, 2, 3, 4, 5, 3, 7, 2, 6, 2, 3, 4,\n",
       "       2, 5, 6, 2, 3, 7, 4, 6, 5, 3, 3, 2, 4, 6, 2, 3, 3, 3, 6, 2, 2, 4,\n",
       "       2, 5, 3, 3, 6, 2, 4, 5, 3, 6, 2, 7, 3, 6, 2, 3, 3, 2, 5, 2, 4, 2,\n",
       "       2, 4, 6, 4, 4, 6, 3, 4, 5, 2, 3, 6, 7, 2, 2, 3, 7, 4, 6, 5, 2, 2,\n",
       "       4, 6, 6, 2, 5, 3, 4, 2, 3, 2, 2, 4, 4, 4, 3, 6, 5, 3, 3, 2, 2, 2,\n",
       "       6, 4, 3, 4, 3, 3, 5, 3, 4, 7, 3, 2, 2, 4, 5, 4, 4, 2, 2, 2, 4, 2,\n",
       "       2, 3, 4, 4, 2, 2, 2, 2, 7, 3, 3, 3, 3, 2, 4, 4, 4, 2, 2, 3, 4, 3,\n",
       "       3, 3, 6, 6, 6, 6, 6, 2, 2, 2, 2, 2, 2, 2, 4, 4, 4, 4, 4, 4, 5, 5,\n",
       "       5, 5, 6, 6, 6, 6, 6, 6, 6, 3, 3, 3, 3, 2, 2, 2, 2, 2, 2, 7, 7, 2,\n",
       "       2, 2, 2, 2, 2, 2, 2, 4, 4, 4, 4, 4, 4, 4, 5, 5, 5, 5, 5, 5, 6, 6,\n",
       "       6, 6, 7, 7, 7, 5, 5, 5, 2, 2, 2, 2, 2, 3, 3, 5, 5, 5, 2, 2, 3, 3,\n",
       "       3, 4, 4, 4, 4, 2, 2, 2, 2, 6, 6, 6, 6, 6, 4, 4, 4, 5, 2, 2, 5, 5,\n",
       "       5, 2, 2, 2, 4, 4, 4, 4, 4, 2, 2, 2, 2, 5, 5, 2, 2, 5, 4, 4, 5, 2,\n",
       "       2, 5, 5, 6, 6, 2, 2, 6, 6, 4, 2, 6, 6, 7, 7, 5, 5, 7, 7, 7, 2, 2,\n",
       "       2, 6, 6, 2, 2, 2, 2, 3, 3, 5, 5, 4, 4, 2])"
      ]
     },
     "execution_count": 55,
     "metadata": {},
     "output_type": "execute_result"
    }
   ],
   "source": [
    "y"
   ]
  },
  {
   "cell_type": "code",
   "execution_count": 56,
   "id": "0c4ebfbd-b612-4c33-8b52-b4d1a1b8cd8f",
   "metadata": {},
   "outputs": [
    {
     "data": {
      "text/plain": [
       "array([[ 2.,  2.,  0., ...,  1.,  0., 55.],\n",
       "       [ 3.,  3.,  3., ...,  1.,  0.,  8.],\n",
       "       [ 2.,  1.,  2., ...,  2.,  3., 26.],\n",
       "       ...,\n",
       "       [ 3.,  2.,  2., ...,  2.,  3., 28.],\n",
       "       [ 2.,  1.,  3., ...,  2.,  3., 50.],\n",
       "       [ 3.,  2.,  2., ...,  3.,  0., 35.]])"
      ]
     },
     "execution_count": 56,
     "metadata": {},
     "output_type": "execute_result"
    }
   ],
   "source": [
    "X"
   ]
  },
  {
   "cell_type": "code",
   "execution_count": 126,
   "id": "e03059a9-b8d5-44d3-8f23-efa71ce562e2",
   "metadata": {},
   "outputs": [],
   "source": [
    "# X_train, X_temp, y_train, y_temp = train_test_split(X, y, test_size=0.1, random_state=20, shuffle=True, stratify=y)\n",
    "# X_val, X_test, y_val, y_test = train_test_split(X_temp, y_temp, test_size=0.2, random_state=20, shuffle=True, stratify=y_temp)\n",
    "\n",
    "X2, X_test, y2, y_test = train_test_split(X, y, test_size=0.1,random_state=20,shuffle=True,stratify=y)\n",
    "X_train, X_val, y_train, y_val = train_test_split(X, y, test_size=0.2,random_state=20,shuffle=True,stratify=y)"
   ]
  },
  {
   "cell_type": "code",
   "execution_count": 128,
   "id": "6525ca17-ee11-49f6-8bce-18df47c01900",
   "metadata": {},
   "outputs": [
    {
     "name": "stdout",
     "output_type": "stream",
     "text": [
      "2    12\n",
      "4     7\n",
      "3     6\n",
      "5     5\n",
      "6     5\n",
      "7     2\n",
      "Name: count, dtype: int64\n"
     ]
    }
   ],
   "source": [
    "print(pd.DataFrame(y_test).value_counts())"
   ]
  },
  {
   "cell_type": "code",
   "execution_count": 129,
   "id": "a51a0178-9533-45b8-ad19-84c22faf8324",
   "metadata": {},
   "outputs": [
    {
     "data": {
      "text/plain": [
       "((292, 34), (292,))"
      ]
     },
     "execution_count": 129,
     "metadata": {},
     "output_type": "execute_result"
    }
   ],
   "source": [
    "X_train.shape, y_train.shape"
   ]
  },
  {
   "cell_type": "code",
   "execution_count": 130,
   "id": "792d97e1-396d-4060-9264-339924b649e0",
   "metadata": {},
   "outputs": [
    {
     "data": {
      "text/plain": [
       "((37, 34), (37,))"
      ]
     },
     "execution_count": 130,
     "metadata": {},
     "output_type": "execute_result"
    }
   ],
   "source": [
    "X_temp.shape, y_temp.shape"
   ]
  },
  {
   "cell_type": "code",
   "execution_count": 131,
   "id": "3ff810f9-c843-43b1-bd12-03092e0b5705",
   "metadata": {},
   "outputs": [
    {
     "data": {
      "text/plain": [
       "((74, 34), (74,))"
      ]
     },
     "execution_count": 131,
     "metadata": {},
     "output_type": "execute_result"
    }
   ],
   "source": [
    "X_val.shape, y_val.shape"
   ]
  },
  {
   "cell_type": "code",
   "execution_count": 132,
   "id": "0979e762-37f3-4030-99bc-fb9c238c5f98",
   "metadata": {},
   "outputs": [
    {
     "data": {
      "text/plain": [
       "((37, 34), (37,))"
      ]
     },
     "execution_count": 132,
     "metadata": {},
     "output_type": "execute_result"
    }
   ],
   "source": [
    "X_test.shape, y_test.shape"
   ]
  },
  {
   "cell_type": "code",
   "execution_count": 133,
   "id": "e0eb070d-1f4d-493f-80f7-d84875e26778",
   "metadata": {},
   "outputs": [
    {
     "data": {
      "text/html": [
       "<style>#sk-container-id-29 {color: black;}#sk-container-id-29 pre{padding: 0;}#sk-container-id-29 div.sk-toggleable {background-color: white;}#sk-container-id-29 label.sk-toggleable__label {cursor: pointer;display: block;width: 100%;margin-bottom: 0;padding: 0.3em;box-sizing: border-box;text-align: center;}#sk-container-id-29 label.sk-toggleable__label-arrow:before {content: \"▸\";float: left;margin-right: 0.25em;color: #696969;}#sk-container-id-29 label.sk-toggleable__label-arrow:hover:before {color: black;}#sk-container-id-29 div.sk-estimator:hover label.sk-toggleable__label-arrow:before {color: black;}#sk-container-id-29 div.sk-toggleable__content {max-height: 0;max-width: 0;overflow: hidden;text-align: left;background-color: #f0f8ff;}#sk-container-id-29 div.sk-toggleable__content pre {margin: 0.2em;color: black;border-radius: 0.25em;background-color: #f0f8ff;}#sk-container-id-29 input.sk-toggleable__control:checked~div.sk-toggleable__content {max-height: 200px;max-width: 100%;overflow: auto;}#sk-container-id-29 input.sk-toggleable__control:checked~label.sk-toggleable__label-arrow:before {content: \"▾\";}#sk-container-id-29 div.sk-estimator input.sk-toggleable__control:checked~label.sk-toggleable__label {background-color: #d4ebff;}#sk-container-id-29 div.sk-label input.sk-toggleable__control:checked~label.sk-toggleable__label {background-color: #d4ebff;}#sk-container-id-29 input.sk-hidden--visually {border: 0;clip: rect(1px 1px 1px 1px);clip: rect(1px, 1px, 1px, 1px);height: 1px;margin: -1px;overflow: hidden;padding: 0;position: absolute;width: 1px;}#sk-container-id-29 div.sk-estimator {font-family: monospace;background-color: #f0f8ff;border: 1px dotted black;border-radius: 0.25em;box-sizing: border-box;margin-bottom: 0.5em;}#sk-container-id-29 div.sk-estimator:hover {background-color: #d4ebff;}#sk-container-id-29 div.sk-parallel-item::after {content: \"\";width: 100%;border-bottom: 1px solid gray;flex-grow: 1;}#sk-container-id-29 div.sk-label:hover label.sk-toggleable__label {background-color: #d4ebff;}#sk-container-id-29 div.sk-serial::before {content: \"\";position: absolute;border-left: 1px solid gray;box-sizing: border-box;top: 0;bottom: 0;left: 50%;z-index: 0;}#sk-container-id-29 div.sk-serial {display: flex;flex-direction: column;align-items: center;background-color: white;padding-right: 0.2em;padding-left: 0.2em;position: relative;}#sk-container-id-29 div.sk-item {position: relative;z-index: 1;}#sk-container-id-29 div.sk-parallel {display: flex;align-items: stretch;justify-content: center;background-color: white;position: relative;}#sk-container-id-29 div.sk-item::before, #sk-container-id-29 div.sk-parallel-item::before {content: \"\";position: absolute;border-left: 1px solid gray;box-sizing: border-box;top: 0;bottom: 0;left: 50%;z-index: -1;}#sk-container-id-29 div.sk-parallel-item {display: flex;flex-direction: column;z-index: 1;position: relative;background-color: white;}#sk-container-id-29 div.sk-parallel-item:first-child::after {align-self: flex-end;width: 50%;}#sk-container-id-29 div.sk-parallel-item:last-child::after {align-self: flex-start;width: 50%;}#sk-container-id-29 div.sk-parallel-item:only-child::after {width: 0;}#sk-container-id-29 div.sk-dashed-wrapped {border: 1px dashed gray;margin: 0 0.4em 0.5em 0.4em;box-sizing: border-box;padding-bottom: 0.4em;background-color: white;}#sk-container-id-29 div.sk-label label {font-family: monospace;font-weight: bold;display: inline-block;line-height: 1.2em;}#sk-container-id-29 div.sk-label-container {text-align: center;}#sk-container-id-29 div.sk-container {/* jupyter's `normalize.less` sets `[hidden] { display: none; }` but bootstrap.min.css set `[hidden] { display: none !important; }` so we also need the `!important` here to be able to override the default hidden behavior on the sphinx rendered scikit-learn.org. See: https://github.com/scikit-learn/scikit-learn/issues/21755 */display: inline-block !important;position: relative;}#sk-container-id-29 div.sk-text-repr-fallback {display: none;}</style><div id=\"sk-container-id-29\" class=\"sk-top-container\"><div class=\"sk-text-repr-fallback\"><pre>SVC(degree=2, gamma=1.101, kernel=&#x27;poly&#x27;)</pre><b>In a Jupyter environment, please rerun this cell to show the HTML representation or trust the notebook. <br />On GitHub, the HTML representation is unable to render, please try loading this page with nbviewer.org.</b></div><div class=\"sk-container\" hidden><div class=\"sk-item\"><div class=\"sk-estimator sk-toggleable\"><input class=\"sk-toggleable__control sk-hidden--visually\" id=\"sk-estimator-id-29\" type=\"checkbox\" checked><label for=\"sk-estimator-id-29\" class=\"sk-toggleable__label sk-toggleable__label-arrow\">SVC</label><div class=\"sk-toggleable__content\"><pre>SVC(degree=2, gamma=1.101, kernel=&#x27;poly&#x27;)</pre></div></div></div></div></div>"
      ],
      "text/plain": [
       "SVC(degree=2, gamma=1.101, kernel='poly')"
      ]
     },
     "execution_count": 133,
     "metadata": {},
     "output_type": "execute_result"
    }
   ],
   "source": [
    "# svm_model = SVC(kernel='linear', C=1.0, random_state=20)\n",
    "svm_model = SVC(kernel=\"poly\", degree=2, gamma=1.101)\n",
    "svm_model.fit(X_train, y_train)"
   ]
  },
  {
   "cell_type": "code",
   "execution_count": 134,
   "id": "42c3557a-7a46-4c08-9555-b588caae051f",
   "metadata": {},
   "outputs": [],
   "source": [
    "y_pred = svm_model.predict(X_test)\n",
    "accuracy = accuracy_score(y_test, y_pred)\n",
    "conf_matrix = confusion_matrix(y_test, y_pred)"
   ]
  },
  {
   "cell_type": "code",
   "execution_count": 135,
   "id": "760a8745-0f8d-4f90-9b0c-d4d8411f8a8b",
   "metadata": {},
   "outputs": [
    {
     "name": "stdout",
     "output_type": "stream",
     "text": [
      "accuracy =>  0.972972972972973\n"
     ]
    }
   ],
   "source": [
    "print(\"accuracy => \", accuracy)"
   ]
  },
  {
   "cell_type": "code",
   "execution_count": 136,
   "id": "dd28e588-0c5e-46c7-ad3b-50a71bacd049",
   "metadata": {},
   "outputs": [
    {
     "data": {
      "image/png": "[encoded data removed]",
      "text/plain": [
       "<Figure size 600x600 with 1 Axes>"
      ]
     },
     "metadata": {},
     "output_type": "display_data"
    }
   ],
   "source": [
    "plt.figure(figsize=(6, 6))\n",
    "sns.heatmap(conf_matrix, annot=True, fmt=\"d\", cmap=\"Blues\", cbar=False)\n",
    "plt.xlabel('Predicted')\n",
    "plt.ylabel('Actual')\n",
    "plt.title('Confusion Matrix')\n",
    "plt.show()"
   ]
  },
  {
   "cell_type": "code",
   "execution_count": null,
   "id": "3af84685-3078-45cc-9ab4-8f921819c6a9",
   "metadata": {},
   "outputs": [],
   "source": []
  },
  {
   "cell_type": "code",
   "execution_count": null,
   "id": "2d7e7710-c52c-4640-b883-075ec00b47d4",
   "metadata": {},
   "outputs": [],
   "source": []
  },
  {
   "cell_type": "code",
   "execution_count": null,
   "id": "913ae086-d07e-405c-82c4-78b8b59642f8",
   "metadata": {},
   "outputs": [],
   "source": []
  }
 ],
 "metadata": {
  "kernelspec": {
   "display_name": "Python 3 (ipykernel)",
   "language": "python",
   "name": "python3"
  },
  "language_info": {
   "codemirror_mode": {
    "name": "ipython",
    "version": 3
   },
   "file_extension": ".py",
   "mimetype": "text/x-python",
   "name": "python",
   "nbconvert_exporter": "python",
   "pygments_lexer": "ipython3",
   "version": "3.10.12"
  }
 },
 "nbformat": 4,
 "nbformat_minor": 5
}
