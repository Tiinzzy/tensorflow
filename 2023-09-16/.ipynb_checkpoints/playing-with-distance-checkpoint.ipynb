{
 "cells": [
  {
   "cell_type": "code",
   "execution_count": 110,
   "id": "6c606276-ff81-44bb-9918-222783dff063",
   "metadata": {},
   "outputs": [
    {
     "data": {
      "text/html": [
       "<style>.container { width:100% !important; }</style>"
      ],
      "text/plain": [
       "<IPython.core.display.HTML object>"
      ]
     },
     "metadata": {},
     "output_type": "display_data"
    }
   ],
   "source": [
    "from IPython.display import display, HTML\n",
    "display(HTML(\"<style>.container { width:100% !important; }</style>\"))"
   ]
  },
  {
   "cell_type": "code",
   "execution_count": 117,
   "id": "54feeb3c-b369-47f0-afab-c62a9e619ac4",
   "metadata": {},
   "outputs": [
    {
     "name": "stderr",
     "output_type": "stream",
     "text": [
      "2023-09-16 10:32:01.706966: I tensorflow/tsl/cuda/cudart_stub.cc:28] Could not find cuda drivers on your machine, GPU will not be used.\n",
      "2023-09-16 10:32:01.858752: I tensorflow/tsl/cuda/cudart_stub.cc:28] Could not find cuda drivers on your machine, GPU will not be used.\n",
      "2023-09-16 10:32:01.859498: I tensorflow/core/platform/cpu_feature_guard.cc:182] This TensorFlow binary is optimized to use available CPU instructions in performance-critical operations.\n",
      "To enable the following instructions: AVX2 FMA, in other operations, rebuild TensorFlow with the appropriate compiler flags.\n",
      "2023-09-16 10:32:03.795056: W tensorflow/compiler/tf2tensorrt/utils/py_utils.cc:38] TF-TRT Warning: Could not find TensorRT\n"
     ]
    }
   ],
   "source": [
    "import os\n",
    "import re\n",
    "import numpy as np\n",
    "import pandas as pd\n",
    "import re\n",
    "\n",
    "from tensorflow.keras.layers import Embedding"
   ]
  },
  {
   "cell_type": "code",
   "execution_count": 102,
   "id": "da740bb4-12d2-47ef-9159-abc262cd0d49",
   "metadata": {},
   "outputs": [],
   "source": [
    "WORD_SPACE_DIMENSION = 50\n",
    "\n",
    "embeddings_index = {}\n",
    "with open('/home/tina/Downloads/glove.6B.50d.txt') as f:\n",
    "    for line in f:\n",
    "        values = line.split()\n",
    "        word = values[0]\n",
    "        coefs = np.asarray(values[1:], dtype='float32')\n",
    "        embeddings_index[word] = coefs"
   ]
  },
  {
   "cell_type": "code",
   "execution_count": 91,
   "id": "60c2e3e3-a0d3-43bd-952e-41684c43a101",
   "metadata": {},
   "outputs": [],
   "source": [
    "def get_distances(v1, v2):\n",
    "    euclid_dist = distance.euclidean(v1,v2)\n",
    "    cosine_similarity = np.dot(v1,v2) / (np.linalg.norm(v1)*np.linalg.norm(v2))\n",
    "    return ('euclid_dist', euclid_dist), ('cosine_similarity', cosine_similarity), ('angle', np.arccos(cosine_similarity))"
   ]
  },
  {
   "cell_type": "code",
   "execution_count": 67,
   "id": "fed41511-a67a-4ef0-a83c-59ed4891c112",
   "metadata": {},
   "outputs": [],
   "source": [
    "def compare_words():\n",
    "    words = [\n",
    "        ['man', 'woman'],\n",
    "        ['girl', 'boy'],\n",
    "        ['tiger', 'lion'],\n",
    "        ['book', 'car'],\n",
    "        ['computer', 'doll'],\n",
    "    ]\n",
    "    for w in words:\n",
    "        print(w, '=>', get_distances(embeddings_index[w[0]], embeddings_index[w[1]]))"
   ]
  },
  {
   "cell_type": "code",
   "execution_count": 65,
   "id": "b983d6b2-e11e-4c31-9879-e5de23354554",
   "metadata": {},
   "outputs": [
    {
     "name": "stdout",
     "output_type": "stream",
     "text": [
      "['man', 'woman'] => (('euclid_dist', 2.602623701095581), ('cosine_similarity', 0.8860338))\n",
      "['girl', 'boy'] => (('euclid_dist', 2.042633295059204), ('cosine_similarity', 0.9327199))\n",
      "['tiger', 'lion'] => (('euclid_dist', 4.520913124084473), ('cosine_similarity', 0.54939914))\n",
      "['book', 'car'] => (('euclid_dist', 6.505012512207031), ('cosine_similarity', 0.29437548))\n",
      "['computer', 'doll'] => (('euclid_dist', 6.290210247039795), ('cosine_similarity', 0.30855522))\n"
     ]
    }
   ],
   "source": [
    "compare_words()"
   ]
  },
  {
   "cell_type": "code",
   "execution_count": null,
   "id": "8f2ae2b2-12dd-499b-8120-ca20ca130355",
   "metadata": {},
   "outputs": [],
   "source": []
  },
  {
   "cell_type": "code",
   "execution_count": 235,
   "id": "56ab47ef-3ea0-491e-b9f8-233f4e19504c",
   "metadata": {},
   "outputs": [],
   "source": [
    "MAX_TEXT_LEN = 200\n",
    "\n",
    "def text2vec(text):\n",
    "    if len(text.split()) < 3:\n",
    "        return None\n",
    "        \n",
    "    pattern = r'[^a-zA-Z\\s]'\n",
    "    clean_text = re.sub(pattern, '', text)\n",
    "    \n",
    "    vec = []\n",
    "    for w in clean_text.split():\n",
    "        wv = embeddings_index.get(w)\n",
    "        if wv is not None and len(vec) < MAX_TEXT_LEN:\n",
    "           vec.append(wv)     \n",
    "    \n",
    "    if len(vec) == 0:\n",
    "        return None\n",
    "    \n",
    "    pad_len = MAX_TEXT_LEN-len(vec)      \n",
    "    if pad_len > 0:\n",
    "        padding = [np.zeros_like(vec[0])] * pad_len\n",
    "        vec = vec + padding\n",
    "    return np.array(vec)"
   ]
  },
  {
   "cell_type": "code",
   "execution_count": 236,
   "id": "7cc9ddab-c9ef-46f6-b1ea-53c1003a9f20",
   "metadata": {},
   "outputs": [
    {
     "name": "stdout",
     "output_type": "stream",
     "text": [
      "('i have a cats', 'radio wastes our time but not dog') \n",
      " => (('euclid_dist', 14.611369132995605), ('cosine_similarity', 0.30324912), ('angle', 1.2626958)) \n",
      "\n",
      "('i have a cats', 'i like animals') \n",
      " => (('euclid_dist', 8.260468482971191), ('cosine_similarity', 0.68363035), ('angle', 0.81807095)) \n",
      "\n"
     ]
    }
   ],
   "source": [
    "text1 = 'i have a cats'\n",
    "text11 = 'radio wastes our time but not dog'\n",
    "text12 = 'i like animals'\n",
    "\n",
    "v1 = text2vec(text1)\n",
    "v11 = text2vec(text11)\n",
    "v12 = text2vec(text12)\n",
    "\n",
    "v1 = v1.reshape(MAX_TEXT_LEN*WORD_SPACE_DIMENSION,)\n",
    "v11 = v11.reshape(MAX_TEXT_LEN*WORD_SPACE_DIMENSION,)\n",
    "v12 = v12.reshape(MAX_TEXT_LEN*WORD_SPACE_DIMENSION,)\n",
    "\n",
    "print((text1, text11), '\\n =>', get_distances(v1,v11), '\\n')\n",
    "print((text1, text12), '\\n =>', get_distances(v1,v12), '\\n')"
   ]
  },
  {
   "cell_type": "code",
   "execution_count": null,
   "id": "4c7014a1-9ce3-4907-a7d8-fd5919653c30",
   "metadata": {},
   "outputs": [],
   "source": []
  },
  {
   "cell_type": "code",
   "execution_count": 238,
   "id": "3b3331e9-05bd-4f09-8eec-5472a78d7db7",
   "metadata": {},
   "outputs": [],
   "source": [
    "df = pd.read_csv('/home/tina/Downloads/questions.csv', usecols=['Question'])\n",
    "df = df.dropna()\n",
    "questions = df.Question.unique()"
   ]
  },
  {
   "cell_type": "code",
   "execution_count": 253,
   "id": "fe0e75da-6fe3-4527-b867-1063eff795fd",
   "metadata": {},
   "outputs": [],
   "source": [
    "def find_closest(text):\n",
    "    min_distance = None\n",
    "    min_text = None\n",
    "    v1 = text2vec(text)\n",
    "    v1 = v1.reshape(MAX_TEXT_LEN*WORD_SPACE_DIMENSION,)\n",
    "    for q in questions:\n",
    "        v2 = text2vec(q)\n",
    "        if v2 is None:\n",
    "            continue\n",
    "        \n",
    "        v2 = v2.reshape(MAX_TEXT_LEN*WORD_SPACE_DIMENSION,)\n",
    "        # dist = distance.euclidean(v1,v2)\n",
    "        dist = 2 - np.dot(v1,v2) / (np.linalg.norm(v1)*np.linalg.norm(v2))        \n",
    "        if min_distance is None:\n",
    "            min_distance = dist\n",
    "            min_text = q\n",
    "        elif min_distance > dist:\n",
    "            min_distance = dist\n",
    "            min_text = q\n",
    "    \n",
    "    return min_text"
   ]
  },
  {
   "cell_type": "code",
   "execution_count": 258,
   "id": "e9a0adf3-f75c-4436-9470-091561f6c323",
   "metadata": {},
   "outputs": [
    {
     "data": {
      "text/plain": [
       "'Are there several types of trumpet?'"
      ]
     },
     "execution_count": 258,
     "metadata": {},
     "output_type": "execute_result"
    }
   ],
   "source": [
    "text = \"how many types of trumpet are there?\"\n",
    "\n",
    "find_closest(text)"
   ]
  },
  {
   "cell_type": "code",
   "execution_count": null,
   "id": "70bd54ba-846f-4d31-ac79-034b46fa9446",
   "metadata": {},
   "outputs": [],
   "source": []
  }
 ],
 "metadata": {
  "kernelspec": {
   "display_name": "Python 3 (ipykernel)",
   "language": "python",
   "name": "python3"
  },
  "language_info": {
   "codemirror_mode": {
    "name": "ipython",
    "version": 3
   },
   "file_extension": ".py",
   "mimetype": "text/x-python",
   "name": "python",
   "nbconvert_exporter": "python",
   "pygments_lexer": "ipython3",
   "version": "3.10.12"
  }
 },
 "nbformat": 4,
 "nbformat_minor": 5
}
