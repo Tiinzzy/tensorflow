{
 "cells": [
  {
   "cell_type": "code",
   "execution_count": 1,
   "id": "ea864dc2-29cd-4443-abeb-d66be70be7ac",
   "metadata": {},
   "outputs": [
    {
     "name": "stderr",
     "output_type": "stream",
     "text": [
      "2023-09-19 08:09:14.377861: I tensorflow/tsl/cuda/cudart_stub.cc:28] Could not find cuda drivers on your machine, GPU will not be used.\n",
      "2023-09-19 08:09:14.559483: I tensorflow/tsl/cuda/cudart_stub.cc:28] Could not find cuda drivers on your machine, GPU will not be used.\n",
      "2023-09-19 08:09:14.560646: I tensorflow/core/platform/cpu_feature_guard.cc:182] This TensorFlow binary is optimized to use available CPU instructions in performance-critical operations.\n",
      "To enable the following instructions: AVX2 FMA, in other operations, rebuild TensorFlow with the appropriate compiler flags.\n",
      "2023-09-19 08:09:15.716193: W tensorflow/compiler/tf2tensorrt/utils/py_utils.cc:38] TF-TRT Warning: Could not find TensorRT\n"
     ]
    }
   ],
   "source": [
    "import pandas as pd\n",
    "import os\n",
    "import numpy as np\n",
    "\n",
    "import tensorflow as tf\n",
    "from tensorflow.keras.preprocessing.sequence import pad_sequences\n",
    "from tensorflow.keras.layers import Embedding, LSTM, Dense, Bidirectional\n",
    "from tensorflow.keras.preprocessing.text import Tokenizer\n",
    "from tensorflow.keras.models import Sequential\n",
    "from tensorflow.keras.optimizers import Adam\n",
    "from keras import models, layers\n",
    "\n",
    "import matplotlib.pyplot as plt\n",
    "import re"
   ]
  },
  {
   "cell_type": "code",
   "execution_count": 4,
   "id": "2dd5438c-e7d5-4ae1-a284-7e605ffd4d6f",
   "metadata": {},
   "outputs": [
    {
     "data": {
      "text/plain": [
       "0       A Beginners Guide to Word Embedding with Gensi...\n",
       "1       Handson Graph Neural Networks with PyTorch  Py...\n",
       "2                             How to Use ggplot in Python\n",
       "3       Databricks How to Save Files in CSV on Your Lo...\n",
       "4       A StepbyStep Implementation of Gradient Descen...\n",
       "                              ...                        \n",
       "6503    We vs I  How Should You Talk About Yourself on...\n",
       "6504                     How Donald Trump Markets Himself\n",
       "6505        Content and Marketing Beyond Mass Consumption\n",
       "6506     Questions All Copywriters Should Ask Clients ...\n",
       "6507               How To Write a Good Business Blog Post\n",
       "Name: title, Length: 6508, dtype: object"
      ]
     },
     "execution_count": 4,
     "metadata": {},
     "output_type": "execute_result"
    }
   ],
   "source": [
    "medium_data = pd.read_csv('/home/tina/Downloads/medium_data.csv', usecols=['title'])\n",
    "medium_data['title'] = medium_data['title'].apply(lambda x: re.sub(r'[^a-zA-Z\\s]', '', x)) \n",
    "medium_data['title'] = medium_data['title'].apply(lambda x: x.replace(u'\\xa0',u' '))\n",
    "medium_data['title'] = medium_data['title'].apply(lambda x: x.replace('\\u200a',' '))\n",
    "medium_data['title']"
   ]
  },
  {
   "cell_type": "code",
   "execution_count": 47,
   "id": "f790b831-cfda-448a-8922-a2ec6ce32384",
   "metadata": {},
   "outputs": [
    {
     "name": "stdout",
     "output_type": "stream",
     "text": [
      "Number of records:  6508\n",
      "Number of fields:  1\n"
     ]
    }
   ],
   "source": [
    "print(\"Number of records: \", medium_data.shape[0])\n",
    "print(\"Number of fields: \", medium_data.shape[1])"
   ]
  },
  {
   "cell_type": "code",
   "execution_count": 5,
   "id": "3b99c64e-650b-4106-8bf3-a9e6555098ed",
   "metadata": {},
   "outputs": [
    {
     "name": "stdout",
     "output_type": "stream",
     "text": [
      "Total number of words:  8433\n",
      "<oov>:  1\n",
      "Strong:  15\n",
      "And:  6\n",
      "Consumption:  8432\n"
     ]
    }
   ],
   "source": [
    "tokenizer = Tokenizer(oov_token='<oov>') \n",
    "tokenizer.fit_on_texts(medium_data['title'])\n",
    "total_words = len(tokenizer.word_index) + 1\n",
    "\n",
    "print(\"Total number of words: \", total_words)\n",
    "print(\"<oov>: \", tokenizer.word_index['<oov>'])\n",
    "print(\"Strong: \", tokenizer.word_index['strong'])\n",
    "print(\"And: \", tokenizer.word_index['and'])\n",
    "print(\"Consumption: \", tokenizer.word_index['consumption'])"
   ]
  },
  {
   "cell_type": "code",
   "execution_count": 6,
   "id": "a68746dc-21b0-407c-af28-b2c2606b0ec5",
   "metadata": {},
   "outputs": [],
   "source": [
    "input_sequences = []\n",
    "for line in medium_data['title']:\n",
    "    token_list = tokenizer.texts_to_sequences([line])[0]\n",
    "    # print('\\n')\n",
    "    # print(token_list)\n",
    "    # print('-'*100)\n",
    "    for i in range(1, len(token_list)):\n",
    "        n_gram_sequence = token_list[:i+1]\n",
    "        input_sequences.append(n_gram_sequence)    \n",
    "        # print(n_gram_sequence)\n",
    "\n",
    "# print(\"Total input sequences: \", len(input_sequences))"
   ]
  },
  {
   "cell_type": "code",
   "execution_count": 11,
   "id": "b9f5622a-b716-40d3-8bbd-73a892d14761",
   "metadata": {},
   "outputs": [
    {
     "name": "stdout",
     "output_type": "stream",
     "text": [
      "23\n"
     ]
    },
    {
     "data": {
      "text/plain": [
       "array([[   0,    0,    0,    0,    0,    0,    0,    0,    0,    0,    0,\n",
       "           0,    0,    0,    0,    0,    0,    0,    0,    0,    0,    4,\n",
       "         259],\n",
       "       [   0,    0,    0,    0,    0,    0,    0,    0,    0,    0,    0,\n",
       "           0,    0,    0,    0,    0,    0,    0,    0,    0,    4,  259,\n",
       "          62],\n",
       "       [   0,    0,    0,    0,    0,    0,    0,    0,    0,    0,    0,\n",
       "           0,    0,    0,    0,    0,    0,    0,    0,    4,  259,   62,\n",
       "           2],\n",
       "       [   0,    0,    0,    0,    0,    0,    0,    0,    0,    0,    0,\n",
       "           0,    0,    0,    0,    0,    0,    0,    4,  259,   62,    2,\n",
       "         427],\n",
       "       [   0,    0,    0,    0,    0,    0,    0,    0,    0,    0,    0,\n",
       "           0,    0,    0,    0,    0,    0,    4,  259,   62,    2,  427,\n",
       "        1451],\n",
       "       [   0,    0,    0,    0,    0,    0,    0,    0,    0,    0,    0,\n",
       "           0,    0,    0,    0,    0,    4,  259,   62,    2,  427, 1451,\n",
       "          12],\n",
       "       [   0,    0,    0,    0,    0,    0,    0,    0,    0,    0,    0,\n",
       "           0,    0,    0,    0,    4,  259,   62,    2,  427, 1451,   12,\n",
       "        2387],\n",
       "       [   0,    0,    0,    0,    0,    0,    0,    0,    0,    0,    0,\n",
       "           0,    0,    0,    4,  259,   62,    2,  427, 1451,   12, 2387,\n",
       "        3622],\n",
       "       [   0,    0,    0,    0,    0,    0,    0,    0,    0,    0,    0,\n",
       "           0,    0,    4,  259,   62,    2,  427, 1451,   12, 2387, 3622,\n",
       "          91],\n",
       "       [   0,    0,    0,    0,    0,    0,    0,    0,    0,    0,    0,\n",
       "           0,    0,    0,    0,    0,    0,    0,    0,    0,    0, 3623,\n",
       "         695]], dtype=int32)"
      ]
     },
     "execution_count": 11,
     "metadata": {},
     "output_type": "execute_result"
    }
   ],
   "source": [
    "max_sequence_len = max([len(x) for x in input_sequences])\n",
    "input_sequences = np.array(pad_sequences(input_sequences, maxlen=max_sequence_len, padding='pre'))\n",
    "input_sequences[:10]"
   ]
  },
  {
   "cell_type": "code",
   "execution_count": 78,
   "id": "32f372c4-6931-44f6-ae26-89c52f837297",
   "metadata": {},
   "outputs": [],
   "source": [
    "xs, labels = input_sequences[:,:-1],input_sequences[:,-1]\n",
    "ys = tf.keras.utils.to_categorical(labels, num_classes=total_words)"
   ]
  },
  {
   "cell_type": "code",
   "execution_count": 80,
   "id": "395fa86b-bafc-414a-8f7c-057c3313d377",
   "metadata": {},
   "outputs": [
    {
     "name": "stdout",
     "output_type": "stream",
     "text": [
      "Model: \"sequential_3\"\n",
      "_________________________________________________________________\n",
      " Layer (type)                Output Shape              Param #   \n",
      "=================================================================\n",
      " embedding_3 (Embedding)     (None, 22, 100)           843300    \n",
      "                                                                 \n",
      " bidirectional_3 (Bidirecti  (None, 300)               301200    \n",
      " onal)                                                           \n",
      "                                                                 \n",
      " dense_3 (Dense)             (None, 8433)              2538333   \n",
      "                                                                 \n",
      "=================================================================\n",
      "Total params: 3682833 (14.05 MB)\n",
      "Trainable params: 3682833 (14.05 MB)\n",
      "Non-trainable params: 0 (0.00 Byte)\n",
      "_________________________________________________________________\n"
     ]
    }
   ],
   "source": [
    "model = Sequential()\n",
    "model.add(Embedding(total_words, 100, input_length=max_sequence_len-1))\n",
    "model.add(Bidirectional(LSTM(150)))\n",
    "model.add(Dense(total_words, activation='softmax'))\n",
    "\n",
    "adam = Adam(learning_rate=0.01)\n",
    "model.compile(loss='categorical_crossentropy', optimizer=adam, metrics=['accuracy'])\n",
    "model.summary()"
   ]
  },
  {
   "cell_type": "code",
   "execution_count": 81,
   "id": "ac9acf43-a9ff-43b5-9126-2a125701ec19",
   "metadata": {},
   "outputs": [
    {
     "name": "stdout",
     "output_type": "stream",
     "text": [
      "Epoch 1/20\n"
     ]
    },
    {
     "name": "stderr",
     "output_type": "stream",
     "text": [
      "2023-09-17 09:07:15.476195: W tensorflow/tsl/framework/cpu_allocator_impl.cc:83] Allocation of 1487581200 exceeds 10% of free system memory.\n"
     ]
    },
    {
     "name": "stdout",
     "output_type": "stream",
     "text": [
      "1379/1379 [==============================] - 75s 53ms/step - loss: 7.0442 - accuracy: 0.0976\n",
      "Epoch 2/20\n",
      "1379/1379 [==============================] - 75s 54ms/step - loss: 6.0329 - accuracy: 0.1462\n",
      "Epoch 3/20\n",
      "1379/1379 [==============================] - 73s 53ms/step - loss: 5.1858 - accuracy: 0.1741\n",
      "Epoch 4/20\n",
      "1379/1379 [==============================] - 74s 54ms/step - loss: 4.3795 - accuracy: 0.2208\n",
      "Epoch 5/20\n",
      "1379/1379 [==============================] - 75s 54ms/step - loss: 3.7714 - accuracy: 0.2787\n",
      "Epoch 6/20\n",
      "1379/1379 [==============================] - 76s 55ms/step - loss: 3.3573 - accuracy: 0.3229\n",
      "Epoch 7/20\n",
      "1379/1379 [==============================] - 76s 55ms/step - loss: 3.0660 - accuracy: 0.3600\n",
      "Epoch 8/20\n",
      "1379/1379 [==============================] - 76s 55ms/step - loss: 2.8584 - accuracy: 0.3905\n",
      "Epoch 9/20\n",
      "1379/1379 [==============================] - 78s 57ms/step - loss: 2.7122 - accuracy: 0.4105\n",
      "Epoch 10/20\n",
      "1379/1379 [==============================] - 79s 57ms/step - loss: 2.6131 - accuracy: 0.4246\n",
      "Epoch 11/20\n",
      "1379/1379 [==============================] - 79s 57ms/step - loss: 2.5112 - accuracy: 0.4390\n",
      "Epoch 12/20\n",
      "1379/1379 [==============================] - 75s 55ms/step - loss: 2.4493 - accuracy: 0.4502\n",
      "Epoch 13/20\n",
      "1379/1379 [==============================] - 76s 55ms/step - loss: 2.3797 - accuracy: 0.4630\n",
      "Epoch 14/20\n",
      "1379/1379 [==============================] - 72s 53ms/step - loss: 2.3448 - accuracy: 0.4684\n",
      "Epoch 15/20\n",
      "1379/1379 [==============================] - 73s 53ms/step - loss: 2.3112 - accuracy: 0.4738\n",
      "Epoch 16/20\n",
      "1379/1379 [==============================] - 73s 53ms/step - loss: 2.2578 - accuracy: 0.4834\n",
      "Epoch 17/20\n",
      "1379/1379 [==============================] - 75s 55ms/step - loss: 2.2210 - accuracy: 0.4903\n",
      "Epoch 18/20\n",
      "1379/1379 [==============================] - 77s 56ms/step - loss: 2.2056 - accuracy: 0.4929\n",
      "Epoch 19/20\n",
      "1379/1379 [==============================] - 79s 58ms/step - loss: 2.1786 - accuracy: 0.4953\n",
      "Epoch 20/20\n",
      "1379/1379 [==============================] - 78s 57ms/step - loss: 2.2139 - accuracy: 0.4911\n"
     ]
    }
   ],
   "source": [
    "history = model.fit(xs, ys, epochs=20, verbose=1)"
   ]
  },
  {
   "cell_type": "code",
   "execution_count": 98,
   "id": "9a6e0230-2131-46fb-a541-684363435b6d",
   "metadata": {},
   "outputs": [
    {
     "name": "stdout",
     "output_type": "stream",
     "text": [
      "INFO:tensorflow:Assets written to: ./data/word-prediction-1.mdl/assets\n"
     ]
    },
    {
     "name": "stderr",
     "output_type": "stream",
     "text": [
      "INFO:tensorflow:Assets written to: ./data/word-prediction-1.mdl/assets\n"
     ]
    }
   ],
   "source": [
    "# model.save('./data/word-prediction-1.mdl')"
   ]
  },
  {
   "cell_type": "code",
   "execution_count": 82,
   "id": "1b8766ba-b57b-4092-8242-9240d3581f8f",
   "metadata": {},
   "outputs": [
    {
     "data": {
      "image/png": "[encoded data removed]",
      "text/plain": [
       "<Figure size 640x480 with 1 Axes>"
      ]
     },
     "metadata": {},
     "output_type": "display_data"
    },
    {
     "data": {
      "image/png": "[encoded data removed]",
      "text/plain": [
       "<Figure size 640x480 with 1 Axes>"
      ]
     },
     "metadata": {},
     "output_type": "display_data"
    }
   ],
   "source": [
    "def plot_graphs(history, string):\n",
    "    plt.plot(history.history[string])\n",
    "    plt.xlabel(\"Epochs\")\n",
    "    plt.ylabel(string)\n",
    "    plt.show()\n",
    "\n",
    "plot_graphs(history, 'accuracy')\n",
    "plot_graphs(history, 'loss')"
   ]
  },
  {
   "cell_type": "code",
   "execution_count": 7,
   "id": "a06cfe3d-001e-49b5-a4e0-643fe967f50c",
   "metadata": {},
   "outputs": [
    {
     "name": "stderr",
     "output_type": "stream",
     "text": [
      "2023-09-19 08:09:50.726510: I tensorflow/compiler/xla/stream_executor/cuda/cuda_gpu_executor.cc:995] successful NUMA node read from SysFS had negative value (-1), but there must be at least one NUMA node, so returning NUMA node zero. See more at https://github.com/torvalds/linux/blob/v6.0/Documentation/ABI/testing/sysfs-bus-pci#L344-L355\n",
      "2023-09-19 08:09:50.727409: W tensorflow/core/common_runtime/gpu/gpu_device.cc:1960] Cannot dlopen some GPU libraries. Please make sure the missing libraries mentioned above are installed properly if you would like to use GPU. Follow the guide at https://www.tensorflow.org/install/gpu for how to download and setup the required libraries for your platform.\n",
      "Skipping registering GPU devices...\n"
     ]
    }
   ],
   "source": [
    "loaded_model = models.load_model('./data/word-prediction-1.mdl')"
   ]
  },
  {
   "cell_type": "code",
   "execution_count": 12,
   "id": "2a8a7949-3fb1-4f11-9097-61236b2779e4",
   "metadata": {},
   "outputs": [
    {
     "name": "stdout",
     "output_type": "stream",
     "text": [
      "[7, 33, 341, 2] <<<\n",
      "[7, 33, 341, 2, 153] <<<\n",
      "[7, 33, 341, 2, 153, 9] <<<\n",
      "[7, 33, 341, 2, 153, 9, 999] <<<\n",
      "[7, 33, 341, 2, 153, 9, 999, 1404] <<<\n",
      "how about going to find your true passion of\n"
     ]
    }
   ],
   "source": [
    "seed_text = \"how about going to\"\n",
    "next_words = 5\n",
    "  \n",
    "for _ in range(next_words):\n",
    "    token_list = tokenizer.texts_to_sequences([seed_text])[0]\n",
    "    print(token_list,'<<<')\n",
    "    token_list = pad_sequences([token_list], maxlen=max_sequence_len-1, padding='pre')\n",
    "    predict_x = loaded_model.predict(token_list, verbose=0)\n",
    "    predicted=np.argmax(predict_x,axis=1)\n",
    "    output_word = \"\"\n",
    "    for word, index in tokenizer.word_index.items():\n",
    "        if index == predicted:\n",
    "            output_word = word\n",
    "            break\n",
    "    seed_text += \" \" + output_word\n",
    "\n",
    "print(seed_text)"
   ]
  },
  {
   "cell_type": "code",
   "execution_count": null,
   "id": "57460f97-5ee3-45ab-a520-c4551f38c4f7",
   "metadata": {},
   "outputs": [],
   "source": []
  }
 ],
 "metadata": {
  "kernelspec": {
   "display_name": "Python 3 (ipykernel)",
   "language": "python",
   "name": "python3"
  },
  "language_info": {
   "codemirror_mode": {
    "name": "ipython",
    "version": 3
   },
   "file_extension": ".py",
   "mimetype": "text/x-python",
   "name": "python",
   "nbconvert_exporter": "python",
   "pygments_lexer": "ipython3",
   "version": "3.10.12"
  }
 },
 "nbformat": 4,
 "nbformat_minor": 5
}
