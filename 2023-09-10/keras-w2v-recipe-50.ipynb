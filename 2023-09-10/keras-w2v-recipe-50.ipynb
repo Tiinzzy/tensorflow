{
 "cells": [
  {
   "cell_type": "code",
   "execution_count": 1,
   "id": "15f8aaee-a734-4ba0-987f-e4ec4a0ae05d",
   "metadata": {},
   "outputs": [
    {
     "name": "stderr",
     "output_type": "stream",
     "text": [
      "2023-09-15 08:43:36.597930: I tensorflow/tsl/cuda/cudart_stub.cc:28] Could not find cuda drivers on your machine, GPU will not be used.\n",
      "2023-09-15 08:43:36.633285: I tensorflow/tsl/cuda/cudart_stub.cc:28] Could not find cuda drivers on your machine, GPU will not be used.\n",
      "2023-09-15 08:43:36.633885: I tensorflow/core/platform/cpu_feature_guard.cc:182] This TensorFlow binary is optimized to use available CPU instructions in performance-critical operations.\n",
      "To enable the following instructions: AVX2 FMA, in other operations, rebuild TensorFlow with the appropriate compiler flags.\n",
      "2023-09-15 08:43:37.234103: W tensorflow/compiler/tf2tensorrt/utils/py_utils.cc:38] TF-TRT Warning: Could not find TensorRT\n"
     ]
    }
   ],
   "source": [
    "import os\n",
    "import numpy as np\n",
    "import re\n",
    "import pandas as pd\n",
    "import tensorflow as tf\n",
    "from keras.preprocessing.sequence import pad_sequences\n",
    "from keras import models, layers"
   ]
  },
  {
   "cell_type": "code",
   "execution_count": 2,
   "id": "bb185e49-3d00-4e75-9767-57ed979b26fb",
   "metadata": {},
   "outputs": [],
   "source": [
    "num_threads = 5\n",
    "os.environ[\"OMP_NUM_THREADS\"] = \"5\"\n",
    "os.environ[\"TF_NUM_INTRAOP_THREADS\"] = \"5\"\n",
    "os.environ[\"TF_NUM_INTEROP_THREADS\"] = \"5\"\n",
    "tf.config.threading.set_inter_op_parallelism_threads(num_threads)\n",
    "tf.config.threading.set_intra_op_parallelism_threads(num_threads)\n",
    "tf.config.set_soft_device_placement(True)"
   ]
  },
  {
   "cell_type": "code",
   "execution_count": 3,
   "id": "3ba26b88-763c-46bc-9d71-36eaf789da44",
   "metadata": {},
   "outputs": [],
   "source": [
    "MAX_WORDS_IN_SENTENCE = 700\n",
    "WORD2VEC_DIMENSIONS = 50"
   ]
  },
  {
   "cell_type": "code",
   "execution_count": 4,
   "id": "0c9adb68-cd33-478b-b9a7-2f5db47cc018",
   "metadata": {},
   "outputs": [],
   "source": [
    "embeddings_index = {}\n",
    "with open('/home/tina/Downloads/glove.6B.50d.txt') as f:\n",
    "    for line in f:\n",
    "        values = line.split()\n",
    "        word = values[0]\n",
    "        coefs = np.asarray(values[1:], dtype='float32')\n",
    "        embeddings_index[word] = coefs"
   ]
  },
  {
   "cell_type": "code",
   "execution_count": 5,
   "id": "137625fa-b11b-4876-8f73-f2cbcf25fac0",
   "metadata": {},
   "outputs": [],
   "source": [
    "def text_to_word_vectors(text, vector_space_dimension):    \n",
    "    sentence_vectors = []\n",
    "    for word in text.lower().split():\n",
    "        if word in embeddings_index and len(sentence_vectors) < MAX_WORDS_IN_SENTENCE:\n",
    "            sentence_vectors.append(embeddings_index[word])    \n",
    "    if len(sentence_vectors) > 0:\n",
    "        pad_len = vector_space_dimension-len(sentence_vectors)      \n",
    "        if pad_len > 0:\n",
    "            padding = [np.zeros_like(sentence_vectors[0])] * pad_len\n",
    "            sentence_vectors = sentence_vectors + padding\n",
    "    return sentence_vectors\n",
    "\n",
    "def clean_dataframe(df):\n",
    "    cleaned_df = df.copy()\n",
    "    pattern = r'[^a-zA-Z\\s]'\n",
    "    cleaned_df['text'] = cleaned_df['text'].astype(str).apply(lambda x: re.sub(pattern, '', x))    \n",
    "    return cleaned_df"
   ]
  },
  {
   "cell_type": "code",
   "execution_count": 6,
   "id": "acbc5f3b-e103-4fb7-9438-d70606e8a50f",
   "metadata": {},
   "outputs": [],
   "source": [
    "dataset = pd.read_csv('./data/recipe-dataset.csv')\n",
    "dataset = clean_dataframe(dataset)\n",
    "texts = dataset['text'].astype(str)\n",
    "labels = dataset['label']\n",
    "\n",
    "data = [text_to_word_vectors(text, MAX_WORDS_IN_SENTENCE) for text in texts]\n",
    "data = np.array(data)\n",
    "targets = np.array(labels).astype(\"float32\")"
   ]
  },
  {
   "cell_type": "code",
   "execution_count": 7,
   "id": "27c33baf-c8a0-43fc-ad29-718305477c5a",
   "metadata": {},
   "outputs": [
    {
     "data": {
      "text/plain": [
       "((3328, 700, 50), (3328,))"
      ]
     },
     "execution_count": 7,
     "metadata": {},
     "output_type": "execute_result"
    }
   ],
   "source": [
    "data.shape, targets.shape"
   ]
  },
  {
   "cell_type": "code",
   "execution_count": 8,
   "id": "ca6ea3b6-9ce6-4810-9944-79096a8aedbd",
   "metadata": {},
   "outputs": [],
   "source": [
    "test_x = data[:1500]\n",
    "test_x = np.array(test_x).astype('float32')\n",
    "test_x =  test_x.reshape(len(test_x), MAX_WORDS_IN_SENTENCE * WORD2VEC_DIMENSIONS)\n",
    "test_y = targets[:1500]\n",
    "\n",
    "train_x = data[1500:]\n",
    "train_x = np.array(train_x).astype('float32')\n",
    "train_x = train_x.reshape(len(train_x), MAX_WORDS_IN_SENTENCE * WORD2VEC_DIMENSIONS)\n",
    "train_y = targets[1500:]"
   ]
  },
  {
   "cell_type": "code",
   "execution_count": 9,
   "id": "db112e1a-4099-4c31-9414-b40b45783fa4",
   "metadata": {},
   "outputs": [
    {
     "data": {
      "text/plain": [
       "((1500, 35000), (1500,))"
      ]
     },
     "execution_count": 9,
     "metadata": {},
     "output_type": "execute_result"
    }
   ],
   "source": [
    "test_x.shape, test_y.shape"
   ]
  },
  {
   "cell_type": "code",
   "execution_count": 10,
   "id": "30c908da-1bf5-4ef6-9d6f-0916606a04af",
   "metadata": {},
   "outputs": [
    {
     "data": {
      "text/plain": [
       "((1828, 35000), (1828,))"
      ]
     },
     "execution_count": 10,
     "metadata": {},
     "output_type": "execute_result"
    }
   ],
   "source": [
    "train_x.shape, train_y.shape"
   ]
  },
  {
   "cell_type": "code",
   "execution_count": 11,
   "id": "0d4bf229-cc8c-4bf3-a31a-130720b52f7b",
   "metadata": {},
   "outputs": [
    {
     "name": "stdout",
     "output_type": "stream",
     "text": [
      "Model: \"sequential\"\n",
      "_________________________________________________________________\n",
      " Layer (type)                Output Shape              Param #   \n",
      "=================================================================\n",
      " dense (Dense)               (None, 100)               3500100   \n",
      "                                                                 \n",
      " dropout (Dropout)           (None, 100)               0         \n",
      "                                                                 \n",
      " dense_1 (Dense)             (None, 50)                5050      \n",
      "                                                                 \n",
      " dropout_1 (Dropout)         (None, 50)                0         \n",
      "                                                                 \n",
      " dense_2 (Dense)             (None, 100)               5100      \n",
      "                                                                 \n",
      " dense_3 (Dense)             (None, 1)                 101       \n",
      "                                                                 \n",
      "=================================================================\n",
      "Total params: 3510351 (13.39 MB)\n",
      "Trainable params: 3510351 (13.39 MB)\n",
      "Non-trainable params: 0 (0.00 Byte)\n",
      "_________________________________________________________________\n"
     ]
    },
    {
     "name": "stderr",
     "output_type": "stream",
     "text": [
      "2023-09-15 08:44:18.244360: I tensorflow/compiler/xla/stream_executor/cuda/cuda_gpu_executor.cc:995] successful NUMA node read from SysFS had negative value (-1), but there must be at least one NUMA node, so returning NUMA node zero. See more at https://github.com/torvalds/linux/blob/v6.0/Documentation/ABI/testing/sysfs-bus-pci#L344-L355\n",
      "2023-09-15 08:44:18.245170: W tensorflow/core/common_runtime/gpu/gpu_device.cc:1960] Cannot dlopen some GPU libraries. Please make sure the missing libraries mentioned above are installed properly if you would like to use GPU. Follow the guide at https://www.tensorflow.org/install/gpu for how to download and setup the required libraries for your platform.\n",
      "Skipping registering GPU devices...\n"
     ]
    }
   ],
   "source": [
    "model = models.Sequential()\n",
    "model.add(layers.Dense(50, activation=\"relu\", input_shape=(MAX_WORDS_IN_SENTENCE * WORD2VEC_DIMENSIONS, )))  \n",
    "model.add(layers.Dropout(0.3, noise_shape=None, seed=None))\n",
    "model.add(layers.Dense(50, activation=\"relu\"))\n",
    "model.add(layers.Dropout(0.2, noise_shape=None, seed=None))\n",
    "model.add(layers.Dense(50, activation=\"relu\"))\n",
    "model.add(layers.Dense(1, activation=\"sigmoid\")) \n",
    "model.summary()"
   ]
  },
  {
   "cell_type": "code",
   "execution_count": 12,
   "id": "b2bf247f-d2b4-4525-ad7f-e0063a78b789",
   "metadata": {},
   "outputs": [
    {
     "name": "stdout",
     "output_type": "stream",
     "text": [
      "Epoch 1/5\n",
      "58/58 [==============================] - 4s 52ms/step - loss: 0.0627 - accuracy: 0.9885 - val_loss: 0.0123 - val_accuracy: 0.9980\n",
      "Epoch 2/5\n",
      "58/58 [==============================] - 3s 48ms/step - loss: 0.0064 - accuracy: 0.9978 - val_loss: 9.7147e-04 - val_accuracy: 1.0000\n",
      "Epoch 3/5\n",
      "58/58 [==============================] - 3s 49ms/step - loss: 5.5591e-04 - accuracy: 1.0000 - val_loss: 6.6265e-04 - val_accuracy: 1.0000\n",
      "Epoch 4/5\n",
      "58/58 [==============================] - 3s 47ms/step - loss: 2.1645e-04 - accuracy: 1.0000 - val_loss: 6.3245e-04 - val_accuracy: 1.0000\n",
      "Epoch 5/5\n",
      "58/58 [==============================] - 3s 47ms/step - loss: 1.0243e-04 - accuracy: 1.0000 - val_loss: 8.2727e-04 - val_accuracy: 0.9993\n"
     ]
    }
   ],
   "source": [
    "model.compile(optimizer=\"adam\", loss=\"binary_crossentropy\", metrics=[\"accuracy\"])\n",
    "results = model.fit(train_x, train_y, epochs=5, batch_size=32, validation_data=(test_x, test_y))"
   ]
  },
  {
   "cell_type": "code",
   "execution_count": 13,
   "id": "a05c0383-2f08-448e-bc12-87b7d54f9f3d",
   "metadata": {},
   "outputs": [
    {
     "name": "stdout",
     "output_type": "stream",
     "text": [
      "INFO:tensorflow:Assets written to: ./data/keras-w2v-recipe-50d.mdl/assets\n"
     ]
    },
    {
     "name": "stderr",
     "output_type": "stream",
     "text": [
      "INFO:tensorflow:Assets written to: ./data/keras-w2v-recipe-50d.mdl/assets\n"
     ]
    },
    {
     "name": "stdout",
     "output_type": "stream",
     "text": [
      "Loaded Model Accuracy: 99.93%\n"
     ]
    }
   ],
   "source": [
    "model.save('./data/keras-w2v-recipe-50d.mdl')\n",
    "loaded_model = models.load_model('./data/keras-w2v-recipe-50d.mdl')\n",
    "scores = loaded_model.evaluate(test_x, test_y, verbose=0)\n",
    "print(\"Loaded Model Accuracy: %.2f%%\" % (scores[1] * 100))"
   ]
  },
  {
   "cell_type": "code",
   "execution_count": 14,
   "id": "c6afba04-037c-4599-a6de-611bc0d3dfa7",
   "metadata": {},
   "outputs": [
    {
     "name": "stdout",
     "output_type": "stream",
     "text": [
      "Loaded Model Accuracy: 99.93%\n"
     ]
    }
   ],
   "source": [
    "scores = loaded_model.evaluate(test_x, test_y, verbose=0)\n",
    "print(\"Loaded Model Accuracy: %.2f%%\" % (scores[1] * 100))"
   ]
  },
  {
   "cell_type": "code",
   "execution_count": null,
   "id": "ba75dac6-2790-4065-aba5-a2a21d5ceeb0",
   "metadata": {},
   "outputs": [],
   "source": []
  }
 ],
 "metadata": {
  "kernelspec": {
   "display_name": "Python 3 (ipykernel)",
   "language": "python",
   "name": "python3"
  },
  "language_info": {
   "codemirror_mode": {
    "name": "ipython",
    "version": 3
   },
   "file_extension": ".py",
   "mimetype": "text/x-python",
   "name": "python",
   "nbconvert_exporter": "python",
   "pygments_lexer": "ipython3",
   "version": "3.10.12"
  }
 },
 "nbformat": 4,
 "nbformat_minor": 5
}
