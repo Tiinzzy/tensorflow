{
 "cells": [
  {
   "cell_type": "code",
   "execution_count": 2,
   "id": "185b59f4-c53d-43c9-bc8b-bc04049827ec",
   "metadata": {},
   "outputs": [
    {
     "name": "stderr",
     "output_type": "stream",
     "text": [
      "2023-09-15 18:57:32.717702: I tensorflow/tsl/cuda/cudart_stub.cc:28] Could not find cuda drivers on your machine, GPU will not be used.\n",
      "2023-09-15 18:57:32.890688: I tensorflow/tsl/cuda/cudart_stub.cc:28] Could not find cuda drivers on your machine, GPU will not be used.\n",
      "2023-09-15 18:57:32.891609: I tensorflow/core/platform/cpu_feature_guard.cc:182] This TensorFlow binary is optimized to use available CPU instructions in performance-critical operations.\n",
      "To enable the following instructions: AVX2 FMA, in other operations, rebuild TensorFlow with the appropriate compiler flags.\n",
      "2023-09-15 18:57:34.054081: W tensorflow/compiler/tf2tensorrt/utils/py_utils.cc:38] TF-TRT Warning: Could not find TensorRT\n"
     ]
    }
   ],
   "source": [
    "import os\n",
    "import re\n",
    "import numpy as np\n",
    "import pandas as pd\n",
    "import tensorflow as tf\n",
    "from keras.preprocessing.sequence import pad_sequences\n",
    "from keras import models, layers"
   ]
  },
  {
   "cell_type": "code",
   "execution_count": 3,
   "id": "4520d29b-2eac-417b-8905-c9471992304b",
   "metadata": {},
   "outputs": [],
   "source": [
    "num_threads = 5\n",
    "os.environ[\"OMP_NUM_THREADS\"] = \"5\"\n",
    "os.environ[\"TF_NUM_INTRAOP_THREADS\"] = \"5\"\n",
    "os.environ[\"TF_NUM_INTEROP_THREADS\"] = \"5\"\n",
    "tf.config.threading.set_inter_op_parallelism_threads(num_threads)\n",
    "tf.config.threading.set_intra_op_parallelism_threads(num_threads)\n",
    "tf.config.set_soft_device_placement(True)"
   ]
  },
  {
   "cell_type": "code",
   "execution_count": 4,
   "id": "fcf7e988-2074-42ee-abb9-cb3ce235d961",
   "metadata": {},
   "outputs": [],
   "source": [
    "MAX_WORDS_IN_SENTENCE = 700\n",
    "WORD2VEC_DIMENSIONS = 300"
   ]
  },
  {
   "cell_type": "code",
   "execution_count": 5,
   "id": "d5cce520-870c-4f90-a3da-06dceeac0d21",
   "metadata": {},
   "outputs": [],
   "source": [
    "embeddings_index = {}\n",
    "with open('/home/tina/Downloads/glove.6B.300d.txt') as f:\n",
    "    for line in f:\n",
    "        values = line.split()\n",
    "        word = values[0]\n",
    "        coefs = np.asarray(values[1:], dtype='float32')\n",
    "        embeddings_index[word] = coefs"
   ]
  },
  {
   "cell_type": "code",
   "execution_count": 6,
   "id": "8c316e6c-bb87-4f80-9e6c-2bce0764aafa",
   "metadata": {},
   "outputs": [],
   "source": [
    "def text_to_word_vectors(text, vector_space_dimension):    \n",
    "    sentence_vectors = []\n",
    "    for word in text.lower().split():\n",
    "        if word in embeddings_index and len(sentence_vectors) < MAX_WORDS_IN_SENTENCE:\n",
    "            sentence_vectors.append(embeddings_index[word])    \n",
    "    if len(sentence_vectors) > 0:\n",
    "        pad_len = vector_space_dimension-len(sentence_vectors)      \n",
    "        if pad_len > 0:\n",
    "            padding = [np.zeros_like(sentence_vectors[0])] * pad_len\n",
    "            sentence_vectors = sentence_vectors + padding\n",
    "    return sentence_vectors\n",
    "\n",
    "def clean_dataframe(df):\n",
    "    cleaned_df = df.copy()\n",
    "    pattern = r'[^a-zA-Z\\s]'\n",
    "    cleaned_df['text'] = cleaned_df['text'].astype(str).apply(lambda x: re.sub(pattern, '', x))    \n",
    "    return cleaned_df"
   ]
  },
  {
   "cell_type": "code",
   "execution_count": 7,
   "id": "f8040fa7-cf8c-4a0a-bfa1-ab6b405a7207",
   "metadata": {},
   "outputs": [],
   "source": [
    "dataset = pd.read_csv('./data/recipe-dataset.csv')\n",
    "dataset = clean_dataframe(dataset)\n",
    "texts = dataset['text'].astype(str)\n",
    "labels = dataset['label']"
   ]
  },
  {
   "cell_type": "code",
   "execution_count": 8,
   "id": "c64e7e52-5b5f-4311-8c83-3b5f4aad71f4",
   "metadata": {},
   "outputs": [],
   "source": [
    "data = [text_to_word_vectors(text, MAX_WORDS_IN_SENTENCE) for text in texts]\n",
    "data = np.array(data)\n",
    "targets = np.array(labels).astype(\"float32\")"
   ]
  },
  {
   "cell_type": "code",
   "execution_count": 9,
   "id": "1f6767fc-f483-4382-aec8-5a925aff8631",
   "metadata": {},
   "outputs": [],
   "source": [
    "test_x = data[:1500]\n",
    "test_x =  test_x.reshape(len(test_x), MAX_WORDS_IN_SENTENCE * WORD2VEC_DIMENSIONS)\n",
    "test_y = targets[:1500]\n",
    "\n",
    "train_x = data[1500:]\n",
    "train_x = train_x.reshape(len(train_x), MAX_WORDS_IN_SENTENCE * WORD2VEC_DIMENSIONS)\n",
    "train_y = targets[1500:]"
   ]
  },
  {
   "cell_type": "code",
   "execution_count": 10,
   "id": "9d580b47-90e7-490f-adb5-9aa789024217",
   "metadata": {},
   "outputs": [
    {
     "name": "stdout",
     "output_type": "stream",
     "text": [
      "Model: \"sequential\"\n",
      "_________________________________________________________________\n",
      " Layer (type)                Output Shape              Param #   \n",
      "=================================================================\n",
      " dense (Dense)               (None, 50)                10500050  \n",
      "                                                                 \n",
      " dropout (Dropout)           (None, 50)                0         \n",
      "                                                                 \n",
      " dense_1 (Dense)             (None, 50)                2550      \n",
      "                                                                 \n",
      " dropout_1 (Dropout)         (None, 50)                0         \n",
      "                                                                 \n",
      " dense_2 (Dense)             (None, 50)                2550      \n",
      "                                                                 \n",
      " dense_3 (Dense)             (None, 1)                 51        \n",
      "                                                                 \n",
      "=================================================================\n",
      "Total params: 10505201 (40.07 MB)\n",
      "Trainable params: 10505201 (40.07 MB)\n",
      "Non-trainable params: 0 (0.00 Byte)\n",
      "_________________________________________________________________\n"
     ]
    },
    {
     "name": "stderr",
     "output_type": "stream",
     "text": [
      "2023-09-15 18:58:11.388469: I tensorflow/compiler/xla/stream_executor/cuda/cuda_gpu_executor.cc:995] successful NUMA node read from SysFS had negative value (-1), but there must be at least one NUMA node, so returning NUMA node zero. See more at https://github.com/torvalds/linux/blob/v6.0/Documentation/ABI/testing/sysfs-bus-pci#L344-L355\n",
      "2023-09-15 18:58:11.389843: W tensorflow/core/common_runtime/gpu/gpu_device.cc:1960] Cannot dlopen some GPU libraries. Please make sure the missing libraries mentioned above are installed properly if you would like to use GPU. Follow the guide at https://www.tensorflow.org/install/gpu for how to download and setup the required libraries for your platform.\n",
      "Skipping registering GPU devices...\n",
      "2023-09-15 18:58:11.586138: W tensorflow/tsl/framework/cpu_allocator_impl.cc:83] Allocation of 42000000 exceeds 10% of free system memory.\n",
      "2023-09-15 18:58:11.610211: W tensorflow/tsl/framework/cpu_allocator_impl.cc:83] Allocation of 42000000 exceeds 10% of free system memory.\n",
      "2023-09-15 18:58:11.618013: W tensorflow/tsl/framework/cpu_allocator_impl.cc:83] Allocation of 42000000 exceeds 10% of free system memory.\n"
     ]
    }
   ],
   "source": [
    "model = models.Sequential()\n",
    "model.add(layers.Dense(50, activation=\"relu\", input_shape=(MAX_WORDS_IN_SENTENCE * WORD2VEC_DIMENSIONS, )))  \n",
    "model.add(layers.Dropout(0.3, noise_shape=None, seed=None))\n",
    "model.add(layers.Dense(50, activation=\"relu\"))\n",
    "model.add(layers.Dropout(0.2, noise_shape=None, seed=None))\n",
    "model.add(layers.Dense(50, activation=\"relu\"))\n",
    "model.add(layers.Dense(1, activation=\"sigmoid\")) \n",
    "model.summary()"
   ]
  },
  {
   "cell_type": "code",
   "execution_count": 11,
   "id": "e06dd85a-0237-416e-8dd4-273f9241613d",
   "metadata": {},
   "outputs": [
    {
     "name": "stderr",
     "output_type": "stream",
     "text": [
      "2023-09-15 18:58:13.927628: W tensorflow/tsl/framework/cpu_allocator_impl.cc:83] Allocation of 1535520000 exceeds 10% of free system memory.\n"
     ]
    },
    {
     "name": "stdout",
     "output_type": "stream",
     "text": [
      "Epoch 1/5\n"
     ]
    },
    {
     "name": "stderr",
     "output_type": "stream",
     "text": [
      "2023-09-15 18:58:15.241134: W tensorflow/tsl/framework/cpu_allocator_impl.cc:83] Allocation of 42000000 exceeds 10% of free system memory.\n"
     ]
    },
    {
     "name": "stdout",
     "output_type": "stream",
     "text": [
      "58/58 [==============================] - 10s 167ms/step - loss: 0.0733 - accuracy: 0.9825 - val_loss: 0.0070 - val_accuracy: 0.9980\n",
      "Epoch 2/5\n",
      "58/58 [==============================] - 7s 120ms/step - loss: 0.0016 - accuracy: 0.9995 - val_loss: 0.0061 - val_accuracy: 0.9987\n",
      "Epoch 3/5\n",
      "58/58 [==============================] - 7s 128ms/step - loss: 8.9773e-04 - accuracy: 0.9995 - val_loss: 0.0264 - val_accuracy: 0.9947\n",
      "Epoch 4/5\n",
      "58/58 [==============================] - 8s 131ms/step - loss: 3.4342e-04 - accuracy: 1.0000 - val_loss: 0.0166 - val_accuracy: 0.9973\n",
      "Epoch 5/5\n",
      "58/58 [==============================] - 7s 127ms/step - loss: 1.7531e-04 - accuracy: 1.0000 - val_loss: 0.0163 - val_accuracy: 0.9973\n"
     ]
    }
   ],
   "source": [
    "model.compile(optimizer=\"adam\", loss=\"binary_crossentropy\", metrics=[\"accuracy\"])\n",
    "results = model.fit(train_x, train_y, epochs=5, batch_size=32, validation_data=(test_x, test_y))"
   ]
  },
  {
   "cell_type": "code",
   "execution_count": 13,
   "id": "0fedf5b9-b8b2-472a-915f-d972d9d7cc5b",
   "metadata": {},
   "outputs": [
    {
     "name": "stdout",
     "output_type": "stream",
     "text": [
      "INFO:tensorflow:Assets written to: ./data/keras-w2v-recipe-300d.mdl/assets\n"
     ]
    },
    {
     "name": "stderr",
     "output_type": "stream",
     "text": [
      "INFO:tensorflow:Assets written to: ./data/keras-w2v-recipe-300d.mdl/assets\n"
     ]
    },
    {
     "name": "stdout",
     "output_type": "stream",
     "text": [
      "Loaded Model Accuracy: 99.73%\n"
     ]
    }
   ],
   "source": [
    "model.save('./data/keras-w2v-recipe-300d.mdl')\n",
    "loaded_model = models.load_model('./data/keras-w2v-recipe-300d.mdl')\n",
    "scores = loaded_model.evaluate(test_x, test_y, verbose=0)\n",
    "print(\"Loaded Model Accuracy: %.2f%%\" % (scores[1] * 100))"
   ]
  },
  {
   "cell_type": "code",
   "execution_count": 15,
   "id": "b0f0371e-b0d3-4bc7-be8b-6ed6ff7af611",
   "metadata": {},
   "outputs": [
    {
     "name": "stdout",
     "output_type": "stream",
     "text": [
      "1/1 [==============================] - 0s 18ms/step\n"
     ]
    },
    {
     "data": {
      "text/plain": [
       "array([[1.]], dtype=float32)"
      ]
     },
     "execution_count": 15,
     "metadata": {},
     "output_type": "execute_result"
    }
   ],
   "source": [
    "text = '''\n",
    "Yukon Gold potatoes or Klondike Goldust potatoes – or use Russets\n",
    "Mayonnaise – your favorite brand\n",
    "Refrigerated pickle relish \n",
    "Yellow mustard – or 1 part yellow + 1 part dijon\n",
    "Apple cider vinegar\n",
    "Celery seeds\n",
    "Paprika\n",
    "Hard-boiled eggs – peeled and chopped\n",
    "Celery stalks – diced\n",
    "Sweet onion – diced\n",
    "Fresh chopped dill\n",
    "Salt and pepper\n",
    "'''\n",
    "v = np.array(text_to_word_vectors(text, MAX_WORDS_IN_SENTENCE))\n",
    "v = v.reshape(MAX_WORDS_IN_SENTENCE * WORD2VEC_DIMENSIONS,1)\n",
    "t = tf.convert_to_tensor([v])\n",
    "\n",
    "loaded_model.predict(t)"
   ]
  },
  {
   "cell_type": "code",
   "execution_count": null,
   "id": "fbf6a314-456b-48ae-84f1-dd6e3067d449",
   "metadata": {},
   "outputs": [],
   "source": []
  }
 ],
 "metadata": {
  "kernelspec": {
   "display_name": "Python 3 (ipykernel)",
   "language": "python",
   "name": "python3"
  },
  "language_info": {
   "codemirror_mode": {
    "name": "ipython",
    "version": 3
   },
   "file_extension": ".py",
   "mimetype": "text/x-python",
   "name": "python",
   "nbconvert_exporter": "python",
   "pygments_lexer": "ipython3",
   "version": "3.10.12"
  }
 },
 "nbformat": 4,
 "nbformat_minor": 5
}
