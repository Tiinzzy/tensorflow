{
 "cells": [
  {
   "cell_type": "code",
   "execution_count": 8,
   "id": "5a9cedc6-17aa-49a9-a519-a0a2ab48bdaa",
   "metadata": {},
   "outputs": [],
   "source": [
    "import os\n",
    "import re\n",
    "import numpy as np\n",
    "import pandas as pd\n",
    "import tensorflow as tf\n",
    "from keras.preprocessing.sequence import pad_sequences\n",
    "from keras import models, layers"
   ]
  },
  {
   "cell_type": "code",
   "execution_count": 2,
   "id": "32bb1813-ae61-40cb-b2c7-19e04d86b485",
   "metadata": {},
   "outputs": [],
   "source": [
    "num_threads = 5\n",
    "os.environ[\"OMP_NUM_THREADS\"] = \"5\"\n",
    "os.environ[\"TF_NUM_INTRAOP_THREADS\"] = \"5\"\n",
    "os.environ[\"TF_NUM_INTEROP_THREADS\"] = \"5\"\n",
    "tf.config.threading.set_inter_op_parallelism_threads(num_threads)\n",
    "tf.config.threading.set_intra_op_parallelism_threads(num_threads)\n",
    "tf.config.set_soft_device_placement(True)"
   ]
  },
  {
   "cell_type": "code",
   "execution_count": 3,
   "id": "1476ac59-3f65-489f-be97-42b7dda69e61",
   "metadata": {},
   "outputs": [],
   "source": [
    "MAX_WORDS_IN_SENTENCE = 700\n",
    "WORD2VEC_DIMENSIONS = 100"
   ]
  },
  {
   "cell_type": "code",
   "execution_count": 4,
   "id": "144b48de-9836-4891-89e1-4a672e96f91b",
   "metadata": {},
   "outputs": [],
   "source": [
    "embeddings_index = {}\n",
    "with open('/home/tina/Downloads/glove.6B.100d.txt') as f:\n",
    "    for line in f:\n",
    "        values = line.split()\n",
    "        word = values[0]\n",
    "        coefs = np.asarray(values[1:], dtype='float32')\n",
    "        embeddings_index[word] = coefs"
   ]
  },
  {
   "cell_type": "code",
   "execution_count": 5,
   "id": "51d3a059-6e77-4a88-b2b2-4bc274b4a7b9",
   "metadata": {},
   "outputs": [],
   "source": [
    "def text_to_word_vectors(text, vector_space_dimension):    \n",
    "    sentence_vectors = []\n",
    "    for word in text.lower().split():\n",
    "        if word in embeddings_index and len(sentence_vectors) < MAX_WORDS_IN_SENTENCE:\n",
    "            sentence_vectors.append(embeddings_index[word])    \n",
    "    if len(sentence_vectors) > 0:\n",
    "        pad_len = vector_space_dimension-len(sentence_vectors)      \n",
    "        if pad_len > 0:\n",
    "            padding = [np.zeros_like(sentence_vectors[0])] * pad_len\n",
    "            sentence_vectors = sentence_vectors + padding\n",
    "    return sentence_vectors\n",
    "\n",
    "def clean_dataframe(df):\n",
    "    cleaned_df = df.copy()\n",
    "    pattern = r'[^a-zA-Z\\s]'\n",
    "    cleaned_df['text'] = cleaned_df['text'].astype(str).apply(lambda x: re.sub(pattern, '', x))    \n",
    "    return cleaned_df"
   ]
  },
  {
   "cell_type": "code",
   "execution_count": 6,
   "id": "f197c20a-edb8-4592-9902-92dd17dd7c88",
   "metadata": {},
   "outputs": [],
   "source": [
    "#"
   ]
  },
  {
   "cell_type": "code",
   "execution_count": 9,
   "id": "7857bcc3-0e9e-4a1a-b33f-7dd21938e4de",
   "metadata": {},
   "outputs": [],
   "source": [
    "dataset = pd.read_csv('./data/recipe-dataset.csv')\n",
    "dataset = clean_dataframe(dataset)\n",
    "texts = dataset['text'].astype(str)\n",
    "labels = dataset['label']"
   ]
  },
  {
   "cell_type": "code",
   "execution_count": 10,
   "id": "80eb0a08-e98d-4b44-b3da-44ba6f790b60",
   "metadata": {},
   "outputs": [],
   "source": [
    "data = [text_to_word_vectors(text, MAX_WORDS_IN_SENTENCE) for text in texts]\n",
    "data = np.array(data)\n",
    "targets = np.array(labels).astype(\"float32\")"
   ]
  },
  {
   "cell_type": "code",
   "execution_count": 11,
   "id": "33e8141d-2289-43bd-a810-6c55d1f134dc",
   "metadata": {},
   "outputs": [],
   "source": [
    "test_x = data[:1500]\n",
    "test_x =  test_x.reshape(len(test_x), MAX_WORDS_IN_SENTENCE * WORD2VEC_DIMENSIONS)\n",
    "test_y = targets[:1500]\n",
    "\n",
    "train_x = data[1500:]\n",
    "train_x = train_x.reshape(len(train_x), MAX_WORDS_IN_SENTENCE * WORD2VEC_DIMENSIONS)\n",
    "train_y = targets[1500:]"
   ]
  },
  {
   "cell_type": "code",
   "execution_count": 12,
   "id": "ba9bdb77-5018-42f8-b03f-822fc0250aa0",
   "metadata": {},
   "outputs": [
    {
     "data": {
      "text/plain": [
       "((1828, 70000), (1828,))"
      ]
     },
     "execution_count": 12,
     "metadata": {},
     "output_type": "execute_result"
    }
   ],
   "source": [
    "train_x.shape, train_y.shape"
   ]
  },
  {
   "cell_type": "code",
   "execution_count": 13,
   "id": "8ecf09b2-1ab0-4256-a285-90aa0ec81dfe",
   "metadata": {},
   "outputs": [
    {
     "data": {
      "text/plain": [
       "((1500, 70000), (1500,))"
      ]
     },
     "execution_count": 13,
     "metadata": {},
     "output_type": "execute_result"
    }
   ],
   "source": [
    "test_x.shape, test_y.shape"
   ]
  },
  {
   "cell_type": "code",
   "execution_count": 14,
   "id": "982317ad-3ad9-4871-b1ab-c0ba84084034",
   "metadata": {},
   "outputs": [
    {
     "name": "stdout",
     "output_type": "stream",
     "text": [
      "Model: \"sequential\"\n",
      "_________________________________________________________________\n",
      " Layer (type)                Output Shape              Param #   \n",
      "=================================================================\n",
      " dense (Dense)               (None, 50)                3500050   \n",
      "                                                                 \n",
      " dropout (Dropout)           (None, 50)                0         \n",
      "                                                                 \n",
      " dense_1 (Dense)             (None, 50)                2550      \n",
      "                                                                 \n",
      " dropout_1 (Dropout)         (None, 50)                0         \n",
      "                                                                 \n",
      " dense_2 (Dense)             (None, 50)                2550      \n",
      "                                                                 \n",
      " dense_3 (Dense)             (None, 1)                 51        \n",
      "                                                                 \n",
      "=================================================================\n",
      "Total params: 3505201 (13.37 MB)\n",
      "Trainable params: 3505201 (13.37 MB)\n",
      "Non-trainable params: 0 (0.00 Byte)\n",
      "_________________________________________________________________\n"
     ]
    },
    {
     "name": "stderr",
     "output_type": "stream",
     "text": [
      "2023-09-15 08:47:40.744395: I tensorflow/compiler/xla/stream_executor/cuda/cuda_gpu_executor.cc:995] successful NUMA node read from SysFS had negative value (-1), but there must be at least one NUMA node, so returning NUMA node zero. See more at https://github.com/torvalds/linux/blob/v6.0/Documentation/ABI/testing/sysfs-bus-pci#L344-L355\n",
      "2023-09-15 08:47:40.745350: W tensorflow/core/common_runtime/gpu/gpu_device.cc:1960] Cannot dlopen some GPU libraries. Please make sure the missing libraries mentioned above are installed properly if you would like to use GPU. Follow the guide at https://www.tensorflow.org/install/gpu for how to download and setup the required libraries for your platform.\n",
      "Skipping registering GPU devices...\n"
     ]
    }
   ],
   "source": [
    "model = models.Sequential()\n",
    "model.add(layers.Dense(50, activation=\"relu\", input_shape=(MAX_WORDS_IN_SENTENCE * WORD2VEC_DIMENSIONS, )))  \n",
    "model.add(layers.Dropout(0.3, noise_shape=None, seed=None))\n",
    "model.add(layers.Dense(50, activation=\"relu\"))\n",
    "model.add(layers.Dropout(0.2, noise_shape=None, seed=None))\n",
    "model.add(layers.Dense(50, activation=\"relu\"))\n",
    "model.add(layers.Dense(1, activation=\"sigmoid\")) \n",
    "model.summary()"
   ]
  },
  {
   "cell_type": "code",
   "execution_count": 15,
   "id": "9ced9d0e-c094-4899-b53d-7583788dba51",
   "metadata": {},
   "outputs": [
    {
     "name": "stdout",
     "output_type": "stream",
     "text": [
      "Epoch 1/5\n"
     ]
    },
    {
     "name": "stderr",
     "output_type": "stream",
     "text": [
      "2023-09-15 08:47:43.274350: W tensorflow/tsl/framework/cpu_allocator_impl.cc:83] Allocation of 511840000 exceeds 10% of free system memory.\n"
     ]
    },
    {
     "name": "stdout",
     "output_type": "stream",
     "text": [
      "58/58 [==============================] - 4s 54ms/step - loss: 0.0777 - accuracy: 0.9776 - val_loss: 0.0137 - val_accuracy: 0.9960\n",
      "Epoch 2/5\n",
      "58/58 [==============================] - 3s 46ms/step - loss: 0.0084 - accuracy: 0.9978 - val_loss: 0.0029 - val_accuracy: 0.9993\n",
      "Epoch 3/5\n",
      "58/58 [==============================] - 3s 47ms/step - loss: 0.0018 - accuracy: 1.0000 - val_loss: 0.0033 - val_accuracy: 0.9987\n",
      "Epoch 4/5\n",
      "58/58 [==============================] - 3s 46ms/step - loss: 5.0083e-04 - accuracy: 1.0000 - val_loss: 0.0034 - val_accuracy: 0.9987\n",
      "Epoch 5/5\n",
      "58/58 [==============================] - 3s 46ms/step - loss: 4.1338e-04 - accuracy: 1.0000 - val_loss: 0.0058 - val_accuracy: 0.9987\n"
     ]
    }
   ],
   "source": [
    "model.compile(optimizer=\"adam\", loss=\"binary_crossentropy\", metrics=[\"accuracy\"])\n",
    "results = model.fit(train_x, train_y, epochs=5, batch_size=32, validation_data=(test_x, test_y))"
   ]
  },
  {
   "cell_type": "code",
   "execution_count": 19,
   "id": "e7294da1-6754-45a2-8774-2dffaee6536d",
   "metadata": {},
   "outputs": [
    {
     "name": "stdout",
     "output_type": "stream",
     "text": [
      "INFO:tensorflow:Assets written to: ./data/keras-w2v-recipe-100d.mdl/assets\n"
     ]
    },
    {
     "name": "stderr",
     "output_type": "stream",
     "text": [
      "INFO:tensorflow:Assets written to: ./data/keras-w2v-recipe-100d.mdl/assets\n"
     ]
    },
    {
     "name": "stdout",
     "output_type": "stream",
     "text": [
      "Loaded Model Accuracy: 99.87%\n"
     ]
    }
   ],
   "source": [
    "model.save('./data/keras-w2v-recipe-100d.mdl')\n",
    "loaded_model = models.load_model('./data/keras-w2v-recipe-100d.mdl')\n",
    "scores = loaded_model.evaluate(test_x, test_y, verbose=0)\n",
    "print(\"Loaded Model Accuracy: %.2f%%\" % (scores[1] * 100))"
   ]
  },
  {
   "cell_type": "code",
   "execution_count": 20,
   "id": "30483d16-dfe0-44ab-9983-317b943b354e",
   "metadata": {},
   "outputs": [
    {
     "name": "stdout",
     "output_type": "stream",
     "text": [
      "1/1 [==============================] - 0s 43ms/step\n"
     ]
    },
    {
     "data": {
      "text/plain": [
       "array([[7.116231e-05]], dtype=float32)"
      ]
     },
     "execution_count": 20,
     "metadata": {},
     "output_type": "execute_result"
    }
   ],
   "source": [
    "text = '''\n",
    "To encourage thoughtful and respectful conversations\n",
    "'''\n",
    "v = np.array(text_to_word_vectors(text, MAX_WORDS_IN_SENTENCE))\n",
    "v = v.reshape(MAX_WORDS_IN_SENTENCE * WORD2VEC_DIMENSIONS,1)\n",
    "t = tf.convert_to_tensor([v])\n",
    "\n",
    "loaded_model.predict(t)"
   ]
  },
  {
   "cell_type": "code",
   "execution_count": null,
   "id": "d31eb02f-9e9b-4837-b14b-35930808a5ef",
   "metadata": {},
   "outputs": [],
   "source": []
  }
 ],
 "metadata": {
  "kernelspec": {
   "display_name": "Python 3 (ipykernel)",
   "language": "python",
   "name": "python3"
  },
  "language_info": {
   "codemirror_mode": {
    "name": "ipython",
    "version": 3
   },
   "file_extension": ".py",
   "mimetype": "text/x-python",
   "name": "python",
   "nbconvert_exporter": "python",
   "pygments_lexer": "ipython3",
   "version": "3.10.12"
  }
 },
 "nbformat": 4,
 "nbformat_minor": 5
}
