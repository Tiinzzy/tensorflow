{
 "cells": [
  {
   "cell_type": "code",
   "execution_count": 1,
   "id": "0b18b59b-28e1-4018-ba8d-3576e4e772b4",
   "metadata": {},
   "outputs": [],
   "source": [
    "import json\n",
    "import pandas as pd\n",
    "\n",
    "ATHLETE_DATA = '/home/tina/Downloads/athlete_events.csv'\n",
    "\n",
    "encoding = 'latin1'"
   ]
  },
  {
   "cell_type": "code",
   "execution_count": null,
   "id": "daf3bb4b-6290-4838-aa27-f08f11abc9cb",
   "metadata": {},
   "outputs": [],
   "source": []
  }
 ],
 "metadata": {
  "kernelspec": {
   "display_name": "Python 3 (ipykernel)",
   "language": "python",
   "name": "python3"
  },
  "language_info": {
   "codemirror_mode": {
    "name": "ipython",
    "version": 3
   },
   "file_extension": ".py",
   "mimetype": "text/x-python",
   "name": "python",
   "nbconvert_exporter": "python",
   "pygments_lexer": "ipython3",
   "version": "3.10.12"
  }
 },
 "nbformat": 4,
 "nbformat_minor": 5
}
