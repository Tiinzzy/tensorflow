{
 "cells": [
  {
   "cell_type": "code",
   "execution_count": 18,
   "id": "0b18b59b-28e1-4018-ba8d-3576e4e772b4",
   "metadata": {},
   "outputs": [],
   "source": [
    "import json\n",
    "import pandas as pd\n",
    "\n",
    "encoding = 'latin1'"
   ]
  },
  {
   "cell_type": "code",
   "execution_count": 29,
   "id": "daf3bb4b-6290-4838-aa27-f08f11abc9cb",
   "metadata": {},
   "outputs": [],
   "source": [
    "chat_df = pd.read_csv('/home/tina/Downloads/chat_dataset.csv')\n",
    "chat_df['sentiment'] = chat_df['sentiment'].replace({'positive': 1, 'negative': 0})\n",
    "chat_df = chat_df[chat_df['sentiment'] != 'neutral']"
   ]
  },
  {
   "cell_type": "code",
   "execution_count": 31,
   "id": "680b7921-e69a-4a91-85b7-b07b6b06a8a8",
   "metadata": {},
   "outputs": [
    {
     "data": {
      "text/plain": [
       "325"
      ]
     },
     "execution_count": 31,
     "metadata": {},
     "output_type": "execute_result"
    }
   ],
   "source": [
    "len(chat_df)"
   ]
  },
  {
   "cell_type": "code",
   "execution_count": null,
   "id": "99fe9b33-f81c-46b4-bf09-f5a278f16c5c",
   "metadata": {},
   "outputs": [],
   "source": []
  },
  {
   "cell_type": "code",
   "execution_count": null,
   "id": "cdd9d023-c0f3-45f4-b8c3-33c99cadc6db",
   "metadata": {},
   "outputs": [],
   "source": []
  }
 ],
 "metadata": {
  "kernelspec": {
   "display_name": "Python 3 (ipykernel)",
   "language": "python",
   "name": "python3"
  },
  "language_info": {
   "codemirror_mode": {
    "name": "ipython",
    "version": 3
   },
   "file_extension": ".py",
   "mimetype": "text/x-python",
   "name": "python",
   "nbconvert_exporter": "python",
   "pygments_lexer": "ipython3",
   "version": "3.10.12"
  }
 },
 "nbformat": 4,
 "nbformat_minor": 5
}
