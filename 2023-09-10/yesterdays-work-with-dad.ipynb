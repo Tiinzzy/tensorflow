{
 "cells": [
  {
   "cell_type": "code",
   "execution_count": 1,
   "id": "4fdc642f-bac8-44cd-8247-ddc45679fe39",
   "metadata": {},
   "outputs": [
    {
     "name": "stderr",
     "output_type": "stream",
     "text": [
      "2023-09-15 08:26:45.320230: I tensorflow/tsl/cuda/cudart_stub.cc:28] Could not find cuda drivers on your machine, GPU will not be used.\n",
      "2023-09-15 08:26:45.480621: I tensorflow/tsl/cuda/cudart_stub.cc:28] Could not find cuda drivers on your machine, GPU will not be used.\n",
      "2023-09-15 08:26:45.481050: I tensorflow/core/platform/cpu_feature_guard.cc:182] This TensorFlow binary is optimized to use available CPU instructions in performance-critical operations.\n",
      "To enable the following instructions: AVX2 FMA, in other operations, rebuild TensorFlow with the appropriate compiler flags.\n",
      "2023-09-15 08:26:46.697660: W tensorflow/compiler/tf2tensorrt/utils/py_utils.cc:38] TF-TRT Warning: Could not find TensorRT\n"
     ]
    }
   ],
   "source": [
    "import os\n",
    "import numpy as np\n",
    "import re\n",
    "import pandas as pd\n",
    "import tensorflow as tf\n",
    "from keras.preprocessing.sequence import pad_sequences\n",
    "from keras import models, layers"
   ]
  },
  {
   "cell_type": "code",
   "execution_count": 3,
   "id": "e4d729b9-5029-4e7a-9697-b052b17c667b",
   "metadata": {},
   "outputs": [],
   "source": [
    "num_threads = 5\n",
    "os.environ[\"OMP_NUM_THREADS\"] = \"5\"\n",
    "os.environ[\"TF_NUM_INTRAOP_THREADS\"] = \"5\"\n",
    "os.environ[\"TF_NUM_INTEROP_THREADS\"] = \"5\"\n",
    "tf.config.threading.set_inter_op_parallelism_threads(num_threads)\n",
    "tf.config.threading.set_intra_op_parallelism_threads(num_threads)\n",
    "tf.config.set_soft_device_placement(True)"
   ]
  },
  {
   "cell_type": "code",
   "execution_count": 4,
   "id": "bc46aa8c-2661-4b9b-9f92-2d738592d3c6",
   "metadata": {},
   "outputs": [],
   "source": [
    "MAX_WORDS_IN_SENTENCE = 700\n",
    "WORD2VEC_DIMENSIONS = 100"
   ]
  },
  {
   "cell_type": "code",
   "execution_count": 5,
   "id": "08465030-7428-41c7-9d86-a63dd3cb5fb1",
   "metadata": {},
   "outputs": [],
   "source": [
    "embeddings_index = {}\n",
    "with open('/home/tina/Downloads/glove.6B.100d.txt') as f:\n",
    "    for line in f:\n",
    "        values = line.split()\n",
    "        word = values[0]\n",
    "        coefs = np.asarray(values[1:], dtype='float32')\n",
    "        embeddings_index[word] = coefs"
   ]
  },
  {
   "cell_type": "code",
   "execution_count": 6,
   "id": "b02f5132-f45b-4c90-b312-8ae61902f7b3",
   "metadata": {},
   "outputs": [],
   "source": [
    "def text_to_word_vectors(text, vector_space_dimension):    \n",
    "    sentence_vectors = []\n",
    "    for word in text.lower().split():\n",
    "        if word in embeddings_index and len(sentence_vectors) < MAX_WORDS_IN_SENTENCE:\n",
    "            sentence_vectors.append(embeddings_index[word])    \n",
    "    if len(sentence_vectors) > 0:\n",
    "        pad_len = vector_space_dimension-len(sentence_vectors)      \n",
    "        if pad_len > 0:\n",
    "            padding = [np.zeros_like(sentence_vectors[0])] * pad_len\n",
    "            sentence_vectors = sentence_vectors + padding\n",
    "    return sentence_vectors\n",
    "\n",
    "def clean_dataframe(df):\n",
    "    cleaned_df = df.copy()\n",
    "    pattern = r'[^a-zA-Z\\s]'\n",
    "    cleaned_df['text'] = cleaned_df['text'].apply(lambda x: re.sub(pattern, '', x))    \n",
    "    return cleaned_df"
   ]
  },
  {
   "cell_type": "code",
   "execution_count": 7,
   "id": "0f136114-9fcb-459b-a1a8-3ea413fabfef",
   "metadata": {},
   "outputs": [],
   "source": [
    "dataset = pd.read_csv('./data/reviews-dataset.csv')\n",
    "dataset = clean_dataframe(dataset)\n",
    "texts = dataset['text'].astype(str)\n",
    "dataset['vlen'] = [len(text_to_word_vectors(t, MAX_WORDS_IN_SENTENCE)) for t in texts]\n",
    "dataset = dataset[dataset.vlen > 0]\n",
    "# dataset = dataset[dataset.vlen <= MAX_WORDS_IN_SENTENCE]\n",
    "\n",
    "texts = dataset['text'].astype(str)\n",
    "labels = dataset['label']"
   ]
  },
  {
   "cell_type": "code",
   "execution_count": 8,
   "id": "97232656-8ff5-4bc3-98d0-248034ea9dd5",
   "metadata": {},
   "outputs": [],
   "source": [
    "data = [text_to_word_vectors(text, MAX_WORDS_IN_SENTENCE) for text in texts]\n",
    "data = np.array(data)\n",
    "targets = np.array(labels).astype(\"float32\")"
   ]
  },
  {
   "cell_type": "code",
   "execution_count": 9,
   "id": "8c0af2d4-c6c7-402e-9c47-798fcf40ac42",
   "metadata": {},
   "outputs": [],
   "source": [
    "test_x = data[:1500]\n",
    "test_x = np.array(test_x).astype('float32')\n",
    "test_x =  test_x.reshape(len(test_x), MAX_WORDS_IN_SENTENCE * WORD2VEC_DIMENSIONS)\n",
    "test_y = targets[:1500]\n",
    "\n",
    "train_x = data[1500:]\n",
    "train_x = np.array(train_x).astype('float32')\n",
    "train_x = train_x.reshape(len(train_x), MAX_WORDS_IN_SENTENCE * WORD2VEC_DIMENSIONS)\n",
    "train_y = targets[1500:]"
   ]
  },
  {
   "cell_type": "code",
   "execution_count": 10,
   "id": "d724bd9d-cd91-45ca-acb9-4d964c09a494",
   "metadata": {},
   "outputs": [
    {
     "name": "stderr",
     "output_type": "stream",
     "text": [
      "2023-09-15 08:27:19.544456: I tensorflow/compiler/xla/stream_executor/cuda/cuda_gpu_executor.cc:995] successful NUMA node read from SysFS had negative value (-1), but there must be at least one NUMA node, so returning NUMA node zero. See more at https://github.com/torvalds/linux/blob/v6.0/Documentation/ABI/testing/sysfs-bus-pci#L344-L355\n",
      "2023-09-15 08:27:19.545620: W tensorflow/core/common_runtime/gpu/gpu_device.cc:1960] Cannot dlopen some GPU libraries. Please make sure the missing libraries mentioned above are installed properly if you would like to use GPU. Follow the guide at https://www.tensorflow.org/install/gpu for how to download and setup the required libraries for your platform.\n",
      "Skipping registering GPU devices...\n"
     ]
    },
    {
     "name": "stdout",
     "output_type": "stream",
     "text": [
      "Model: \"sequential\"\n",
      "_________________________________________________________________\n",
      " Layer (type)                Output Shape              Param #   \n",
      "=================================================================\n",
      " dense (Dense)               (None, 50)                3500050   \n",
      "                                                                 \n",
      " dropout (Dropout)           (None, 50)                0         \n",
      "                                                                 \n",
      " dense_1 (Dense)             (None, 50)                2550      \n",
      "                                                                 \n",
      " dropout_1 (Dropout)         (None, 50)                0         \n",
      "                                                                 \n",
      " dense_2 (Dense)             (None, 50)                2550      \n",
      "                                                                 \n",
      " dense_3 (Dense)             (None, 1)                 51        \n",
      "                                                                 \n",
      "=================================================================\n",
      "Total params: 3505201 (13.37 MB)\n",
      "Trainable params: 3505201 (13.37 MB)\n",
      "Non-trainable params: 0 (0.00 Byte)\n",
      "_________________________________________________________________\n"
     ]
    }
   ],
   "source": [
    "model = models.Sequential()\n",
    "model.add(layers.Dense(50, activation=\"relu\", input_shape=(MAX_WORDS_IN_SENTENCE * WORD2VEC_DIMENSIONS, )))  \n",
    "model.add(layers.Dropout(0.3, noise_shape=None, seed=None))\n",
    "model.add(layers.Dense(50, activation=\"relu\"))\n",
    "model.add(layers.Dropout(0.2, noise_shape=None, seed=None))\n",
    "model.add(layers.Dense(50, activation=\"relu\"))\n",
    "model.add(layers.Dense(1, activation=\"sigmoid\")) \n",
    "model.summary()"
   ]
  },
  {
   "cell_type": "code",
   "execution_count": 11,
   "id": "26a9afe4-bd00-4913-923d-0f3b15231dfd",
   "metadata": {},
   "outputs": [
    {
     "name": "stdout",
     "output_type": "stream",
     "text": [
      "Epoch 1/5\n"
     ]
    },
    {
     "name": "stderr",
     "output_type": "stream",
     "text": [
      "2023-09-15 08:27:23.063172: W tensorflow/tsl/framework/cpu_allocator_impl.cc:83] Allocation of 1258600000 exceeds 10% of free system memory.\n"
     ]
    },
    {
     "name": "stdout",
     "output_type": "stream",
     "text": [
      "141/141 [==============================] - ETA: 0s - loss: 0.7325 - accuracy: 0.5177"
     ]
    },
    {
     "name": "stderr",
     "output_type": "stream",
     "text": [
      "2023-09-15 08:27:29.805820: W tensorflow/tsl/framework/cpu_allocator_impl.cc:83] Allocation of 420000000 exceeds 10% of free system memory.\n"
     ]
    },
    {
     "name": "stdout",
     "output_type": "stream",
     "text": [
      "141/141 [==============================] - 7s 43ms/step - loss: 0.7325 - accuracy: 0.5177 - val_loss: 0.6791 - val_accuracy: 0.5640\n",
      "Epoch 2/5\n",
      "141/141 [==============================] - 6s 40ms/step - loss: 0.6768 - accuracy: 0.5809 - val_loss: 0.6227 - val_accuracy: 0.6707\n",
      "Epoch 3/5\n",
      "141/141 [==============================] - 6s 42ms/step - loss: 0.6304 - accuracy: 0.6225 - val_loss: 0.5656 - val_accuracy: 0.7033\n",
      "Epoch 4/5\n",
      "141/141 [==============================] - 6s 42ms/step - loss: 0.5754 - accuracy: 0.6694 - val_loss: 0.5574 - val_accuracy: 0.7087\n",
      "Epoch 5/5\n",
      "141/141 [==============================] - 6s 43ms/step - loss: 0.5129 - accuracy: 0.7150 - val_loss: 0.5707 - val_accuracy: 0.7207\n"
     ]
    }
   ],
   "source": [
    "model.compile(optimizer=\"adam\", loss=\"binary_crossentropy\", metrics=[\"accuracy\"])\n",
    "results = model.fit(train_x, train_y, epochs=5, batch_size=32, validation_data=(test_x, test_y))"
   ]
  },
  {
   "cell_type": "code",
   "execution_count": 12,
   "id": "7e73a832-d9f2-4680-9f81-dc9a67b0b2a5",
   "metadata": {},
   "outputs": [
    {
     "name": "stdout",
     "output_type": "stream",
     "text": [
      "INFO:tensorflow:Assets written to: ./data/keras-w2v-recipe-50d.mdl/assets\n"
     ]
    },
    {
     "name": "stderr",
     "output_type": "stream",
     "text": [
      "INFO:tensorflow:Assets written to: ./data/keras-w2v-recipe-50d.mdl/assets\n",
      "2023-09-15 08:27:58.422945: W tensorflow/tsl/framework/cpu_allocator_impl.cc:83] Allocation of 420000000 exceeds 10% of free system memory.\n"
     ]
    },
    {
     "name": "stdout",
     "output_type": "stream",
     "text": [
      "Loaded Model Accuracy: 72.07%\n"
     ]
    }
   ],
   "source": [
    "model.save('./data/keras-w2v-recipe-50d.mdl')\n",
    "loaded_model = models.load_model('./data/keras-w2v-recipe-50d.mdl')\n",
    "scores = loaded_model.evaluate(test_x, test_y, verbose=0)\n",
    "print(\"Loaded Model Accuracy: %.2f%%\" % (scores[1] * 100))"
   ]
  },
  {
   "cell_type": "code",
   "execution_count": 13,
   "id": "e0581408-0543-4271-8134-17d4f24fac14",
   "metadata": {},
   "outputs": [
    {
     "name": "stderr",
     "output_type": "stream",
     "text": [
      "2023-09-15 08:28:00.637547: W tensorflow/tsl/framework/cpu_allocator_impl.cc:83] Allocation of 420000000 exceeds 10% of free system memory.\n"
     ]
    },
    {
     "name": "stdout",
     "output_type": "stream",
     "text": [
      "Loaded Model Accuracy: 72.07%\n"
     ]
    }
   ],
   "source": [
    "scores = loaded_model.evaluate(test_x, test_y, verbose=0)\n",
    "print(\"Loaded Model Accuracy: %.2f%%\" % (scores[1] * 100))"
   ]
  },
  {
   "cell_type": "code",
   "execution_count": null,
   "id": "dcaa674c-1d6c-4953-9aa7-e1343b010ee0",
   "metadata": {},
   "outputs": [],
   "source": []
  }
 ],
 "metadata": {
  "kernelspec": {
   "display_name": "Python 3 (ipykernel)",
   "language": "python",
   "name": "python3"
  },
  "language_info": {
   "codemirror_mode": {
    "name": "ipython",
    "version": 3
   },
   "file_extension": ".py",
   "mimetype": "text/x-python",
   "name": "python",
   "nbconvert_exporter": "python",
   "pygments_lexer": "ipython3",
   "version": "3.10.12"
  }
 },
 "nbformat": 4,
 "nbformat_minor": 5
}
