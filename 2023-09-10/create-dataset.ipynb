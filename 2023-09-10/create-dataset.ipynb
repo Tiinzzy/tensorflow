{
 "cells": [
  {
   "cell_type": "code",
   "execution_count": 4,
   "id": "f364a1c4-de46-41ef-9cde-610fedd4bb42",
   "metadata": {},
   "outputs": [],
   "source": [
    "import json\n",
    "import pandas as pd\n",
    "\n",
    "IMDB_DATA = '/home/tina/Downloads/IMDB Dataset.csv'\n",
    "RESTAURANT_DATA = '/home/tina/Downloads/Restaurant_Reviews.csv'\n",
    "REVIEW_DATA = '/home/tina/Downloads/review_train.csv'\n",
    "\n",
    "encoding = 'latin1'"
   ]
  },
  {
   "cell_type": "code",
   "execution_count": 5,
   "id": "d5576057-adee-4ffd-84da-242cb9f2e4ae",
   "metadata": {},
   "outputs": [
    {
     "data": {
      "text/html": [
       "<div>\n",
       "<style scoped>\n",
       "    .dataframe tbody tr th:only-of-type {\n",
       "        vertical-align: middle;\n",
       "    }\n",
       "\n",
       "    .dataframe tbody tr th {\n",
       "        vertical-align: top;\n",
       "    }\n",
       "\n",
       "    .dataframe thead th {\n",
       "        text-align: right;\n",
       "    }\n",
       "</style>\n",
       "<table border=\"1\" class=\"dataframe\">\n",
       "  <thead>\n",
       "    <tr style=\"text-align: right;\">\n",
       "      <th></th>\n",
       "      <th>text</th>\n",
       "      <th>label</th>\n",
       "    </tr>\n",
       "  </thead>\n",
       "  <tbody>\n",
       "    <tr>\n",
       "      <th>33553</th>\n",
       "      <td>There isn't enough space to explain the many w...</td>\n",
       "      <td>0</td>\n",
       "    </tr>\n",
       "    <tr>\n",
       "      <th>9427</th>\n",
       "      <td>One of my favorites non-MGM musicals, it's a c...</td>\n",
       "      <td>1</td>\n",
       "    </tr>\n",
       "    <tr>\n",
       "      <th>199</th>\n",
       "      <td>I am rating this an 8 because of the premise o...</td>\n",
       "      <td>1</td>\n",
       "    </tr>\n",
       "    <tr>\n",
       "      <th>12447</th>\n",
       "      <td>I won't repeat all that has been said already ...</td>\n",
       "      <td>1</td>\n",
       "    </tr>\n",
       "    <tr>\n",
       "      <th>39489</th>\n",
       "      <td>**SPOILERS** With the title of the film having...</td>\n",
       "      <td>0</td>\n",
       "    </tr>\n",
       "    <tr>\n",
       "      <th>42724</th>\n",
       "      <td>Episode two of season one is a delightful holi...</td>\n",
       "      <td>1</td>\n",
       "    </tr>\n",
       "    <tr>\n",
       "      <th>10822</th>\n",
       "      <td>Nell Shipman must have been paid a hefty sum o...</td>\n",
       "      <td>0</td>\n",
       "    </tr>\n",
       "    <tr>\n",
       "      <th>49498</th>\n",
       "      <td>I recently purchassed the very underrated Drea...</td>\n",
       "      <td>1</td>\n",
       "    </tr>\n",
       "    <tr>\n",
       "      <th>4144</th>\n",
       "      <td>The movie features another exceptional collabo...</td>\n",
       "      <td>1</td>\n",
       "    </tr>\n",
       "    <tr>\n",
       "      <th>36958</th>\n",
       "      <td>I was totally engrossed in this film from the ...</td>\n",
       "      <td>1</td>\n",
       "    </tr>\n",
       "  </tbody>\n",
       "</table>\n",
       "</div>"
      ],
      "text/plain": [
       "                                                    text  label\n",
       "33553  There isn't enough space to explain the many w...      0\n",
       "9427   One of my favorites non-MGM musicals, it's a c...      1\n",
       "199    I am rating this an 8 because of the premise o...      1\n",
       "12447  I won't repeat all that has been said already ...      1\n",
       "39489  **SPOILERS** With the title of the film having...      0\n",
       "42724  Episode two of season one is a delightful holi...      1\n",
       "10822  Nell Shipman must have been paid a hefty sum o...      0\n",
       "49498  I recently purchassed the very underrated Drea...      1\n",
       "4144   The movie features another exceptional collabo...      1\n",
       "36958  I was totally engrossed in this film from the ...      1"
      ]
     },
     "execution_count": 5,
     "metadata": {},
     "output_type": "execute_result"
    }
   ],
   "source": [
    "imbd_df = pd.read_csv(IMDB_DATA)\n",
    "imbd_df['sentiment'] = imbd_df['sentiment'].replace({'positive': 1, 'negative': 0})\n",
    "imbd_df.columns = ['text', 'label']\n",
    "shuffled_imbd_df = imbd_df.sample(frac=1, random_state=42)\n",
    "shuffled_imbd_df = shuffled_imbd_df.reset_index(drop=True)\n",
    "sample_imbd_df = shuffled_imbd_df.sample(n=2500, random_state=42)\n",
    "sample_imbd_df.head(10)"
   ]
  },
  {
   "cell_type": "code",
   "execution_count": 6,
   "id": "37f7ffa4-1c97-4c84-9216-2627e012f373",
   "metadata": {},
   "outputs": [
    {
     "data": {
      "text/plain": [
       "2500"
      ]
     },
     "execution_count": 6,
     "metadata": {},
     "output_type": "execute_result"
    }
   ],
   "source": [
    "len(sample_imbd_df)"
   ]
  },
  {
   "cell_type": "code",
   "execution_count": 7,
   "id": "ac9fe469-b501-4f2b-90e2-4762fa85c979",
   "metadata": {},
   "outputs": [
    {
     "data": {
      "text/html": [
       "<div>\n",
       "<style scoped>\n",
       "    .dataframe tbody tr th:only-of-type {\n",
       "        vertical-align: middle;\n",
       "    }\n",
       "\n",
       "    .dataframe tbody tr th {\n",
       "        vertical-align: top;\n",
       "    }\n",
       "\n",
       "    .dataframe thead th {\n",
       "        text-align: right;\n",
       "    }\n",
       "</style>\n",
       "<table border=\"1\" class=\"dataframe\">\n",
       "  <thead>\n",
       "    <tr style=\"text-align: right;\">\n",
       "      <th></th>\n",
       "      <th>text</th>\n",
       "      <th>label</th>\n",
       "    </tr>\n",
       "  </thead>\n",
       "  <tbody>\n",
       "    <tr>\n",
       "      <th>0</th>\n",
       "      <td>If you haven't gone here GO NOW!</td>\n",
       "      <td>1</td>\n",
       "    </tr>\n",
       "    <tr>\n",
       "      <th>1</th>\n",
       "      <td>Try them in the airport to experience some tas...</td>\n",
       "      <td>1</td>\n",
       "    </tr>\n",
       "    <tr>\n",
       "      <th>2</th>\n",
       "      <td>The restaurant is very clean and has a family ...</td>\n",
       "      <td>1</td>\n",
       "    </tr>\n",
       "    <tr>\n",
       "      <th>3</th>\n",
       "      <td>I personally love the hummus, pita, baklava, f...</td>\n",
       "      <td>1</td>\n",
       "    </tr>\n",
       "    <tr>\n",
       "      <th>4</th>\n",
       "      <td>Come hungry, leave happy and stuffed!</td>\n",
       "      <td>1</td>\n",
       "    </tr>\n",
       "    <tr>\n",
       "      <th>5</th>\n",
       "      <td>It's a great place and I highly recommend it.</td>\n",
       "      <td>1</td>\n",
       "    </tr>\n",
       "    <tr>\n",
       "      <th>6</th>\n",
       "      <td>Best of luck to the rude and non-customer serv...</td>\n",
       "      <td>0</td>\n",
       "    </tr>\n",
       "    <tr>\n",
       "      <th>7</th>\n",
       "      <td>Reasonably priced also!</td>\n",
       "      <td>1</td>\n",
       "    </tr>\n",
       "    <tr>\n",
       "      <th>8</th>\n",
       "      <td>Worst food/service I've had in a while.</td>\n",
       "      <td>0</td>\n",
       "    </tr>\n",
       "    <tr>\n",
       "      <th>9</th>\n",
       "      <td>I had a seriously solid breakfast here.</td>\n",
       "      <td>1</td>\n",
       "    </tr>\n",
       "  </tbody>\n",
       "</table>\n",
       "</div>"
      ],
      "text/plain": [
       "                                                text  label\n",
       "0                   If you haven't gone here GO NOW!      1\n",
       "1  Try them in the airport to experience some tas...      1\n",
       "2  The restaurant is very clean and has a family ...      1\n",
       "3  I personally love the hummus, pita, baklava, f...      1\n",
       "4              Come hungry, leave happy and stuffed!      1\n",
       "5      It's a great place and I highly recommend it.      1\n",
       "6  Best of luck to the rude and non-customer serv...      0\n",
       "7                            Reasonably priced also!      1\n",
       "8            Worst food/service I've had in a while.      0\n",
       "9            I had a seriously solid breakfast here.      1"
      ]
     },
     "execution_count": 7,
     "metadata": {},
     "output_type": "execute_result"
    }
   ],
   "source": [
    "restaurant_df = pd.read_csv(RESTAURANT_DATA)\n",
    "restaurant_df.columns = ['text', 'label']\n",
    "shuffled_restaurant_df = restaurant_df.sample(frac=1, random_state=42)\n",
    "shuffled_restaurant_df = shuffled_restaurant_df.reset_index(drop=True)\n",
    "shuffled_restaurant_df.head(10)"
   ]
  },
  {
   "cell_type": "code",
   "execution_count": 8,
   "id": "d08336a7-ce8f-4ef0-8df3-390bb90fe525",
   "metadata": {},
   "outputs": [
    {
     "data": {
      "text/plain": [
       "1000"
      ]
     },
     "execution_count": 8,
     "metadata": {},
     "output_type": "execute_result"
    }
   ],
   "source": [
    "len(restaurant_df)"
   ]
  },
  {
   "cell_type": "code",
   "execution_count": 9,
   "id": "940c78d9-7cae-4e0c-85b0-606eb96e91a7",
   "metadata": {},
   "outputs": [
    {
     "data": {
      "text/html": [
       "<div>\n",
       "<style scoped>\n",
       "    .dataframe tbody tr th:only-of-type {\n",
       "        vertical-align: middle;\n",
       "    }\n",
       "\n",
       "    .dataframe tbody tr th {\n",
       "        vertical-align: top;\n",
       "    }\n",
       "\n",
       "    .dataframe thead th {\n",
       "        text-align: right;\n",
       "    }\n",
       "</style>\n",
       "<table border=\"1\" class=\"dataframe\">\n",
       "  <thead>\n",
       "    <tr style=\"text-align: right;\">\n",
       "      <th></th>\n",
       "      <th>text</th>\n",
       "      <th>label</th>\n",
       "    </tr>\n",
       "  </thead>\n",
       "  <tbody>\n",
       "    <tr>\n",
       "      <th>8812</th>\n",
       "      <td>good question. Nepal PM declaring to resign a...</td>\n",
       "      <td>1</td>\n",
       "    </tr>\n",
       "    <tr>\n",
       "      <th>10802</th>\n",
       "      <td>i just saw your performance on the ellen sho...</td>\n",
       "      <td>1</td>\n",
       "    </tr>\n",
       "    <tr>\n",
       "      <th>5397</th>\n",
       "      <td>nooo... as a font connoisseur i can totally r...</td>\n",
       "      <td>0</td>\n",
       "    </tr>\n",
       "    <tr>\n",
       "      <th>13806</th>\n",
       "      <td>i really am going to miss you</td>\n",
       "      <td>0</td>\n",
       "    </tr>\n",
       "    <tr>\n",
       "      <th>10064</th>\n",
       "      <td>Ahhh I`m engulfed in shooooes. Who told me to ...</td>\n",
       "      <td>0</td>\n",
       "    </tr>\n",
       "    <tr>\n",
       "      <th>2087</th>\n",
       "      <td>working from home and ran out of coffee!</td>\n",
       "      <td>0</td>\n",
       "    </tr>\n",
       "    <tr>\n",
       "      <th>123</th>\n",
       "      <td>thats the crazy part - was for 16:30. but rea...</td>\n",
       "      <td>0</td>\n",
       "    </tr>\n",
       "    <tr>\n",
       "      <th>2906</th>\n",
       "      <td>has has an ok day with jo. She bit me and now ...</td>\n",
       "      <td>0</td>\n",
       "    </tr>\n",
       "    <tr>\n",
       "      <th>8610</th>\n",
       "      <td>it`s the best day ever. it`s my birthday</td>\n",
       "      <td>1</td>\n",
       "    </tr>\n",
       "    <tr>\n",
       "      <th>2927</th>\n",
       "      <td>what about me  I miss you too!</td>\n",
       "      <td>0</td>\n",
       "    </tr>\n",
       "  </tbody>\n",
       "</table>\n",
       "</div>"
      ],
      "text/plain": [
       "                                                    text label\n",
       "8812    good question. Nepal PM declaring to resign a...     1\n",
       "10802    i just saw your performance on the ellen sho...     1\n",
       "5397    nooo... as a font connoisseur i can totally r...     0\n",
       "13806                      i really am going to miss you     0\n",
       "10064  Ahhh I`m engulfed in shooooes. Who told me to ...     0\n",
       "2087            working from home and ran out of coffee!     0\n",
       "123     thats the crazy part - was for 16:30. but rea...     0\n",
       "2906   has has an ok day with jo. She bit me and now ...     0\n",
       "8610            it`s the best day ever. it`s my birthday     1\n",
       "2927                      what about me  I miss you too!     0"
      ]
     },
     "execution_count": 9,
     "metadata": {},
     "output_type": "execute_result"
    }
   ],
   "source": [
    "review_df = pd.read_csv(REVIEW_DATA, encoding=encoding)[['text','sentiment']]\n",
    "review_df['label'] = review_df['sentiment'].replace({'positive': 1, 'negative': 0})\n",
    "review_df = review_df[review_df['sentiment'] != 'neutral']\n",
    "review_df = review_df.drop(columns=['sentiment']) \n",
    "shuffled_review_df = review_df.sample(frac=1, random_state=42)\n",
    "shuffled_review_df = shuffled_review_df.reset_index(drop=True)\n",
    "sample_review_df = shuffled_review_df.sample(n=2500, random_state=42)\n",
    "sample_review_df.head(10)"
   ]
  },
  {
   "cell_type": "code",
   "execution_count": 10,
   "id": "c3c845cb-7edc-4c04-96fa-7e847f9922e7",
   "metadata": {},
   "outputs": [
    {
     "data": {
      "text/plain": [
       "2500"
      ]
     },
     "execution_count": 10,
     "metadata": {},
     "output_type": "execute_result"
    }
   ],
   "source": [
    "len(sample_review_df)"
   ]
  },
  {
   "cell_type": "code",
   "execution_count": 11,
   "id": "7cca1776-aa17-42c7-8db1-ad4b8225e2e9",
   "metadata": {},
   "outputs": [
    {
     "data": {
      "text/html": [
       "<div>\n",
       "<style scoped>\n",
       "    .dataframe tbody tr th:only-of-type {\n",
       "        vertical-align: middle;\n",
       "    }\n",
       "\n",
       "    .dataframe tbody tr th {\n",
       "        vertical-align: top;\n",
       "    }\n",
       "\n",
       "    .dataframe thead th {\n",
       "        text-align: right;\n",
       "    }\n",
       "</style>\n",
       "<table border=\"1\" class=\"dataframe\">\n",
       "  <thead>\n",
       "    <tr style=\"text-align: right;\">\n",
       "      <th></th>\n",
       "      <th>text</th>\n",
       "      <th>label</th>\n",
       "    </tr>\n",
       "  </thead>\n",
       "  <tbody>\n",
       "    <tr>\n",
       "      <th>8812</th>\n",
       "      <td>good question. Nepal PM declaring to resign a...</td>\n",
       "      <td>1</td>\n",
       "    </tr>\n",
       "    <tr>\n",
       "      <th>10802</th>\n",
       "      <td>i just saw your performance on the ellen sho...</td>\n",
       "      <td>1</td>\n",
       "    </tr>\n",
       "    <tr>\n",
       "      <th>5397</th>\n",
       "      <td>nooo... as a font connoisseur i can totally r...</td>\n",
       "      <td>0</td>\n",
       "    </tr>\n",
       "    <tr>\n",
       "      <th>13806</th>\n",
       "      <td>i really am going to miss you</td>\n",
       "      <td>0</td>\n",
       "    </tr>\n",
       "    <tr>\n",
       "      <th>10064</th>\n",
       "      <td>Ahhh I`m engulfed in shooooes. Who told me to ...</td>\n",
       "      <td>0</td>\n",
       "    </tr>\n",
       "  </tbody>\n",
       "</table>\n",
       "</div>"
      ],
      "text/plain": [
       "                                                    text label\n",
       "8812    good question. Nepal PM declaring to resign a...     1\n",
       "10802    i just saw your performance on the ellen sho...     1\n",
       "5397    nooo... as a font connoisseur i can totally r...     0\n",
       "13806                      i really am going to miss you     0\n",
       "10064  Ahhh I`m engulfed in shooooes. Who told me to ...     0"
      ]
     },
     "execution_count": 11,
     "metadata": {},
     "output_type": "execute_result"
    }
   ],
   "source": [
    "all_data = pd.concat([sample_review_df, shuffled_restaurant_df,sample_imbd_df])\n",
    "all_data.head()"
   ]
  },
  {
   "cell_type": "code",
   "execution_count": 12,
   "id": "504ce2bd-99d9-4d4f-8f29-a1830aaf1722",
   "metadata": {},
   "outputs": [
    {
     "data": {
      "text/plain": [
       "6000"
      ]
     },
     "execution_count": 12,
     "metadata": {},
     "output_type": "execute_result"
    }
   ],
   "source": [
    "len(all_data)"
   ]
  },
  {
   "cell_type": "code",
   "execution_count": 13,
   "id": "9ed99fac-77e9-4eee-896a-8c6bc74a7fc4",
   "metadata": {},
   "outputs": [],
   "source": [
    "all_data.to_csv('./data/reviews-dataset.csv', index=False)"
   ]
  },
  {
   "cell_type": "code",
   "execution_count": null,
   "id": "07921dd0-300a-420c-9586-64830049fa1b",
   "metadata": {},
   "outputs": [],
   "source": []
  }
 ],
 "metadata": {
  "kernelspec": {
   "display_name": "Python 3 (ipykernel)",
   "language": "python",
   "name": "python3"
  },
  "language_info": {
   "codemirror_mode": {
    "name": "ipython",
    "version": 3
   },
   "file_extension": ".py",
   "mimetype": "text/x-python",
   "name": "python",
   "nbconvert_exporter": "python",
   "pygments_lexer": "ipython3",
   "version": "3.10.12"
  }
 },
 "nbformat": 4,
 "nbformat_minor": 5
}
