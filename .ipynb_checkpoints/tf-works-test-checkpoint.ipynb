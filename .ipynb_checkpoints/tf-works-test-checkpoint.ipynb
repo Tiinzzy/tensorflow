{
 "cells": [
  {
   "cell_type": "code",
   "execution_count": 48,
   "id": "fb1d5f2c-cec6-45d5-a4b2-43f631e0c618",
   "metadata": {},
   "outputs": [],
   "source": [
    "import tensorflow as tf\n",
    "import numpy as np"
   ]
  },
  {
   "cell_type": "code",
   "execution_count": 14,
   "id": "153d6d1d-cf27-4e8c-bc29-b8a93b9a602a",
   "metadata": {},
   "outputs": [
    {
     "name": "stdout",
     "output_type": "stream",
     "text": [
      "TensorFlow version: 2.13.0\n"
     ]
    }
   ],
   "source": [
    "print(\"TensorFlow version:\", tf.__version__)"
   ]
  },
  {
   "cell_type": "code",
   "execution_count": 15,
   "id": "47e283dd-14f8-4b68-922f-928a67d3ffc5",
   "metadata": {},
   "outputs": [],
   "source": [
    "mnist = tf.keras.datasets.mnist"
   ]
  },
  {
   "cell_type": "code",
   "execution_count": 18,
   "id": "1ae9c208-1608-4a7d-b6f0-49f2e680f283",
   "metadata": {},
   "outputs": [
    {
     "name": "stdout",
     "output_type": "stream",
     "text": [
      "Downloading data from https://storage.googleapis.com/tensorflow/tf-keras-datasets/mnist.npz\n",
      "11490434/11490434 [==============================] - 1s 0us/step\n"
     ]
    }
   ],
   "source": [
    "(x_train, y_train), (x_test, y_test) = mnist.load_data()\n",
    "x_train, x_test = x_train / 255.0, x_test / 255.0"
   ]
  },
  {
   "cell_type": "code",
   "execution_count": 19,
   "id": "e2b12921-6510-472d-a45b-5b55e8c96a99",
   "metadata": {},
   "outputs": [],
   "source": [
    "model = tf.keras.models.Sequential([\n",
    "  tf.keras.layers.Flatten(input_shape=(28, 28)),\n",
    "  tf.keras.layers.Dense(128, activation='relu'),\n",
    "  tf.keras.layers.Dropout(0.2),\n",
    "  tf.keras.layers.Dense(10)\n",
    "])"
   ]
  },
  {
   "cell_type": "code",
   "execution_count": 20,
   "id": "c0323b2d-4918-43ee-b024-a559eb8d0d1b",
   "metadata": {},
   "outputs": [
    {
     "data": {
      "text/plain": [
       "array([[-0.64359236, -0.207425  ,  0.01004409,  0.21902214,  0.22425792,\n",
       "        -0.07670075,  0.00925974,  0.6867604 , -0.40951863, -0.62623227]],\n",
       "      dtype=float32)"
      ]
     },
     "execution_count": 20,
     "metadata": {},
     "output_type": "execute_result"
    }
   ],
   "source": [
    "predictions = model(x_train[:1]).numpy()\n",
    "predictions"
   ]
  },
  {
   "cell_type": "code",
   "execution_count": 21,
   "id": "beccf3da-8457-48f9-af7e-3ab81a4b601d",
   "metadata": {},
   "outputs": [
    {
     "data": {
      "text/plain": [
       "array([[0.05272083, 0.08154687, 0.10135681, 0.12491395, 0.12556969,\n",
       "        0.09293517, 0.10127733, 0.19941007, 0.0666253 , 0.05364405]],\n",
       "      dtype=float32)"
      ]
     },
     "execution_count": 21,
     "metadata": {},
     "output_type": "execute_result"
    }
   ],
   "source": [
    "tf.nn.softmax(predictions).numpy()"
   ]
  },
  {
   "cell_type": "code",
   "execution_count": 24,
   "id": "f1f72250-73b0-4023-a420-2f3bfb173be2",
   "metadata": {},
   "outputs": [],
   "source": [
    "loss_fn = tf.keras.losses.SparseCategoricalCrossentropy(from_logits=True)"
   ]
  },
  {
   "cell_type": "code",
   "execution_count": 25,
   "id": "b1c1d945-0174-48cc-a0a3-2dd591661910",
   "metadata": {},
   "outputs": [
    {
     "data": {
      "text/plain": [
       "2.375853"
      ]
     },
     "execution_count": 25,
     "metadata": {},
     "output_type": "execute_result"
    }
   ],
   "source": [
    "loss_fn(y_train[:1], predictions).numpy()"
   ]
  },
  {
   "cell_type": "code",
   "execution_count": 26,
   "id": "c3f5174b-1689-4014-97c4-c71b144fd992",
   "metadata": {},
   "outputs": [],
   "source": [
    "model.compile(optimizer='adam',\n",
    "              loss=loss_fn,\n",
    "              metrics=['accuracy'])"
   ]
  },
  {
   "cell_type": "code",
   "execution_count": 27,
   "id": "841bc8ec-1411-4dbd-a8c9-db91d26e7926",
   "metadata": {},
   "outputs": [
    {
     "name": "stderr",
     "output_type": "stream",
     "text": [
      "2023-09-09 10:11:50.370720: W tensorflow/tsl/framework/cpu_allocator_impl.cc:83] Allocation of 188160000 exceeds 10% of free system memory.\n"
     ]
    },
    {
     "name": "stdout",
     "output_type": "stream",
     "text": [
      "Epoch 1/5\n",
      "1875/1875 [==============================] - 3s 2ms/step - loss: 0.2938 - accuracy: 0.9149\n",
      "Epoch 2/5\n",
      "1875/1875 [==============================] - 3s 2ms/step - loss: 0.1414 - accuracy: 0.9574\n",
      "Epoch 3/5\n",
      "1875/1875 [==============================] - 3s 2ms/step - loss: 0.1044 - accuracy: 0.9672\n",
      "Epoch 4/5\n",
      "1875/1875 [==============================] - 3s 2ms/step - loss: 0.0873 - accuracy: 0.9722\n",
      "Epoch 5/5\n",
      "1875/1875 [==============================] - 3s 2ms/step - loss: 0.0755 - accuracy: 0.9756\n"
     ]
    },
    {
     "data": {
      "text/plain": [
       "<keras.src.callbacks.History at 0x7ff9a86d0340>"
      ]
     },
     "execution_count": 27,
     "metadata": {},
     "output_type": "execute_result"
    }
   ],
   "source": [
    "model.fit(x_train, y_train, epochs=5)"
   ]
  },
  {
   "cell_type": "code",
   "execution_count": 28,
   "id": "fd102090-2603-4db2-8a6a-7b6f71d677c9",
   "metadata": {},
   "outputs": [
    {
     "name": "stderr",
     "output_type": "stream",
     "text": [
      "2023-09-09 10:12:26.637881: W tensorflow/tsl/framework/cpu_allocator_impl.cc:83] Allocation of 31360000 exceeds 10% of free system memory.\n"
     ]
    },
    {
     "name": "stdout",
     "output_type": "stream",
     "text": [
      "313/313 - 0s - loss: 0.0707 - accuracy: 0.9773 - 325ms/epoch - 1ms/step\n"
     ]
    },
    {
     "data": {
      "text/plain": [
       "[0.07072709500789642, 0.9772999882698059]"
      ]
     },
     "execution_count": 28,
     "metadata": {},
     "output_type": "execute_result"
    }
   ],
   "source": [
    "model.evaluate(x_test,  y_test, verbose=2)"
   ]
  },
  {
   "cell_type": "code",
   "execution_count": 29,
   "id": "85a23b7a-5dd1-4ae3-80e6-984cb61211b7",
   "metadata": {},
   "outputs": [],
   "source": [
    "probability_model = tf.keras.Sequential([\n",
    "  model,\n",
    "  tf.keras.layers.Softmax()\n",
    "])"
   ]
  },
  {
   "cell_type": "code",
   "execution_count": 31,
   "id": "ae1d33eb-817f-46d2-8937-2229375ac795",
   "metadata": {},
   "outputs": [],
   "source": [
    "p = probability_model(x_test[:5])"
   ]
  },
  {
   "cell_type": "code",
   "execution_count": 45,
   "id": "003eba7d-6fc4-40e3-8a7e-71b60b70aaa7",
   "metadata": {},
   "outputs": [],
   "source": [
    "p = p.numpy()"
   ]
  },
  {
   "cell_type": "code",
   "execution_count": 51,
   "id": "db118e2c-dace-496a-a9c0-bc6c52839ae1",
   "metadata": {},
   "outputs": [
    {
     "data": {
      "text/plain": [
       "2.047252e-15"
      ]
     },
     "execution_count": 51,
     "metadata": {},
     "output_type": "execute_result"
    }
   ],
   "source": [
    "np.amin(p)"
   ]
  },
  {
   "cell_type": "code",
   "execution_count": 50,
   "id": "84373f52-4071-4260-aefa-f3017c0efb48",
   "metadata": {},
   "outputs": [
    {
     "data": {
      "text/plain": [
       "array([[9.20902963e-08, 6.82773749e-09, 6.23861240e-07, 8.49913849e-05,\n",
       "        2.34452150e-12, 1.71150205e-07, 1.35811325e-13, 9.99912620e-01,\n",
       "        2.58279371e-08, 1.47877290e-06],\n",
       "       [3.10759907e-09, 9.89908949e-05, 9.99613941e-01, 2.85952992e-04,\n",
       "        2.04725195e-15, 9.98929934e-08, 1.33516096e-08, 1.28750873e-12,\n",
       "        1.10797203e-06, 3.28232511e-11],\n",
       "       [1.05231329e-07, 9.98210192e-01, 9.09499722e-05, 1.34540705e-05,\n",
       "        2.11139166e-04, 6.43510793e-05, 1.72070177e-05, 1.23359158e-03,\n",
       "        1.56207912e-04, 2.80573704e-06],\n",
       "       [9.99579489e-01, 1.24892197e-09, 4.49719373e-05, 9.10306608e-06,\n",
       "        7.69562917e-07, 1.18678263e-05, 1.00995630e-05, 1.00579397e-04,\n",
       "        1.63789409e-07, 2.43029994e-04],\n",
       "       [8.17351247e-06, 1.27595101e-07, 1.49856729e-04, 4.87025864e-06,\n",
       "        8.62442911e-01, 4.22198827e-05, 3.97085159e-06, 2.32067236e-04,\n",
       "        2.67866781e-05, 1.37089014e-01]], dtype=float32)"
      ]
     },
     "execution_count": 50,
     "metadata": {},
     "output_type": "execute_result"
    }
   ],
   "source": [
    "p"
   ]
  }
 ],
 "metadata": {
  "kernelspec": {
   "display_name": "Python 3 (ipykernel)",
   "language": "python",
   "name": "python3"
  },
  "language_info": {
   "codemirror_mode": {
    "name": "ipython",
    "version": 3
   },
   "file_extension": ".py",
   "mimetype": "text/x-python",
   "name": "python",
   "nbconvert_exporter": "python",
   "pygments_lexer": "ipython3",
   "version": "3.10.12"
  }
 },
 "nbformat": 4,
 "nbformat_minor": 5
}
