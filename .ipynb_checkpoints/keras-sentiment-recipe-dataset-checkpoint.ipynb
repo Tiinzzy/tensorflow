{
 "cells": [
  {
   "cell_type": "code",
   "execution_count": 1,
   "id": "6e7d32e2-5571-4253-b6e6-4998f4803d07",
   "metadata": {},
   "outputs": [
    {
     "name": "stderr",
     "output_type": "stream",
     "text": [
      "2023-09-12 17:13:05.432592: I tensorflow/tsl/cuda/cudart_stub.cc:28] Could not find cuda drivers on your machine, GPU will not be used.\n",
      "2023-09-12 17:13:05.468761: I tensorflow/tsl/cuda/cudart_stub.cc:28] Could not find cuda drivers on your machine, GPU will not be used.\n",
      "2023-09-12 17:13:05.469179: I tensorflow/core/platform/cpu_feature_guard.cc:182] This TensorFlow binary is optimized to use available CPU instructions in performance-critical operations.\n",
      "To enable the following instructions: AVX2 FMA, in other operations, rebuild TensorFlow with the appropriate compiler flags.\n",
      "2023-09-12 17:13:06.155450: W tensorflow/compiler/tf2tensorrt/utils/py_utils.cc:38] TF-TRT Warning: Could not find TensorRT\n"
     ]
    }
   ],
   "source": [
    "import os\n",
    "import numpy as np\n",
    "import pandas as pd\n",
    "import tensorflow as tf\n",
    "from keras.preprocessing.text import Tokenizer\n",
    "from keras.preprocessing.sequence import pad_sequences\n",
    "from keras import models, layers"
   ]
  },
  {
   "cell_type": "code",
   "execution_count": 2,
   "id": "7ae85f27-3e44-4332-b3e0-7e3ddaaffffc",
   "metadata": {},
   "outputs": [],
   "source": [
    "num_threads = 5\n",
    "os.environ[\"OMP_NUM_THREADS\"] = \"5\"\n",
    "os.environ[\"TF_NUM_INTRAOP_THREADS\"] = \"5\"\n",
    "os.environ[\"TF_NUM_INTEROP_THREADS\"] = \"5\"\n",
    "tf.config.threading.set_inter_op_parallelism_threads(num_threads)\n",
    "tf.config.threading.set_intra_op_parallelism_threads(num_threads)\n",
    "tf.config.set_soft_device_placement(True)"
   ]
  },
  {
   "cell_type": "code",
   "execution_count": 3,
   "id": "db4fe10c-41d5-4627-8a3c-c7efb229f991",
   "metadata": {},
   "outputs": [],
   "source": [
    "dataset = pd.read_csv('./data/recipe-dataset.csv')\n",
    "texts = dataset['text'].astype(str)\n",
    "labels = dataset['label']"
   ]
  },
  {
   "cell_type": "code",
   "execution_count": 59,
   "id": "d723d943-5291-4bf8-90ce-9285c2d29342",
   "metadata": {},
   "outputs": [],
   "source": [
    "max_words = 500\n",
    "tokenizer = Tokenizer(num_words=max_words)\n",
    "tokenizer.fit_on_texts(texts)\n",
    "sequences = tokenizer.texts_to_sequences(texts)\n",
    "data = pad_sequences(sequences, maxlen=max_words) "
   ]
  },
  {
   "cell_type": "code",
   "execution_count": 60,
   "id": "5c487551-1753-4427-9586-02bae69cef94",
   "metadata": {},
   "outputs": [],
   "source": [
    "targets = np.array(labels).astype(\"float32\")"
   ]
  },
  {
   "cell_type": "code",
   "execution_count": 61,
   "id": "4b1133c9-d298-410d-b28f-e8ab2c2adb17",
   "metadata": {},
   "outputs": [],
   "source": [
    "test_x = data[:1500] \n",
    "test_y = targets[:1500]\n",
    "train_x = data[1500:]\n",
    "train_y = targets[1500:]"
   ]
  },
  {
   "cell_type": "code",
   "execution_count": 62,
   "id": "80c10806-384c-4540-9e7b-94ee8d7e07d2",
   "metadata": {},
   "outputs": [
    {
     "data": {
      "text/plain": [
       "(959, 134, 500)"
      ]
     },
     "execution_count": 62,
     "metadata": {},
     "output_type": "execute_result"
    }
   ],
   "source": [
    "len(texts[0]), len(sequences[0]), len(data[0])"
   ]
  },
  {
   "cell_type": "code",
   "execution_count": 63,
   "id": "fa863eb9-2b26-44f6-a08a-b1e4306efee5",
   "metadata": {},
   "outputs": [
    {
     "name": "stdout",
     "output_type": "stream",
     "text": [
      "Model: \"sequential_1\"\n",
      "_________________________________________________________________\n",
      " Layer (type)                Output Shape              Param #   \n",
      "=================================================================\n",
      " dense_4 (Dense)             (None, 50)                25050     \n",
      "                                                                 \n",
      " dropout_2 (Dropout)         (None, 50)                0         \n",
      "                                                                 \n",
      " dense_5 (Dense)             (None, 50)                2550      \n",
      "                                                                 \n",
      " dropout_3 (Dropout)         (None, 50)                0         \n",
      "                                                                 \n",
      " dense_6 (Dense)             (None, 50)                2550      \n",
      "                                                                 \n",
      " dense_7 (Dense)             (None, 1)                 51        \n",
      "                                                                 \n",
      "=================================================================\n",
      "Total params: 30201 (117.97 KB)\n",
      "Trainable params: 30201 (117.97 KB)\n",
      "Non-trainable params: 0 (0.00 Byte)\n",
      "_________________________________________________________________\n"
     ]
    }
   ],
   "source": [
    "model = models.Sequential()\n",
    "model.add(layers.Dense(50, activation=\"relu\", input_shape=(max_words,)))\n",
    "model.add(layers.Dropout(0.3, noise_shape=None, seed=None))\n",
    "model.add(layers.Dense(50, activation=\"relu\"))\n",
    "model.add(layers.Dropout(0.2, noise_shape=None, seed=None))\n",
    "model.add(layers.Dense(50, activation=\"relu\"))\n",
    "model.add(layers.Dense(1, activation=\"sigmoid\"))\n",
    "model.summary()"
   ]
  },
  {
   "cell_type": "code",
   "execution_count": 64,
   "id": "43cc1678-bce8-477b-b1e9-3fc862ad0ec0",
   "metadata": {},
   "outputs": [
    {
     "name": "stdout",
     "output_type": "stream",
     "text": [
      "Epoch 1/5\n",
      "58/58 [==============================] - 1s 4ms/step - loss: 1.4569 - accuracy: 0.7609 - val_loss: 0.3527 - val_accuracy: 0.9000\n",
      "Epoch 2/5\n",
      "58/58 [==============================] - 0s 2ms/step - loss: 0.6537 - accuracy: 0.8518 - val_loss: 0.2527 - val_accuracy: 0.9120\n",
      "Epoch 3/5\n",
      "58/58 [==============================] - 0s 2ms/step - loss: 0.4620 - accuracy: 0.8638 - val_loss: 0.2369 - val_accuracy: 0.9113\n",
      "Epoch 4/5\n",
      "58/58 [==============================] - 0s 2ms/step - loss: 0.3676 - accuracy: 0.8846 - val_loss: 0.2247 - val_accuracy: 0.9207\n",
      "Epoch 5/5\n",
      "58/58 [==============================] - 0s 2ms/step - loss: 0.3212 - accuracy: 0.8961 - val_loss: 0.2275 - val_accuracy: 0.9140\n"
     ]
    }
   ],
   "source": [
    "model.compile(optimizer=\"adam\", loss=\"binary_crossentropy\", metrics=[\"accuracy\"])\n",
    "results = model.fit(train_x, train_y, epochs=5, batch_size=32, validation_data=(test_x, test_y))"
   ]
  },
  {
   "cell_type": "code",
   "execution_count": 65,
   "id": "3a662119-f4ca-4a12-aa0b-b202ecb03ba9",
   "metadata": {},
   "outputs": [
    {
     "name": "stdout",
     "output_type": "stream",
     "text": [
      "Accuracy: 91.40%\n"
     ]
    }
   ],
   "source": [
    "scores = model.evaluate(test_x, test_y, verbose=0)\n",
    "print(\"Accuracy: %.2f%%\" % (scores[1] * 100))"
   ]
  },
  {
   "cell_type": "code",
   "execution_count": 66,
   "id": "7e4dcc8a-9bbe-4125-81bf-15eadbfe5fa1",
   "metadata": {},
   "outputs": [
    {
     "name": "stdout",
     "output_type": "stream",
     "text": [
      "INFO:tensorflow:Assets written to: ./data/keras-recipe-sentiment.mdl/assets\n"
     ]
    },
    {
     "name": "stderr",
     "output_type": "stream",
     "text": [
      "INFO:tensorflow:Assets written to: ./data/keras-recipe-sentiment.mdl/assets\n"
     ]
    },
    {
     "name": "stdout",
     "output_type": "stream",
     "text": [
      "Loaded Model Accuracy: 91.40%\n"
     ]
    }
   ],
   "source": [
    "model.save('./data/keras-recipe-sentiment.mdl')\n",
    "loaded_model = models.load_model('./data/keras-recipe-sentiment.mdl')\n",
    "scores = loaded_model.evaluate(test_x, test_y, verbose=0)\n",
    "print(\"Loaded Model Accuracy: %.2f%%\" % (scores[1] * 100))"
   ]
  },
  {
   "cell_type": "code",
   "execution_count": 89,
   "id": "83cec5c9-4046-4319-a190-9c9b1120a119",
   "metadata": {},
   "outputs": [
    {
     "name": "stdout",
     "output_type": "stream",
     "text": [
      "1/1 [==============================] - 0s 16ms/step\n",
      "[[1.]]\n"
     ]
    }
   ],
   "source": [
    "input_text = \"\"\"\n",
    "In a large bowl, whisk together 1 1/2 cups of the beet cooking liquid, the chicken stock, sour cream, yogurt, sugar, lemon juice, vinegar, 1 tablespoon salt, and the pepper. Peel the cooled beets with a small paring knife or rub the skins off with your hands. Cut the beets in small to medium dice. Add the beets, cucumber, scallions, and dill to the soup. Cover with plastic wrap and chill for at least 4 hours or overnight. Season, to taste, and serve cold with a dollop of sour cream and an extra sprig of fresh dill.\n",
    "\"\"\"\n",
    "\n",
    "input_sequence = tokenizer.texts_to_sequences([input_text])\n",
    "input_data = pad_sequences(input_sequence, maxlen=max_words)\n",
    "prediction = loaded_model.predict(input_data)\n",
    "print(prediction)"
   ]
  },
  {
   "cell_type": "code",
   "execution_count": 79,
   "id": "56eaa4bf-1dfd-4277-9eab-206c3185ee57",
   "metadata": {},
   "outputs": [],
   "source": []
  },
  {
   "cell_type": "code",
   "execution_count": 58,
   "id": "40df0d07-d550-4d00-9090-1ff17f3e0ac6",
   "metadata": {},
   "outputs": [
    {
     "data": {
      "text/plain": [
       "387.8722956730769"
      ]
     },
     "execution_count": 58,
     "metadata": {},
     "output_type": "execute_result"
    }
   ],
   "source": [
    "np.mean([len(t) for t in texts])"
   ]
  }
 ],
 "metadata": {
  "kernelspec": {
   "display_name": "Python 3 (ipykernel)",
   "language": "python",
   "name": "python3"
  },
  "language_info": {
   "codemirror_mode": {
    "name": "ipython",
    "version": 3
   },
   "file_extension": ".py",
   "mimetype": "text/x-python",
   "name": "python",
   "nbconvert_exporter": "python",
   "pygments_lexer": "ipython3",
   "version": "3.10.12"
  }
 },
 "nbformat": 4,
 "nbformat_minor": 5
}
